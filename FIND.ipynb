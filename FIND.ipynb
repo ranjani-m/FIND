{
 "cells": [
  {
   "cell_type": "code",
   "execution_count": 1,
   "metadata": {},
   "outputs": [],
   "source": [
    "\"\"\"\n",
    "   This section of the code simply sets up all possible variables we might want to change during training.\n",
    "\"\"\"\n",
    "import os, sys, random, gzip, optparse\n",
    "import numpy as np                     # Math and Deep Learning libraries\n",
    "import torch                \n",
    "import torch.nn as nn\n",
    "import torch.nn.functional as F\n",
    "from tqdm import tqdm                  # Pretty status bars\n",
    "from collections import defaultdict\n",
    "np.seterr(divide='ignore')             # Ignore divide by zero errors\n",
    "np.warnings.filterwarnings('ignore')\n",
    "\n",
    "# Use a GPU when possible\n",
    "device = torch.device(\"cuda:0\" if torch.cuda.is_available() else \"cpu\")\n",
    "\n",
    "parser = optparse.OptionParser(description='FIND')\n",
    "parser.add_option('--name',       type=str,            default='')\n",
    "parser.add_option('--batch-size', type=int,            default=32,    help='batch size')\n",
    "parser.add_option('--epochs',     type=int,            default=101,   help='number of epochs')\n",
    "parser.add_option('--hidden-dim', type=int,            default=256,   help='hidden dim')\n",
    "parser.add_option('--log',        type=str,            default='./logs/')\n",
    "parser.add_option('--load',       type=str,            default='',    help='Load model')\n",
    "parser.add_option('--load_test',  type=str,            default='',    help='Load specific test file')\n",
    "parser.add_option('--binary',     type=str,            default='',    help='Binary classifer based on argument')\n",
    "parser.add_option('--lr',         type=float,          default=5e-3)\n",
    "parser.add_option('--nitro',      action='store_true', default=False, help='Train/Test on nitrogenase')\n",
    "parser.add_option('--bd',         action='store_true', default=False, help='Train/Test on cytochrome bd oxidase')\n",
    "parser.add_option('--test',       action='store_true', default=False, help='Swap validation for test set')\n",
    "parser.add_option('--confusion',  action='store_true', default=False, help='If test, generate confusion matrix')\n",
    "parser.add_option('--pconfusion', action='store_true', default=False, help='sum probabilities for confusion')\n",
    "parser.add_option('--reweight',   action='store_true', default=False)\n",
    "\n",
    "\n",
    "sys.argv = sys.argv[3:]  # Remove pykernel launcher\n",
    "args, _ = parser.parse_args()"
   ]
  },
  {
   "cell_type": "code",
   "execution_count": 2,
   "metadata": {},
   "outputs": [],
   "source": [
    "###############################################################################\n",
    "##    Infrastructure to process Data into Numpy Arrays of Integers\n",
    "##    Here we specify the dataset (indicated by args.nitro, args.bd or default HCO)\n",
    "##    Then we convert letters to numbers via the acids dictionary.\n",
    "##    We also compute the set of function labels (optionally training with binary)\n",
    "###############################################################################\n",
    "DATA_DIR = \"data/\"\n",
    "acids = {' ':0, 'A':1, 'C':2, 'E':3, 'D':4, 'G':5, 'F':6, 'I':7, 'H':8, \\\n",
    "         'K':9, 'M':10, 'L':11, 'N':12, 'Q':13, 'P':14, 'S':15, 'R':16, \\\n",
    "         'T':17, 'W':18, 'V':19, 'Y':20, 'X':21 }\n",
    "ints = {}\n",
    "for v in acids:\n",
    "    ints[acids[v]] = v\n",
    "\n",
    "lbls = {}\n",
    "ilbls = {}\n",
    "\n",
    "if args.nitro:\n",
    "    labels_file = \"nitro.labels.txt\"\n",
    "elif args.bd:\n",
    "    labels_file = \"bd.labels.txt\"\n",
    "else:\n",
    "    labels_file = \"hco.labels.txt\"\n",
    "\n",
    "L = [line.strip() for line in open(DATA_DIR + labels_file,'r')]\n",
    "# For logging we will store details of our training regime in the file name\n",
    "run = \"binary\" if args.binary else \"multi\"\n",
    "run += \".e{}\".format(args.epochs)\n",
    "run += \".h{}\".format(args.hidden_dim)\n",
    "run += \".n{}\".format(args.name)\n",
    "if args.reweight:\n",
    "    run += \".reweight\"\n",
    "\n",
    "if len(args.binary) == 0:\n",
    "    for v in L:\n",
    "        lbls[v] = len(lbls)\n",
    "        ilbls[lbls[v]] = v\n",
    "    num_labels = len(lbls)\n",
    "else:\n",
    "    for v in L:\n",
    "        if v == args.binary:\n",
    "            lbls[v] = 1\n",
    "            ilbls[lbls[v]] = v\n",
    "        else:\n",
    "            lbls[v] = 0\n",
    "            ilbls[lbls[v]] = \"OTHER\"\n",
    "    print(lbls, ilbls)\n",
    "    num_labels = 2\n",
    "    run += \".\" + args.binary"
   ]
  },
  {
   "cell_type": "code",
   "execution_count": 3,
   "metadata": {},
   "outputs": [],
   "source": [
    "###############################################################################\n",
    "##    This block introduces helper functions\n",
    "##    to_int and to_string convert AAs back and forth between representations\n",
    "##    sort_data and pad_data help create batches of data of a fixed length to pass\n",
    "##      to the network.\n",
    "###############################################################################\n",
    "\n",
    "def to_int(seq):\n",
    "    \"\"\"   Map AA sequence to integers  \"\"\"\n",
    "    seq = seq.replace(\"*\",\"\")\n",
    "    conv = []\n",
    "    for i in range(len(seq)):\n",
    "        if seq[i] not in acids:\n",
    "            print(i, seq)\n",
    "        conv.append(acids[seq[i]])\n",
    "    return np.array(conv)\n",
    "\n",
    "def to_string(seq):\n",
    "    \"\"\"  Map ints to AA sequence  \"\"\"\n",
    "    return \"\".join([ints[s] for s in seq])\n",
    "\n",
    "def sort_data(inputs, outputs, strs=[]):\n",
    "    \"\"\" \n",
    "      Sorted by input length and then output length\n",
    "    \"\"\"\n",
    "    ignore_strs = False\n",
    "    if len(strs) == 0:\n",
    "        ignore_strs = True\n",
    "        strs = [\"\"]*len(inputs)\n",
    "    v = []\n",
    "    for i, o, s in zip(inputs, outputs, strs):\n",
    "        v.append((len(i), i, o, s))\n",
    "    v.sort(key=lambda x: x[0])\n",
    "\n",
    "    sorted_inputs = []\n",
    "    sorted_outputs = []\n",
    "    sorted_strs= []\n",
    "    for len_i, i, o, s in v:\n",
    "        sorted_inputs.append(i)\n",
    "        sorted_outputs.append(o)\n",
    "        sorted_strs.append(s)\n",
    "\n",
    "    if ignore_strs:\n",
    "        return sorted_inputs, sorted_outputs\n",
    "    else:\n",
    "        return sorted_inputs, sorted_outputs, sorted_strs\n",
    "\n",
    "def pad_data(inputs):\n",
    "    max_i = max([len(i) for i in inputs])\n",
    "  \n",
    "    padded_i = np.zeros((len(inputs), max_i), dtype=np.int64)\n",
    "    for i in range(len(inputs)):\n",
    "        padded_i[i, :len(inputs[i])] = np.copy(inputs[i])\n",
    "\n",
    "    return padded_i"
   ]
  },
  {
   "cell_type": "code",
   "execution_count": 4,
   "metadata": {},
   "outputs": [
    {
     "name": "stdout",
     "output_type": "stream",
     "text": [
      "Training counts\t\n",
      "A: 3471    C: 794    B: 574    QNOR: 284    ENOR: 217    SNOR: 144    CNOR: 103    D: 66    GNOR: 44    E: 42    BNOR: 34    NNOR: 32    F: 31    H: 16    I: 14    J: 11    G: 11    K: 5\n",
      "Train Inps:  5893\n",
      "Train Outs:  (5893,)\n",
      "Test  Inps:  812\n",
      "Test  Outs:  (812,)\n",
      "Labels\t {'QNOR': 0, 'H': 1, 'CNOR': 2, 'F': 3, 'GNOR': 4, 'I': 5, 'J': 6, 'K': 7, 'NNOR': 8, 'A': 9, 'BNOR': 10, 'ENOR': 11, 'C': 12, 'SNOR': 13, 'D': 14, 'B': 15, 'E': 16, 'G': 17}\n"
     ]
    }
   ],
   "source": [
    "###############################################################################\n",
    "##    Data is loaded, Train/Validation/Test, counted, converted to numbers and \n",
    "##    stored in numpy arrays.\n",
    "###############################################################################\n",
    "\"\"\" Data & Parameters \"\"\"\n",
    "if args.nitro:\n",
    "    prefix = \"nitro.labeled\" \n",
    "elif args.bd:\n",
    "    prefix = \"bd.labeled\"\n",
    "else:\n",
    "    prefix = \"hco.labeled\"\n",
    "\n",
    "data = [line.strip().split() for line in open(DATA_DIR + prefix + \".train\",'r')]\n",
    "if args.test:\n",
    "    val = [line.strip().split() for line in open(DATA_DIR + prefix + \".test\",'r')]\n",
    "elif args.load_test != '':\n",
    "    val = [line.strip().split() for line in open(args.load_test,'r')]\n",
    "else:\n",
    "    val = [line.strip().split() for line in open(DATA_DIR + prefix + \".val\",'r')]\n",
    "\n",
    "for vals in data:\n",
    "    if len(vals) != 2:\n",
    "        print(vals)\n",
    "strs = np.array([sequence for label, sequence in data])\n",
    "inputs = [to_int(sequence) for label, sequence in data]\n",
    "outputs = np.array([lbls[label] for label, sequence in data])\n",
    "\n",
    "print(\"Training counts\\t\")\n",
    "l_c = defaultdict(int) \n",
    "for v in outputs:\n",
    "    l_c[ilbls[v]] += 1\n",
    "V = [(l_c[v],v) for v in l_c]\n",
    "V.sort()\n",
    "V.reverse()\n",
    "print(\"    \".join([\"{}: {}\".format(lbl, cnt) for cnt,lbl in V]))\n",
    "\n",
    "count = np.zeros(len(ilbls), dtype=np.float32)\n",
    "\n",
    "for v in range(len(ilbls)):\n",
    "    if ilbls[v] in l_c:\n",
    "        count[v] += l_c[ilbls[v]]\n",
    "distr = 1. - count/np.sum(count)\n",
    "weight = torch.from_numpy(100*distr).to(device)\n",
    "\n",
    "inps, outs, strs = sort_data(inputs, outputs, strs)\n",
    "outs = np.array(outs)\n",
    "strs = np.array(strs)\n",
    "\n",
    "t_strs = np.array([sequence for label, sequence in val])\n",
    "t_inps = [to_int(sequence) for label, sequence in val]\n",
    "t_outs = np.array([lbls[label] for label, sequence in val])\n",
    "\n",
    "print(\"Train Inps: \", len(inputs))\n",
    "print(\"Train Outs: \", outputs.shape)\n",
    "print(\"Test  Inps: \", len(t_inps))\n",
    "print(\"Test  Outs: \", t_outs.shape)\n",
    "print(\"Labels\\t\",lbls)"
   ]
  },
  {
   "cell_type": "code",
   "execution_count": 5,
   "metadata": {},
   "outputs": [],
   "source": [
    "###############################################################################\n",
    "##    Model definition + Helper Functions\n",
    "###############################################################################\n",
    "class Net(nn.Module):\n",
    "    def __init__(self, width=3, RF=19):\n",
    "        \"\"\"\n",
    "           Build a stack of 1D convolutions with batch norm and ReLU activations\n",
    "           The final two convolutions are simply linear layers, then followed by\n",
    "           a prediction and attention layer.\n",
    "        \"\"\"\n",
    "        super(Net, self).__init__()\n",
    "        self.width = width\n",
    "        self.RF = RF\n",
    "    \n",
    "        self.embedding = nn.Embedding(len(acids), args.hidden_dim)\n",
    "        layers = [\n",
    "          nn.Conv1d(args.hidden_dim, args.hidden_dim, self.width),\n",
    "          nn.ReLU(),\n",
    "          nn.BatchNorm1d(args.hidden_dim),\n",
    "          nn.Conv1d(args.hidden_dim, args.hidden_dim, self.width*2),\n",
    "          nn.ReLU(),\n",
    "          nn.BatchNorm1d(args.hidden_dim),\n",
    "          nn.Conv1d(args.hidden_dim, args.hidden_dim, self.width*4),\n",
    "          nn.ReLU(),\n",
    "          nn.BatchNorm1d(args.hidden_dim),\n",
    "          nn.Conv1d(args.hidden_dim, args.hidden_dim, 1),\n",
    "          nn.ReLU(),\n",
    "          nn.Conv1d(args.hidden_dim, args.hidden_dim, 1),\n",
    "          nn.ReLU(),\n",
    "        ]\n",
    "\n",
    "        self.conv_stack = nn.Sequential(*layers)\n",
    "    \n",
    "        self.pred = nn.Conv1d(args.hidden_dim, num_labels, 1)\n",
    "        self.att = nn.Conv1d(args.hidden_dim, 1, 1)\n",
    "\n",
    "    def forward(self, x):\n",
    "        embed = self.embedding(x).permute(0,2,1)\n",
    "        embed = self.conv_stack(embed)\n",
    "\n",
    "        # Log probabilities for every class at every substring\n",
    "        logits = self.pred(embed)\n",
    "    \n",
    "        # Un-normalized weight of a given n-gram\n",
    "        att = self.att(embed)\n",
    "        # Reshape [b,L] --> [b,1,L]  -- and normalize\n",
    "        re_att = F.softmax(att.view(x.size()[0],1,-1), dim=-1)\n",
    "        # Rescale logits by attention weight\n",
    "        joint = re_att * logits\n",
    "        # Class distribution\n",
    "        collapsed = torch.sum(joint, 2)\n",
    "        return collapsed, att, logits\n",
    "\n",
    "    def reset_counts(self, epoch):\n",
    "        self.gold_counts = np.zeros(num_labels)\n",
    "        self.pred_counts = np.zeros(num_labels)\n",
    "        self.corr_counts = np.zeros(num_labels)\n",
    "        self.epoch = epoch\n",
    "\n",
    "    \"\"\" Helper Functions \"\"\"\n",
    "    def run_evaluation(self, v_inputs, v_outputs, aggregate=False, verbose=False):\n",
    "        net.train(mode=False)\n",
    "        \"\"\"\n",
    "          Run evaluation\n",
    "        \"\"\"\n",
    "        val_loss = 0.0\n",
    "        val_acc = []\n",
    "        gold_counts = np.zeros(num_labels)\n",
    "        pred_counts = np.zeros(num_labels)\n",
    "        corr_counts = np.zeros(num_labels)\n",
    "\n",
    "        if args.confusion:\n",
    "            pairs = np.zeros((num_labels, num_labels))\n",
    "\n",
    "        v_inps, v_outs = sort_data(v_inputs, v_outputs)\n",
    "        v_outs = np.array(v_outs)\n",
    "        batches = []\n",
    "        indices = list(range(len(v_inps)))\n",
    "        for start in range(0, len(indices), args.batch_size):\n",
    "            batches.append((start, min(args.batch_size, len(indices)-start)))\n",
    "\n",
    "        for start, b_size in tqdm(batches, ncols=80):\n",
    "            vals = indices[start : start + b_size]\n",
    "      \n",
    "            inputs = torch.from_numpy(pad_data(v_inps[indices[start]:indices[start+b_size-1]+1])).to(device)\n",
    "            labels = torch.from_numpy(v_outs[vals]).to(device)\n",
    "            logits, att, full = net(inputs)\n",
    "            att = F.softmax(torch.squeeze(att), dim=-1)\n",
    "            val_loss += F.cross_entropy(logits, labels).item()\n",
    "            _, preds = torch.max(logits, 1)\n",
    "      \n",
    "            preds = preds.data.cpu().numpy()\n",
    "            val_acc.extend(list((preds == v_outs[vals])))\n",
    "      \n",
    "            np.add.at(pred_counts, preds, 1)\n",
    "            np.add.at(gold_counts, v_outs[vals], 1)\n",
    "            np.add.at(corr_counts, preds[(preds == v_outs[vals])], 1)\n",
    "\n",
    "            if args.confusion:\n",
    "                if not args.pconfusion:\n",
    "                    np.add.at(pairs, [v_outs[vals], preds], 1)\n",
    "                else:\n",
    "                    dists = F.softmax(logits, -1)\n",
    "                    for i in range(len(vals)):\n",
    "                        gold = v_outs[vals][i]\n",
    "\n",
    "                        tmp = [(dists[i,j], j) for j in range(len(ilbls))]\n",
    "                        tmp.sort()\n",
    "                        prob, second = tmp[-2]\n",
    "                        pairs[gold, second] += 1\n",
    "\n",
    "            if aggregate:\n",
    "                self.aggregate_predictors(t_strs[vals], v_outs[vals], full, att)\n",
    "\n",
    "        if verbose:\n",
    "            if aggregate:\n",
    "                self.print_eval((gold_counts, pred_counts, corr_counts))\n",
    "            else:\n",
    "                self.print_eval((self.gold_counts, self.pred_counts, self.corr_counts), \n",
    "                               (gold_counts, pred_counts, corr_counts))\n",
    "\n",
    "        if args.confusion:\n",
    "            out = open(\"confusion.csv\", 'w')\n",
    "            out.write(\",\" + \",\".join([ilbls[i] for i in range(len(ilbls))]) + \"\\n\")\n",
    "            for i in range(len(ilbls)):\n",
    "                out.write(\"{},\".format(ilbls[i]))\n",
    "                for j in range(len(ilbls)):\n",
    "                    out.write(\"{},\".format(pairs[i,j]))\n",
    "                out.write(\"\\n\")\n",
    "            out.close()\n",
    "        return val_loss, 100*np.array(val_acc).mean()\n",
    "\n",
    "    def aggregate_predictors(self, seqs, outs, full, att):\n",
    "        dists = F.softmax(full.permute(0, 2, 1), dim=-1)\n",
    "        if dists.shape[0] == 1:\n",
    "            att = att.unsqueeze(0)  # batch size of 1 needs to be unsqueezed\n",
    "        vals = dists * att.unsqueeze(2)\n",
    "        for b in range(len(seqs)):\n",
    "            max_val = -1e10\n",
    "            max_predictor = \"NONE\"\n",
    "            max_class = -1\n",
    "            for i in range(len(att[0])):\n",
    "                predictor = seqs[b][i:i + self.RF]\n",
    "\n",
    "            for c in range(num_labels):\n",
    "                self.predictors[(predictor, c)] += vals[b,i,c].item() \n",
    "\n",
    "            cval, c = torch.max(vals[b,i,:], 0)\n",
    "            cval = cval.item()\n",
    "            if cval > max_val:\n",
    "                max_val = cval\n",
    "                max_predictor = predictor\n",
    "                max_class = c.item()\n",
    "            self.top_predictor.append((max_val, max_predictor, ilbls[max_class], \n",
    "                                       ilbls[outs[b]], seqs[b].strip()))\n",
    "\n",
    "\n",
    "    def print_predictors(self, epoch):\n",
    "        g = gzip.open(\"{}.predictors.{}.{}.joint.gz\".format(run, self.RF, epoch),'wt')\n",
    "        joint = defaultdict(list)\n",
    "        for seq, lbl in self.predictors:\n",
    "            joint[ilbls[lbl]].append((self.predictors[(seq, lbl)], seq))\n",
    "    \n",
    "        for lbl in joint:\n",
    "            vals = joint[lbl]\n",
    "            vals.sort()\n",
    "            vals.reverse()\n",
    "            for val, seq in vals:\n",
    "                g.write(\"{:5} {:30} {}\\n\".format(lbl, seq, val))\n",
    "            g.write(\"\\n\")\n",
    "        g.close()\n",
    "   \n",
    "        start = \"nitro\" if args.nitro else \"bd\" if args.bd else \"hco\"\n",
    "        rtype = \"binary\" if args.binary else \"multi\"\n",
    "        rewht = \"reweight\" if args.reweight else \"orig\"\n",
    "        g = gzip.open(\"{}.{}.{}.{}.{}.h{}.{}.top_predictors.txt.gz\".format(start, epoch, \n",
    "                  self.RF, rtype, rewht, args.hidden_dim, args.name), 'wt')\n",
    "        g.write(\"{:10} {:30} {:5} {:5} {}\\n\".format(\"Val\", \"Predictor\", \"Pred\", \"Gold\", \"Seq\"))\n",
    "        self.top_predictor.sort()\n",
    "        self.top_predictor.reverse()\n",
    "        for val, predictor, pred, gold, seq in self.top_predictor:\n",
    "            g.write(\"{:10.9f} {:30} {:5} {:5} {}\\n\".format(val, predictor, pred, gold, seq))\n",
    "        g.close()\n",
    "\n",
    "\n",
    "    def print_eval(self, train, test=None): \n",
    "        \"\"\"  Print training performance  \"\"\"\n",
    "        gold, pred, corr = train\n",
    "        p, r = corr / pred, corr / gold\n",
    "        f = 2*p*r/(p+r)\n",
    "    \n",
    "        if test is not None:\n",
    "            t_gold, t_pred, t_corr = test\n",
    "            t_p, t_r = t_corr / t_pred, t_corr / t_gold\n",
    "            t_f = 2*t_p*t_r/(t_p+t_r)\n",
    "    \n",
    "        gold_counts = [(gold[lab],lab) for lab in range(num_labels)]\n",
    "        gold_counts.sort(reverse=True)\n",
    "        for count, i in gold_counts:\n",
    "            train_str = \"{:<10} {:<5} {:5.3f} {:5.3f} {:5.3f}   \".format(ilbls[i], int(count), p[i], r[i], f[i])\n",
    "            if test is not None:\n",
    "                test_str = \"{:<5} {:5.3f} {:5.3f} {:5.3f}\".format(int(t_gold[i]), t_p[i], t_r[i], t_f[i])\n",
    "            else:\n",
    "                test_str = \"\"\n",
    "            print(train_str + test_str)"
   ]
  },
  {
   "cell_type": "code",
   "execution_count": 6,
   "metadata": {},
   "outputs": [
    {
     "name": "stderr",
     "output_type": "stream",
     "text": [
      "100%|█████████████████████████████████████████| 185/185 [00:09<00:00, 20.33it/s]\n",
      "100%|███████████████████████████████████████████| 26/26 [00:00<00:00, 76.87it/s]\n",
      "  1%|▍                                          | 2/185 [00:00<00:09, 18.77it/s]"
     ]
    },
    {
     "name": "stdout",
     "output_type": "stream",
     "text": [
      "A          3471  0.589 0.994 0.740   499   0.615 1.000 0.761\n",
      "C          794     nan 0.000   nan   115     nan 0.000   nan\n",
      "B          574   0.000 0.000   nan   71      nan 0.000   nan\n",
      "QNOR       284     nan 0.000   nan   32      nan 0.000   nan\n",
      "ENOR       217     nan 0.000   nan   29      nan 0.000   nan\n",
      "SNOR       144     nan 0.000   nan   23      nan 0.000   nan\n",
      "CNOR       103     nan 0.000   nan   10      nan 0.000   nan\n",
      "D          66      nan 0.000   nan   6       nan 0.000   nan\n",
      "GNOR       44      nan 0.000   nan   6       nan 0.000   nan\n",
      "E          42      nan 0.000   nan   6       nan 0.000   nan\n",
      "BNOR       34      nan 0.000   nan   4       nan 0.000   nan\n",
      "NNOR       32      nan 0.000   nan   3       nan 0.000   nan\n",
      "F          31      nan 0.000   nan   3       nan 0.000   nan\n",
      "H          16      nan 0.000   nan   1       nan 0.000   nan\n",
      "I          14      nan 0.000   nan   1       nan 0.000   nan\n",
      "G          11      nan 0.000   nan   1       nan 0.000   nan\n",
      "J          11    0.000 0.000   nan   2       nan 0.000   nan\n",
      "K          5       nan 0.000   nan   0       nan   nan   nan\n",
      "Epoch: 0  Train Loss: 275.5817  Acc: 58.53  Val  Loss  26.1041  Acc: 61.45\n"
     ]
    },
    {
     "name": "stderr",
     "output_type": "stream",
     "text": [
      "100%|█████████████████████████████████████████| 185/185 [00:09<00:00, 20.22it/s]\n",
      "100%|███████████████████████████████████████████| 26/26 [00:00<00:00, 76.18it/s]\n",
      "  2%|▋                                          | 3/185 [00:00<00:08, 22.67it/s]"
     ]
    },
    {
     "name": "stdout",
     "output_type": "stream",
     "text": [
      "Epoch: 1  Train Loss: 192.6457  Acc: 67.11  Val  Loss  24.0804  Acc: 69.95\n"
     ]
    },
    {
     "name": "stderr",
     "output_type": "stream",
     "text": [
      "100%|█████████████████████████████████████████| 185/185 [00:09<00:00, 19.70it/s]\n",
      "100%|███████████████████████████████████████████| 26/26 [00:00<00:00, 70.47it/s]\n",
      "  1%|▍                                          | 2/185 [00:00<00:10, 17.76it/s]"
     ]
    },
    {
     "name": "stdout",
     "output_type": "stream",
     "text": [
      "Epoch: 2  Train Loss: 150.7853  Acc: 77.26  Val  Loss  11.7278  Acc: 87.32\n"
     ]
    },
    {
     "name": "stderr",
     "output_type": "stream",
     "text": [
      "100%|█████████████████████████████████████████| 185/185 [00:09<00:00, 19.76it/s]\n",
      "100%|███████████████████████████████████████████| 26/26 [00:00<00:00, 70.77it/s]\n",
      "  2%|▋                                          | 3/185 [00:00<00:08, 21.17it/s]"
     ]
    },
    {
     "name": "stdout",
     "output_type": "stream",
     "text": [
      "Epoch: 3  Train Loss: 155.8778  Acc: 77.92  Val  Loss  13.4732  Acc: 85.47\n"
     ]
    },
    {
     "name": "stderr",
     "output_type": "stream",
     "text": [
      "100%|█████████████████████████████████████████| 185/185 [00:09<00:00, 19.03it/s]\n",
      "100%|███████████████████████████████████████████| 26/26 [00:00<00:00, 71.00it/s]\n",
      "  2%|▋                                          | 3/185 [00:00<00:08, 22.60it/s]"
     ]
    },
    {
     "name": "stdout",
     "output_type": "stream",
     "text": [
      "Epoch: 4  Train Loss: 100.1197  Acc: 85.66  Val  Loss  10.4391  Acc: 84.24\n"
     ]
    },
    {
     "name": "stderr",
     "output_type": "stream",
     "text": [
      "100%|█████████████████████████████████████████| 185/185 [00:09<00:00, 19.49it/s]\n",
      "100%|███████████████████████████████████████████| 26/26 [00:00<00:00, 70.74it/s]\n",
      "  1%|▍                                          | 2/185 [00:00<00:09, 18.97it/s]"
     ]
    },
    {
     "name": "stdout",
     "output_type": "stream",
     "text": [
      "A          3471  0.992 0.990 0.991   499   1.000 0.990 0.995\n",
      "C          794   0.958 0.970 0.964   115   0.920 1.000 0.958\n",
      "B          574   0.882 0.962 0.920   71    0.855 1.000 0.922\n",
      "QNOR       284   0.460 0.662 0.543   32    0.774 0.750 0.762\n",
      "ENOR       217   0.473 0.724 0.572   29    0.429 0.931 0.587\n",
      "SNOR       144   0.231 0.208 0.219   23      nan 0.000   nan\n",
      "CNOR       103   0.069 0.058 0.063   10      nan 0.000   nan\n",
      "D          66    0.405 0.227 0.291   6     0.375 1.000 0.545\n",
      "GNOR       44      nan 0.000   nan   6       nan 0.000   nan\n",
      "E          42    0.000 0.000   nan   6       nan 0.000   nan\n",
      "BNOR       34      nan 0.000   nan   4       nan 0.000   nan\n",
      "NNOR       32      nan 0.000   nan   3       nan 0.000   nan\n",
      "F          31      nan 0.000   nan   3       nan 0.000   nan\n",
      "H          16      nan 0.000   nan   1       nan 0.000   nan\n",
      "I          14      nan 0.000   nan   1       nan 0.000   nan\n",
      "G          11      nan 0.000   nan   1       nan 0.000   nan\n",
      "J          11      nan 0.000   nan   2       nan 0.000   nan\n",
      "K          5       nan 0.000   nan   0       nan   nan   nan\n",
      "Epoch: 5  Train Loss:  87.0282  Acc: 87.49  Val  Loss   8.3288  Acc: 90.76\n"
     ]
    },
    {
     "name": "stderr",
     "output_type": "stream",
     "text": [
      "100%|█████████████████████████████████████████| 185/185 [00:09<00:00, 19.01it/s]\n",
      "100%|███████████████████████████████████████████| 26/26 [00:00<00:00, 70.98it/s]\n",
      "  1%|▍                                          | 2/185 [00:00<00:10, 17.20it/s]"
     ]
    },
    {
     "name": "stdout",
     "output_type": "stream",
     "text": [
      "Epoch: 6  Train Loss:  45.6307  Acc: 92.41  Val  Loss   5.2429  Acc: 94.58\n"
     ]
    },
    {
     "name": "stderr",
     "output_type": "stream",
     "text": [
      "100%|█████████████████████████████████████████| 185/185 [00:09<00:00, 19.53it/s]\n",
      "100%|███████████████████████████████████████████| 26/26 [00:00<00:00, 71.24it/s]\n",
      "  1%|▍                                          | 2/185 [00:00<00:09, 19.00it/s]"
     ]
    },
    {
     "name": "stdout",
     "output_type": "stream",
     "text": [
      "Epoch: 7  Train Loss:  33.7662  Acc: 95.28  Val  Loss   3.1551  Acc: 97.66\n"
     ]
    },
    {
     "name": "stderr",
     "output_type": "stream",
     "text": [
      "100%|█████████████████████████████████████████| 185/185 [00:09<00:00, 19.54it/s]\n",
      "100%|███████████████████████████████████████████| 26/26 [00:00<00:00, 70.63it/s]\n",
      "  2%|▋                                          | 3/185 [00:00<00:08, 20.63it/s]"
     ]
    },
    {
     "name": "stdout",
     "output_type": "stream",
     "text": [
      "Epoch: 8  Train Loss:  19.5727  Acc: 97.17  Val  Loss   1.8587  Acc: 98.15\n"
     ]
    },
    {
     "name": "stderr",
     "output_type": "stream",
     "text": [
      "100%|█████████████████████████████████████████| 185/185 [00:09<00:00, 19.60it/s]\n",
      "100%|███████████████████████████████████████████| 26/26 [00:00<00:00, 70.95it/s]\n",
      "  1%|▍                                          | 2/185 [00:00<00:11, 16.61it/s]"
     ]
    },
    {
     "name": "stdout",
     "output_type": "stream",
     "text": [
      "Epoch: 9  Train Loss:  13.4913  Acc: 98.07  Val  Loss   1.6491  Acc: 98.65\n"
     ]
    },
    {
     "name": "stderr",
     "output_type": "stream",
     "text": [
      "100%|█████████████████████████████████████████| 185/185 [00:09<00:00, 18.68it/s]\n",
      "100%|███████████████████████████████████████████| 26/26 [00:00<00:00, 70.92it/s]\n",
      "  1%|▍                                          | 2/185 [00:00<00:09, 18.98it/s]"
     ]
    },
    {
     "name": "stdout",
     "output_type": "stream",
     "text": [
      "A          3471  0.996 0.992 0.994   499   0.982 0.990 0.986\n",
      "C          794   1.000 1.000 1.000   115   1.000 1.000 1.000\n",
      "B          574   0.976 0.979 0.977   71    0.971 0.958 0.965\n",
      "QNOR       284   0.979 0.982 0.981   32    0.941 1.000 0.970\n",
      "ENOR       217   0.991 0.991 0.991   29    0.879 1.000 0.935\n",
      "SNOR       144   1.000 1.000 1.000   23    1.000 1.000 1.000\n",
      "CNOR       103   0.907 0.942 0.924   10    1.000 1.000 1.000\n",
      "D          66    0.803 0.864 0.832   6     0.857 1.000 0.923\n",
      "GNOR       44    0.935 0.977 0.956   6     1.000 0.667 0.800\n",
      "E          42    0.722 0.929 0.813   6       nan 0.000   nan\n",
      "BNOR       34    0.733 0.971 0.835   4     0.400 0.500 0.444\n",
      "NNOR       32    0.696 0.500 0.582   3       nan 0.000   nan\n",
      "F          31    0.889 0.774 0.828   3       nan 0.000   nan\n",
      "H          16    0.667 0.250 0.364   1       nan 0.000   nan\n",
      "I          14    0.562 0.643 0.600   1     1.000 1.000 1.000\n",
      "G          11    0.333 0.273 0.300   1     0.500 1.000 0.667\n",
      "J          11    0.750 0.818 0.783   2     0.500 1.000 0.667\n",
      "K          5     0.333 0.200 0.250   0     0.000   nan   nan\n",
      "Epoch: 10  Train Loss:  14.7911  Acc: 97.95  Val  Loss   2.5358  Acc: 96.92\n"
     ]
    },
    {
     "name": "stderr",
     "output_type": "stream",
     "text": [
      "100%|█████████████████████████████████████████| 185/185 [00:09<00:00, 19.20it/s]\n",
      "100%|███████████████████████████████████████████| 26/26 [00:00<00:00, 71.25it/s]\n",
      "  2%|▋                                          | 3/185 [00:00<00:09, 19.44it/s]"
     ]
    },
    {
     "name": "stdout",
     "output_type": "stream",
     "text": [
      "Epoch: 11  Train Loss:  32.8677  Acc: 96.03  Val  Loss   6.1987  Acc: 95.32\n"
     ]
    },
    {
     "name": "stderr",
     "output_type": "stream",
     "text": [
      "100%|█████████████████████████████████████████| 185/185 [00:09<00:00, 18.99it/s]\n",
      "100%|███████████████████████████████████████████| 26/26 [00:00<00:00, 70.86it/s]\n",
      "  1%|▍                                          | 2/185 [00:00<00:10, 18.06it/s]"
     ]
    },
    {
     "name": "stdout",
     "output_type": "stream",
     "text": [
      "Epoch: 12  Train Loss:  63.6089  Acc: 93.43  Val  Loss   5.2998  Acc: 94.95\n"
     ]
    },
    {
     "name": "stderr",
     "output_type": "stream",
     "text": [
      "100%|█████████████████████████████████████████| 185/185 [00:09<00:00, 19.62it/s]\n",
      "100%|███████████████████████████████████████████| 26/26 [00:00<00:00, 71.39it/s]\n",
      "  2%|▋                                          | 3/185 [00:00<00:08, 21.08it/s]"
     ]
    },
    {
     "name": "stdout",
     "output_type": "stream",
     "text": [
      "Epoch: 13  Train Loss:  27.0742  Acc: 96.13  Val  Loss   2.3654  Acc: 98.15\n"
     ]
    },
    {
     "name": "stderr",
     "output_type": "stream",
     "text": [
      "100%|█████████████████████████████████████████| 185/185 [00:09<00:00, 19.52it/s]\n",
      "100%|███████████████████████████████████████████| 26/26 [00:00<00:00, 71.30it/s]\n",
      "  1%|▍                                          | 2/185 [00:00<00:09, 19.56it/s]"
     ]
    },
    {
     "name": "stdout",
     "output_type": "stream",
     "text": [
      "Epoch: 14  Train Loss:  12.7732  Acc: 98.22  Val  Loss   1.5568  Acc: 98.65\n"
     ]
    },
    {
     "name": "stderr",
     "output_type": "stream",
     "text": [
      "100%|█████████████████████████████████████████| 185/185 [00:09<00:00, 19.56it/s]\n",
      "100%|███████████████████████████████████████████| 26/26 [00:00<00:00, 71.32it/s]\n",
      "  2%|▋                                          | 3/185 [00:00<00:08, 21.16it/s]"
     ]
    },
    {
     "name": "stdout",
     "output_type": "stream",
     "text": [
      "A          3471  0.999 0.992 0.995   499   1.000 0.990 0.995\n",
      "C          794   1.000 1.000 1.000   115   1.000 1.000 1.000\n",
      "B          574   0.972 0.984 0.978   71    0.971 0.958 0.965\n",
      "QNOR       284   0.968 0.972 0.970   32    0.970 1.000 0.985\n",
      "ENOR       217   1.000 1.000 1.000   29    1.000 1.000 1.000\n",
      "SNOR       144   0.993 1.000 0.997   23    1.000 1.000 1.000\n",
      "CNOR       103   0.918 0.981 0.948   10    1.000 1.000 1.000\n",
      "D          66    0.892 1.000 0.943   6     0.857 1.000 0.923\n",
      "GNOR       44    0.976 0.932 0.953   6     1.000 1.000 1.000\n",
      "E          42    0.857 1.000 0.923   6     1.000 1.000 1.000\n",
      "BNOR       34    0.756 0.912 0.827   4     0.571 1.000 0.727\n",
      "NNOR       32    0.750 0.562 0.643   3     0.500 0.667 0.571\n",
      "F          31    0.938 0.968 0.952   3     1.000 1.000 1.000\n",
      "H          16    0.600 0.562 0.581   1     1.000 1.000 1.000\n",
      "I          14    0.750 0.643 0.692   1     1.000 1.000 1.000\n",
      "G          11    0.615 0.727 0.667   1     1.000 1.000 1.000\n",
      "J          11    0.846 1.000 0.917   2     1.000 1.000 1.000\n",
      "K          5     1.000 0.200 0.333   0       nan   nan   nan\n",
      "Epoch: 15  Train Loss:   9.5173  Acc: 98.51  Val  Loss   1.6303  Acc: 98.89\n"
     ]
    },
    {
     "name": "stderr",
     "output_type": "stream",
     "text": [
      "100%|█████████████████████████████████████████| 185/185 [00:09<00:00, 19.74it/s]\n",
      "100%|███████████████████████████████████████████| 26/26 [00:00<00:00, 71.15it/s]\n",
      "  2%|▋                                          | 3/185 [00:00<00:08, 20.67it/s]"
     ]
    },
    {
     "name": "stdout",
     "output_type": "stream",
     "text": [
      "Epoch: 16  Train Loss:  10.1427  Acc: 98.69  Val  Loss   1.5332  Acc: 98.03\n"
     ]
    },
    {
     "name": "stderr",
     "output_type": "stream",
     "text": [
      "100%|█████████████████████████████████████████| 185/185 [00:09<00:00, 19.16it/s]\n",
      "100%|███████████████████████████████████████████| 26/26 [00:00<00:00, 71.16it/s]\n",
      "  1%|▍                                          | 2/185 [00:00<00:09, 18.60it/s]"
     ]
    },
    {
     "name": "stdout",
     "output_type": "stream",
     "text": [
      "Epoch: 17  Train Loss:   7.9983  Acc: 98.90  Val  Loss   1.4302  Acc: 98.65\n"
     ]
    },
    {
     "name": "stderr",
     "output_type": "stream",
     "text": [
      "100%|█████████████████████████████████████████| 185/185 [00:09<00:00, 19.05it/s]\n",
      "100%|███████████████████████████████████████████| 26/26 [00:00<00:00, 70.75it/s]\n",
      "  2%|▋                                          | 3/185 [00:00<00:08, 21.33it/s]"
     ]
    },
    {
     "name": "stdout",
     "output_type": "stream",
     "text": [
      "Epoch: 18  Train Loss:  74.7770  Acc: 94.13  Val  Loss  15.9998  Acc: 87.44\n"
     ]
    },
    {
     "name": "stderr",
     "output_type": "stream",
     "text": [
      "100%|█████████████████████████████████████████| 185/185 [00:09<00:00, 18.56it/s]\n",
      "100%|███████████████████████████████████████████| 26/26 [00:00<00:00, 71.39it/s]\n",
      "  2%|▋                                          | 3/185 [00:00<00:08, 21.38it/s]"
     ]
    },
    {
     "name": "stdout",
     "output_type": "stream",
     "text": [
      "Epoch: 19  Train Loss:  56.6585  Acc: 92.94  Val  Loss   3.1840  Acc: 97.04\n"
     ]
    },
    {
     "name": "stderr",
     "output_type": "stream",
     "text": [
      "100%|█████████████████████████████████████████| 185/185 [00:09<00:00, 19.16it/s]\n",
      "100%|███████████████████████████████████████████| 26/26 [00:00<00:00, 70.64it/s]\n",
      "  2%|▋                                          | 3/185 [00:00<00:09, 18.63it/s]"
     ]
    },
    {
     "name": "stdout",
     "output_type": "stream",
     "text": [
      "A          3471  0.987 0.990 0.989   499   0.992 0.984 0.988\n",
      "C          794   0.992 0.995 0.994   115   0.983 0.991 0.987\n",
      "B          574   0.977 0.981 0.979   71    0.971 0.958 0.965\n",
      "QNOR       284   0.949 0.979 0.964   32    0.800 1.000 0.889\n",
      "ENOR       217   1.000 1.000 1.000   29    1.000 1.000 1.000\n",
      "SNOR       144   0.940 0.986 0.963   23    1.000 0.913 0.955\n",
      "CNOR       103   0.909 0.874 0.891   10      nan 0.000   nan\n",
      "D          66    0.739 0.985 0.844   6     0.667 1.000 0.800\n",
      "GNOR       44    0.597 0.841 0.698   6     0.429 1.000 0.600\n",
      "E          42    0.705 0.738 0.721   6     1.000 0.500 0.667\n",
      "BNOR       34    0.514 0.559 0.535   4     0.500 1.000 0.667\n",
      "NNOR       32    0.300 0.094 0.143   3     0.000 0.000   nan\n",
      "F          31    0.500 0.097 0.162   3       nan 0.000   nan\n",
      "H          16    0.667 0.750 0.706   1       nan 0.000   nan\n",
      "I          14    0.733 0.786 0.759   1     0.333 1.000 0.500\n",
      "G          11      nan 0.000   nan   1       nan 0.000   nan\n",
      "J          11      nan 0.000   nan   2     1.000 0.500 0.667\n",
      "K          5     0.000 0.000   nan   0       nan   nan   nan\n",
      "Epoch: 20  Train Loss:  25.8733  Acc: 96.67  Val  Loss   3.8560  Acc: 95.57\n"
     ]
    },
    {
     "name": "stderr",
     "output_type": "stream",
     "text": [
      "100%|█████████████████████████████████████████| 185/185 [00:09<00:00, 18.88it/s]\n",
      "100%|███████████████████████████████████████████| 26/26 [00:00<00:00, 70.82it/s]\n",
      "  2%|▋                                          | 3/185 [00:00<00:09, 20.13it/s]"
     ]
    },
    {
     "name": "stdout",
     "output_type": "stream",
     "text": [
      "Epoch: 21  Train Loss:  21.6561  Acc: 96.64  Val  Loss   1.5897  Acc: 98.03\n"
     ]
    },
    {
     "name": "stderr",
     "output_type": "stream",
     "text": [
      "100%|█████████████████████████████████████████| 185/185 [00:09<00:00, 19.70it/s]\n",
      "100%|███████████████████████████████████████████| 26/26 [00:00<00:00, 71.10it/s]\n",
      "  1%|▍                                          | 2/185 [00:00<00:09, 18.52it/s]"
     ]
    },
    {
     "name": "stdout",
     "output_type": "stream",
     "text": [
      "Epoch: 22  Train Loss:  12.3573  Acc: 98.20  Val  Loss   1.7501  Acc: 97.91\n"
     ]
    },
    {
     "name": "stderr",
     "output_type": "stream",
     "text": [
      "100%|█████████████████████████████████████████| 185/185 [00:09<00:00, 19.39it/s]\n",
      "100%|███████████████████████████████████████████| 26/26 [00:00<00:00, 70.76it/s]\n",
      "  1%|▍                                          | 2/185 [00:00<00:10, 17.36it/s]"
     ]
    },
    {
     "name": "stdout",
     "output_type": "stream",
     "text": [
      "Epoch: 23  Train Loss:   9.9738  Acc: 98.37  Val  Loss   1.5738  Acc: 98.28\n"
     ]
    },
    {
     "name": "stderr",
     "output_type": "stream",
     "text": [
      "100%|█████████████████████████████████████████| 185/185 [00:09<00:00, 19.64it/s]\n",
      "100%|███████████████████████████████████████████| 26/26 [00:00<00:00, 71.30it/s]\n",
      "  1%|▍                                          | 2/185 [00:00<00:09, 18.76it/s]"
     ]
    },
    {
     "name": "stdout",
     "output_type": "stream",
     "text": [
      "Epoch: 24  Train Loss:   8.4085  Acc: 98.81  Val  Loss   1.5379  Acc: 98.52\n"
     ]
    },
    {
     "name": "stderr",
     "output_type": "stream",
     "text": [
      "100%|█████████████████████████████████████████| 185/185 [00:09<00:00, 19.61it/s]\n",
      "100%|███████████████████████████████████████████| 26/26 [00:00<00:00, 70.66it/s]\n",
      "  2%|▋                                          | 3/185 [00:00<00:08, 20.75it/s]"
     ]
    },
    {
     "name": "stdout",
     "output_type": "stream",
     "text": [
      "A          3471  0.999 0.992 0.995   499   1.000 0.982 0.991\n",
      "C          794   1.000 1.000 1.000   115   1.000 1.000 1.000\n",
      "B          574   0.978 0.988 0.983   71    0.958 0.972 0.965\n",
      "QNOR       284   0.982 0.986 0.984   32    0.970 1.000 0.985\n",
      "ENOR       217   1.000 1.000 1.000   29    1.000 1.000 1.000\n",
      "SNOR       144   0.993 0.993 0.993   23    1.000 1.000 1.000\n",
      "CNOR       103   0.990 0.990 0.990   10    1.000 1.000 1.000\n",
      "D          66    0.892 1.000 0.943   6     0.750 1.000 0.857\n",
      "GNOR       44    0.936 1.000 0.967   6     0.545 1.000 0.706\n",
      "E          42    0.851 0.952 0.899   6     1.000 1.000 1.000\n",
      "BNOR       34    0.829 1.000 0.907   4     0.600 0.750 0.667\n",
      "NNOR       32    0.857 0.750 0.800   3     0.500 0.333 0.400\n",
      "F          31    0.931 0.871 0.900   3     1.000 1.000 1.000\n",
      "H          16    1.000 1.000 1.000   1     1.000 1.000 1.000\n",
      "I          14    1.000 0.929 0.963   1     1.000 1.000 1.000\n",
      "G          11    0.846 1.000 0.917   1     1.000 1.000 1.000\n",
      "J          11    1.000 1.000 1.000   2     1.000 1.000 1.000\n",
      "K          5     1.000 0.600 0.750   0       nan   nan   nan\n",
      "Epoch: 25  Train Loss:   7.1552  Acc: 99.02  Val  Loss   1.8321  Acc: 98.28\n"
     ]
    },
    {
     "name": "stderr",
     "output_type": "stream",
     "text": [
      "100%|█████████████████████████████████████████| 185/185 [00:09<00:00, 19.70it/s]\n",
      "100%|███████████████████████████████████████████| 26/26 [00:00<00:00, 71.33it/s]\n",
      "  2%|▋                                          | 3/185 [00:00<00:08, 21.02it/s]"
     ]
    },
    {
     "name": "stdout",
     "output_type": "stream",
     "text": [
      "Epoch: 26  Train Loss:   8.6101  Acc: 98.85  Val  Loss   1.7193  Acc: 98.28\n"
     ]
    },
    {
     "name": "stderr",
     "output_type": "stream",
     "text": [
      "100%|█████████████████████████████████████████| 185/185 [00:09<00:00, 19.70it/s]\n",
      "100%|███████████████████████████████████████████| 26/26 [00:00<00:00, 71.27it/s]\n",
      "  1%|▍                                          | 2/185 [00:00<00:11, 16.31it/s]"
     ]
    },
    {
     "name": "stdout",
     "output_type": "stream",
     "text": [
      "Epoch: 27  Train Loss:  39.3363  Acc: 95.64  Val  Loss   4.5798  Acc: 95.07\n"
     ]
    },
    {
     "name": "stderr",
     "output_type": "stream",
     "text": [
      "100%|█████████████████████████████████████████| 185/185 [00:09<00:00, 19.29it/s]\n",
      "100%|███████████████████████████████████████████| 26/26 [00:00<00:00, 71.31it/s]\n",
      "  1%|▍                                          | 2/185 [00:00<00:09, 18.47it/s]"
     ]
    },
    {
     "name": "stdout",
     "output_type": "stream",
     "text": [
      "Epoch: 28  Train Loss:  26.1082  Acc: 96.18  Val  Loss   1.8326  Acc: 98.28\n"
     ]
    },
    {
     "name": "stderr",
     "output_type": "stream",
     "text": [
      "100%|█████████████████████████████████████████| 185/185 [00:09<00:00, 19.63it/s]\n",
      "100%|███████████████████████████████████████████| 26/26 [00:00<00:00, 71.21it/s]\n",
      "  2%|▋                                          | 3/185 [00:00<00:09, 19.59it/s]"
     ]
    },
    {
     "name": "stdout",
     "output_type": "stream",
     "text": [
      "Epoch: 29  Train Loss:  31.0591  Acc: 95.98  Val  Loss   2.7361  Acc: 97.04\n"
     ]
    },
    {
     "name": "stderr",
     "output_type": "stream",
     "text": [
      "100%|█████████████████████████████████████████| 185/185 [00:09<00:00, 19.61it/s]\n",
      "100%|███████████████████████████████████████████| 26/26 [00:00<00:00, 71.49it/s]\n",
      "  1%|▍                                          | 2/185 [00:00<00:10, 17.14it/s]"
     ]
    },
    {
     "name": "stdout",
     "output_type": "stream",
     "text": [
      "A          3471  0.999 0.991 0.995   499   1.000 0.988 0.994\n",
      "C          794   1.000 1.000 1.000   115   1.000 1.000 1.000\n",
      "B          574   0.976 0.983 0.979   71    0.971 0.958 0.965\n",
      "QNOR       284   0.976 0.986 0.981   32    0.970 1.000 0.985\n",
      "ENOR       217   1.000 1.000 1.000   29    1.000 1.000 1.000\n",
      "SNOR       144   0.979 0.965 0.972   23    0.815 0.957 0.880\n",
      "CNOR       103   0.990 0.981 0.985   10    1.000 0.900 0.947\n",
      "D          66    0.835 1.000 0.910   6     0.857 1.000 0.923\n",
      "GNOR       44    0.417 0.977 0.585   6     0.556 0.833 0.667\n",
      "E          42    0.788 0.976 0.872   6     1.000 1.000 1.000\n",
      "BNOR       34    0.489 0.647 0.557   4     0.571 1.000 0.727\n",
      "NNOR       32    0.500 0.031 0.059   3     0.000 0.000   nan\n",
      "F          31    0.909 0.323 0.476   3     1.000 1.000 1.000\n",
      "H          16    0.917 0.688 0.786   1     1.000 1.000 1.000\n",
      "I          14    0.923 0.857 0.889   1     1.000 1.000 1.000\n",
      "G          11    0.583 0.636 0.609   1     1.000 1.000 1.000\n",
      "J          11      nan 0.000   nan   2       nan 0.000   nan\n",
      "K          5       nan 0.000   nan   0       nan   nan   nan\n",
      "Epoch: 30  Train Loss:  17.1412  Acc: 97.56  Val  Loss   1.6055  Acc: 97.91\n"
     ]
    },
    {
     "name": "stderr",
     "output_type": "stream",
     "text": [
      "100%|█████████████████████████████████████████| 185/185 [00:09<00:00, 19.84it/s]\n",
      "100%|███████████████████████████████████████████| 26/26 [00:00<00:00, 71.31it/s]\n",
      "  2%|▋                                          | 3/185 [00:00<00:08, 22.07it/s]"
     ]
    },
    {
     "name": "stdout",
     "output_type": "stream",
     "text": [
      "Epoch: 31  Train Loss:  14.9025  Acc: 98.29  Val  Loss   2.7500  Acc: 96.80\n"
     ]
    },
    {
     "name": "stderr",
     "output_type": "stream",
     "text": [
      "100%|█████████████████████████████████████████| 185/185 [00:09<00:00, 19.71it/s]\n",
      "100%|███████████████████████████████████████████| 26/26 [00:00<00:00, 71.18it/s]\n",
      "  1%|▍                                          | 2/185 [00:00<00:10, 17.96it/s]"
     ]
    },
    {
     "name": "stdout",
     "output_type": "stream",
     "text": [
      "Epoch: 32  Train Loss:  17.9346  Acc: 97.66  Val  Loss   1.6557  Acc: 98.15\n"
     ]
    },
    {
     "name": "stderr",
     "output_type": "stream",
     "text": [
      "100%|█████████████████████████████████████████| 185/185 [00:09<00:00, 19.56it/s]\n",
      "100%|███████████████████████████████████████████| 26/26 [00:00<00:00, 71.18it/s]\n",
      "  2%|▋                                          | 3/185 [00:00<00:09, 19.73it/s]"
     ]
    },
    {
     "name": "stdout",
     "output_type": "stream",
     "text": [
      "Epoch: 33  Train Loss:   9.7731  Acc: 98.64  Val  Loss   1.3383  Acc: 98.52\n"
     ]
    },
    {
     "name": "stderr",
     "output_type": "stream",
     "text": [
      "100%|█████████████████████████████████████████| 185/185 [00:09<00:00, 19.55it/s]\n",
      "100%|███████████████████████████████████████████| 26/26 [00:00<00:00, 71.19it/s]\n",
      "  2%|▋                                          | 3/185 [00:00<00:08, 20.66it/s]"
     ]
    },
    {
     "name": "stdout",
     "output_type": "stream",
     "text": [
      "Epoch: 34  Train Loss:   7.8571  Acc: 98.86  Val  Loss   1.1844  Acc: 98.65\n"
     ]
    },
    {
     "name": "stderr",
     "output_type": "stream",
     "text": [
      "100%|█████████████████████████████████████████| 185/185 [00:09<00:00, 19.61it/s]\n",
      "100%|███████████████████████████████████████████| 26/26 [00:00<00:00, 70.73it/s]\n",
      "  1%|▍                                          | 2/185 [00:00<00:10, 17.04it/s]"
     ]
    },
    {
     "name": "stdout",
     "output_type": "stream",
     "text": [
      "A          3471  1.000 0.992 0.996   499   1.000 0.990 0.995\n",
      "C          794   1.000 1.000 1.000   115   1.000 1.000 1.000\n",
      "B          574   0.977 0.981 0.979   71    0.971 0.958 0.965\n",
      "QNOR       284   0.979 0.986 0.982   32    0.970 1.000 0.985\n",
      "ENOR       217   1.000 1.000 1.000   29    1.000 1.000 1.000\n",
      "SNOR       144   1.000 1.000 1.000   23    1.000 0.957 0.978\n",
      "CNOR       103   1.000 0.990 0.995   10    1.000 0.900 0.947\n",
      "D          66    0.880 1.000 0.936   6     0.857 1.000 0.923\n",
      "GNOR       44    0.860 0.977 0.915   6     0.800 0.667 0.727\n",
      "E          42    0.857 1.000 0.923   6     1.000 1.000 1.000\n",
      "BNOR       34    0.773 1.000 0.872   4     0.571 1.000 0.727\n",
      "NNOR       32    0.793 0.719 0.754   3     0.286 0.667 0.400\n",
      "F          31    0.933 0.903 0.918   3     1.000 1.000 1.000\n",
      "H          16    1.000 1.000 1.000   1     1.000 1.000 1.000\n",
      "I          14    1.000 0.929 0.963   1     1.000 1.000 1.000\n",
      "G          11    0.917 1.000 0.957   1     1.000 1.000 1.000\n",
      "J          11    0.846 1.000 0.917   2     1.000 1.000 1.000\n",
      "K          5     1.000 0.200 0.333   0       nan   nan   nan\n",
      "Epoch: 35  Train Loss:   7.1059  Acc: 98.93  Val  Loss   1.3487  Acc: 98.40\n"
     ]
    },
    {
     "name": "stderr",
     "output_type": "stream",
     "text": [
      "100%|█████████████████████████████████████████| 185/185 [00:09<00:00, 19.45it/s]\n",
      "100%|███████████████████████████████████████████| 26/26 [00:00<00:00, 70.65it/s]\n",
      "  1%|▍                                          | 2/185 [00:00<00:10, 17.96it/s]"
     ]
    },
    {
     "name": "stdout",
     "output_type": "stream",
     "text": [
      "Epoch: 36  Train Loss:   6.8954  Acc: 98.98  Val  Loss   1.3330  Acc: 98.52\n"
     ]
    },
    {
     "name": "stderr",
     "output_type": "stream",
     "text": [
      "100%|█████████████████████████████████████████| 185/185 [00:09<00:00, 19.82it/s]\n",
      "100%|███████████████████████████████████████████| 26/26 [00:00<00:00, 71.33it/s]\n",
      "  1%|▍                                          | 2/185 [00:00<00:09, 18.51it/s]"
     ]
    },
    {
     "name": "stdout",
     "output_type": "stream",
     "text": [
      "Epoch: 37  Train Loss:   7.0138  Acc: 98.96  Val  Loss   1.2159  Acc: 98.40\n"
     ]
    },
    {
     "name": "stderr",
     "output_type": "stream",
     "text": [
      "100%|█████████████████████████████████████████| 185/185 [00:09<00:00, 19.47it/s]\n",
      "100%|███████████████████████████████████████████| 26/26 [00:00<00:00, 71.03it/s]\n",
      "  1%|▍                                          | 2/185 [00:00<00:10, 18.28it/s]"
     ]
    },
    {
     "name": "stdout",
     "output_type": "stream",
     "text": [
      "Epoch: 38  Train Loss:  11.8137  Acc: 98.47  Val  Loss   2.8783  Acc: 96.92\n"
     ]
    },
    {
     "name": "stderr",
     "output_type": "stream",
     "text": [
      "100%|█████████████████████████████████████████| 185/185 [00:09<00:00, 19.81it/s]\n",
      "100%|███████████████████████████████████████████| 26/26 [00:00<00:00, 71.26it/s]\n",
      "  1%|▍                                          | 2/185 [00:00<00:11, 16.21it/s]"
     ]
    },
    {
     "name": "stdout",
     "output_type": "stream",
     "text": [
      "Epoch: 39  Train Loss:  17.8257  Acc: 97.61  Val  Loss   1.4103  Acc: 98.15\n"
     ]
    },
    {
     "name": "stderr",
     "output_type": "stream",
     "text": [
      "100%|█████████████████████████████████████████| 185/185 [00:09<00:00, 19.62it/s]\n",
      "100%|███████████████████████████████████████████| 26/26 [00:00<00:00, 71.28it/s]\n",
      "  1%|▍                                          | 2/185 [00:00<00:10, 16.92it/s]"
     ]
    },
    {
     "name": "stdout",
     "output_type": "stream",
     "text": [
      "A          3471  0.995 0.990 0.992   499   0.986 0.990 0.988\n",
      "C          794   1.000 1.000 1.000   115   1.000 0.983 0.991\n",
      "B          574   0.966 0.979 0.972   71    1.000 0.803 0.891\n",
      "QNOR       284   0.972 0.972 0.972   32    0.800 1.000 0.889\n",
      "ENOR       217   1.000 1.000 1.000   29    1.000 1.000 1.000\n",
      "SNOR       144   1.000 1.000 1.000   23    1.000 1.000 1.000\n",
      "CNOR       103   0.952 0.961 0.957   10      nan 0.000   nan\n",
      "D          66    0.868 1.000 0.930   6     0.857 1.000 0.923\n",
      "GNOR       44    0.712 0.841 0.771   6     1.000 0.833 0.909\n",
      "E          42    0.750 0.643 0.692   6       nan 0.000   nan\n",
      "BNOR       34    0.667 0.647 0.657   4     0.500 0.750 0.600\n",
      "NNOR       32    0.750 0.562 0.643   3     0.080 0.667 0.143\n",
      "F          31    0.912 1.000 0.954   3     1.000 1.000 1.000\n",
      "H          16    0.941 1.000 0.970   1       nan 0.000   nan\n",
      "I          14    0.571 0.857 0.686   1       nan 0.000   nan\n",
      "G          11    0.714 0.455 0.556   1     0.500 1.000 0.667\n",
      "J          11    0.667 0.727 0.696   2     1.000 0.500 0.667\n",
      "K          5       nan 0.000   nan   0       nan   nan   nan\n",
      "Epoch: 40  Train Loss:  17.3785  Acc: 97.93  Val  Loss   7.2614  Acc: 94.70\n"
     ]
    },
    {
     "name": "stderr",
     "output_type": "stream",
     "text": [
      "100%|█████████████████████████████████████████| 185/185 [00:09<00:00, 19.73it/s]\n",
      "100%|███████████████████████████████████████████| 26/26 [00:00<00:00, 71.31it/s]\n",
      "  1%|▍                                          | 2/185 [00:00<00:09, 19.15it/s]"
     ]
    },
    {
     "name": "stdout",
     "output_type": "stream",
     "text": [
      "Epoch: 41  Train Loss:  83.5316  Acc: 92.11  Val  Loss   2.9113  Acc: 97.29\n"
     ]
    },
    {
     "name": "stderr",
     "output_type": "stream",
     "text": [
      "100%|█████████████████████████████████████████| 185/185 [00:09<00:00, 19.34it/s]\n",
      "100%|███████████████████████████████████████████| 26/26 [00:00<00:00, 70.97it/s]\n",
      "  1%|▍                                          | 2/185 [00:00<00:10, 17.26it/s]"
     ]
    },
    {
     "name": "stdout",
     "output_type": "stream",
     "text": [
      "Epoch: 42  Train Loss:  15.9284  Acc: 97.86  Val  Loss   1.6258  Acc: 98.40\n"
     ]
    },
    {
     "name": "stderr",
     "output_type": "stream",
     "text": [
      "100%|█████████████████████████████████████████| 185/185 [00:09<00:00, 19.38it/s]\n",
      "100%|███████████████████████████████████████████| 26/26 [00:00<00:00, 71.08it/s]\n",
      "  1%|▍                                          | 2/185 [00:00<00:09, 18.84it/s]"
     ]
    },
    {
     "name": "stdout",
     "output_type": "stream",
     "text": [
      "Epoch: 43  Train Loss:   9.9150  Acc: 98.57  Val  Loss   2.9497  Acc: 98.03\n"
     ]
    },
    {
     "name": "stderr",
     "output_type": "stream",
     "text": [
      "100%|█████████████████████████████████████████| 185/185 [00:09<00:00, 19.23it/s]\n",
      "100%|███████████████████████████████████████████| 26/26 [00:00<00:00, 70.90it/s]\n",
      "  2%|▋                                          | 3/185 [00:00<00:08, 21.44it/s]"
     ]
    },
    {
     "name": "stdout",
     "output_type": "stream",
     "text": [
      "Epoch: 44  Train Loss:  11.7138  Acc: 98.42  Val  Loss   8.2154  Acc: 97.78\n"
     ]
    },
    {
     "name": "stderr",
     "output_type": "stream",
     "text": [
      "100%|█████████████████████████████████████████| 185/185 [00:09<00:00, 18.50it/s]\n",
      "100%|███████████████████████████████████████████| 26/26 [00:00<00:00, 70.72it/s]\n",
      "  2%|▋                                          | 3/185 [00:00<00:08, 21.92it/s]"
     ]
    },
    {
     "name": "stdout",
     "output_type": "stream",
     "text": [
      "A          3471  0.999 0.991 0.995   499   0.992 0.990 0.991\n",
      "C          794   1.000 0.996 0.998   115   1.000 0.991 0.996\n",
      "B          574   0.967 0.984 0.976   71    0.971 0.958 0.965\n",
      "QNOR       284   0.976 0.986 0.981   32    0.970 1.000 0.985\n",
      "ENOR       217   1.000 1.000 1.000   29    1.000 1.000 1.000\n",
      "SNOR       144   1.000 0.986 0.993   23    1.000 1.000 1.000\n",
      "CNOR       103   0.952 0.971 0.962   10    0.909 1.000 0.952\n",
      "D          66    0.890 0.985 0.935   6     0.857 1.000 0.923\n",
      "GNOR       44    0.898 1.000 0.946   6     0.857 1.000 0.923\n",
      "E          42    0.840 1.000 0.913   6     1.000 0.833 0.909\n",
      "BNOR       34    0.737 0.824 0.778   4     0.571 1.000 0.727\n",
      "NNOR       32    0.679 0.594 0.633   3     0.667 0.667 0.667\n",
      "F          31    0.939 1.000 0.969   3       nan 0.000   nan\n",
      "H          16    1.000 1.000 1.000   1     1.000 1.000 1.000\n",
      "I          14    0.929 0.929 0.929   1     1.000 1.000 1.000\n",
      "G          11    0.833 0.909 0.870   1     1.000 1.000 1.000\n",
      "J          11    1.000 1.000 1.000   2     1.000 1.000 1.000\n",
      "K          5       nan 0.000   nan   0       nan   nan   nan\n",
      "Epoch: 45  Train Loss:   9.5899  Acc: 98.68  Val  Loss   7.7633  Acc: 98.28\n"
     ]
    },
    {
     "name": "stderr",
     "output_type": "stream",
     "text": [
      "100%|█████████████████████████████████████████| 185/185 [00:09<00:00, 19.41it/s]\n",
      "100%|███████████████████████████████████████████| 26/26 [00:00<00:00, 70.71it/s]\n",
      "  1%|▍                                          | 2/185 [00:00<00:10, 17.71it/s]"
     ]
    },
    {
     "name": "stdout",
     "output_type": "stream",
     "text": [
      "Epoch: 46  Train Loss:   7.7397  Acc: 98.91  Val  Loss   2.5865  Acc: 98.52\n"
     ]
    },
    {
     "name": "stderr",
     "output_type": "stream",
     "text": [
      "100%|█████████████████████████████████████████| 185/185 [00:09<00:00, 18.96it/s]\n",
      "100%|███████████████████████████████████████████| 26/26 [00:00<00:00, 71.21it/s]\n",
      "  1%|▍                                          | 2/185 [00:00<00:09, 18.30it/s]"
     ]
    },
    {
     "name": "stdout",
     "output_type": "stream",
     "text": [
      "Epoch: 47  Train Loss:   7.3596  Acc: 98.73  Val  Loss   2.3723  Acc: 98.40\n"
     ]
    },
    {
     "name": "stderr",
     "output_type": "stream",
     "text": [
      "100%|█████████████████████████████████████████| 185/185 [00:09<00:00, 19.80it/s]\n",
      "100%|███████████████████████████████████████████| 26/26 [00:00<00:00, 71.67it/s]\n",
      "  2%|▋                                          | 3/185 [00:00<00:08, 21.39it/s]"
     ]
    },
    {
     "name": "stdout",
     "output_type": "stream",
     "text": [
      "Epoch: 48  Train Loss:   7.0729  Acc: 98.91  Val  Loss   1.7768  Acc: 98.52\n"
     ]
    },
    {
     "name": "stderr",
     "output_type": "stream",
     "text": [
      "100%|█████████████████████████████████████████| 185/185 [00:09<00:00, 19.54it/s]\n",
      "100%|███████████████████████████████████████████| 26/26 [00:00<00:00, 70.84it/s]\n",
      "  2%|▋                                          | 3/185 [00:00<00:09, 20.16it/s]"
     ]
    },
    {
     "name": "stdout",
     "output_type": "stream",
     "text": [
      "Epoch: 49  Train Loss:   7.2139  Acc: 98.93  Val  Loss   1.8748  Acc: 98.52\n"
     ]
    },
    {
     "name": "stderr",
     "output_type": "stream",
     "text": [
      "100%|█████████████████████████████████████████| 185/185 [00:09<00:00, 19.24it/s]\n",
      "100%|███████████████████████████████████████████| 26/26 [00:00<00:00, 71.74it/s]\n",
      "  1%|▍                                          | 2/185 [00:00<00:09, 19.13it/s]"
     ]
    },
    {
     "name": "stdout",
     "output_type": "stream",
     "text": [
      "A          3471  0.999 0.992 0.996   499   0.996 0.990 0.993\n",
      "C          794   1.000 1.000 1.000   115   1.000 1.000 1.000\n",
      "B          574   0.976 0.983 0.979   71    0.971 0.958 0.965\n",
      "QNOR       284   0.982 0.986 0.984   32    0.970 1.000 0.985\n",
      "ENOR       217   1.000 1.000 1.000   29    1.000 1.000 1.000\n",
      "SNOR       144   0.993 1.000 0.997   23    1.000 0.957 0.978\n",
      "CNOR       103   0.971 0.981 0.976   10    1.000 1.000 1.000\n",
      "D          66    0.900 0.955 0.926   6     0.750 1.000 0.857\n",
      "GNOR       44    0.957 1.000 0.978   6     0.750 1.000 0.857\n",
      "E          42    0.854 0.976 0.911   6     1.000 1.000 1.000\n",
      "BNOR       34    0.791 1.000 0.883   4     0.571 1.000 0.727\n",
      "NNOR       32    0.760 0.594 0.667   3     1.000 0.667 0.800\n",
      "F          31    0.939 1.000 0.969   3     1.000 0.333 0.500\n",
      "H          16    0.938 0.938 0.938   1     1.000 1.000 1.000\n",
      "I          14    0.929 0.929 0.929   1     1.000 1.000 1.000\n",
      "G          11    0.833 0.909 0.870   1       nan 0.000   nan\n",
      "J          11    0.909 0.909 0.909   2     1.000 1.000 1.000\n",
      "K          5     0.250 0.200 0.222   0     0.000   nan   nan\n",
      "Epoch: 50  Train Loss:   7.3367  Acc: 98.85  Val  Loss   1.3537  Acc: 98.40\n"
     ]
    },
    {
     "name": "stderr",
     "output_type": "stream",
     "text": [
      "100%|█████████████████████████████████████████| 185/185 [00:09<00:00, 19.34it/s]\n",
      "100%|███████████████████████████████████████████| 26/26 [00:00<00:00, 70.79it/s]\n",
      "  2%|▋                                          | 3/185 [00:00<00:09, 18.73it/s]"
     ]
    },
    {
     "name": "stdout",
     "output_type": "stream",
     "text": [
      "Epoch: 51  Train Loss:   9.5738  Acc: 98.73  Val  Loss   1.8141  Acc: 98.15\n"
     ]
    },
    {
     "name": "stderr",
     "output_type": "stream",
     "text": [
      "100%|█████████████████████████████████████████| 185/185 [00:09<00:00, 19.47it/s]\n",
      "100%|███████████████████████████████████████████| 26/26 [00:00<00:00, 71.82it/s]\n",
      "  2%|▋                                          | 3/185 [00:00<00:08, 20.46it/s]"
     ]
    },
    {
     "name": "stdout",
     "output_type": "stream",
     "text": [
      "Epoch: 52  Train Loss:  18.3002  Acc: 97.49  Val  Loss   5.1483  Acc: 95.44\n"
     ]
    },
    {
     "name": "stderr",
     "output_type": "stream",
     "text": [
      "100%|█████████████████████████████████████████| 185/185 [00:09<00:00, 19.63it/s]\n",
      "100%|███████████████████████████████████████████| 26/26 [00:00<00:00, 70.91it/s]\n",
      "  2%|▋                                          | 3/185 [00:00<00:09, 18.78it/s]"
     ]
    },
    {
     "name": "stdout",
     "output_type": "stream",
     "text": [
      "Epoch: 53  Train Loss:  57.2499  Acc: 93.50  Val  Loss   3.4692  Acc: 95.32\n"
     ]
    },
    {
     "name": "stderr",
     "output_type": "stream",
     "text": [
      "100%|█████████████████████████████████████████| 185/185 [00:09<00:00, 18.82it/s]\n",
      "100%|███████████████████████████████████████████| 26/26 [00:00<00:00, 70.66it/s]\n",
      "  2%|▋                                          | 3/185 [00:00<00:08, 21.82it/s]"
     ]
    },
    {
     "name": "stdout",
     "output_type": "stream",
     "text": [
      "Epoch: 54  Train Loss:  20.4869  Acc: 96.62  Val  Loss   2.4656  Acc: 97.41\n"
     ]
    },
    {
     "name": "stderr",
     "output_type": "stream",
     "text": [
      "100%|█████████████████████████████████████████| 185/185 [00:09<00:00, 18.63it/s]\n",
      "100%|███████████████████████████████████████████| 26/26 [00:00<00:00, 70.73it/s]\n",
      "  2%|▋                                          | 3/185 [00:00<00:08, 20.28it/s]"
     ]
    },
    {
     "name": "stdout",
     "output_type": "stream",
     "text": [
      "A          3471  0.999 0.992 0.995   499   1.000 0.990 0.995\n",
      "C          794   0.912 0.992 0.951   115   0.905 0.991 0.946\n",
      "B          574   0.977 0.981 0.979   71    0.958 0.958 0.958\n",
      "QNOR       284   0.982 0.986 0.984   32    0.970 1.000 0.985\n",
      "ENOR       217   0.995 1.000 0.998   29    1.000 1.000 1.000\n",
      "SNOR       144   1.000 0.986 0.993   23    1.000 1.000 1.000\n",
      "CNOR       103   0.990 0.961 0.975   10    1.000 1.000 1.000\n",
      "D          66    0.910 0.924 0.917   6     0.857 1.000 0.923\n",
      "GNOR       44    0.267 0.091 0.136   6       nan 0.000   nan\n",
      "E          42    0.808 1.000 0.894   6     1.000 1.000 1.000\n",
      "BNOR       34    0.756 1.000 0.861   4     0.571 1.000 0.727\n",
      "NNOR       32    0.800 0.125 0.216   3       nan 0.000   nan\n",
      "F          31    0.939 1.000 0.969   3     1.000 1.000 1.000\n",
      "H          16    0.941 1.000 0.970   1     1.000 1.000 1.000\n",
      "I          14    0.812 0.929 0.867   1     1.000 1.000 1.000\n",
      "G          11    0.889 0.727 0.800   1     1.000 1.000 1.000\n",
      "J          11      nan 0.000   nan   2       nan 0.000   nan\n",
      "K          5       nan 0.000   nan   0       nan   nan   nan\n",
      "Epoch: 55  Train Loss:  14.8631  Acc: 97.51  Val  Loss   1.8804  Acc: 97.54\n"
     ]
    },
    {
     "name": "stderr",
     "output_type": "stream",
     "text": [
      "100%|█████████████████████████████████████████| 185/185 [00:09<00:00, 19.44it/s]\n",
      "100%|███████████████████████████████████████████| 26/26 [00:00<00:00, 71.12it/s]\n",
      "  2%|▋                                          | 3/185 [00:00<00:08, 20.77it/s]"
     ]
    },
    {
     "name": "stdout",
     "output_type": "stream",
     "text": [
      "Epoch: 56  Train Loss:  11.5222  Acc: 97.95  Val  Loss   1.5850  Acc: 98.28\n"
     ]
    },
    {
     "name": "stderr",
     "output_type": "stream",
     "text": [
      "100%|█████████████████████████████████████████| 185/185 [00:09<00:00, 19.62it/s]\n",
      "100%|███████████████████████████████████████████| 26/26 [00:00<00:00, 71.00it/s]\n",
      "  1%|▍                                          | 2/185 [00:00<00:09, 18.46it/s]"
     ]
    },
    {
     "name": "stdout",
     "output_type": "stream",
     "text": [
      "Epoch: 57  Train Loss:  10.4135  Acc: 98.39  Val  Loss   2.1744  Acc: 98.28\n"
     ]
    },
    {
     "name": "stderr",
     "output_type": "stream",
     "text": [
      "100%|█████████████████████████████████████████| 185/185 [00:09<00:00, 18.69it/s]\n",
      "100%|███████████████████████████████████████████| 26/26 [00:00<00:00, 70.41it/s]\n",
      "  2%|▋                                          | 3/185 [00:00<00:08, 21.65it/s]"
     ]
    },
    {
     "name": "stdout",
     "output_type": "stream",
     "text": [
      "Epoch: 58  Train Loss:   9.7606  Acc: 98.56  Val  Loss   1.5270  Acc: 98.52\n"
     ]
    },
    {
     "name": "stderr",
     "output_type": "stream",
     "text": [
      "100%|█████████████████████████████████████████| 185/185 [00:09<00:00, 18.97it/s]\n",
      "100%|███████████████████████████████████████████| 26/26 [00:00<00:00, 70.21it/s]\n",
      "  1%|▍                                          | 2/185 [00:00<00:10, 17.26it/s]"
     ]
    },
    {
     "name": "stdout",
     "output_type": "stream",
     "text": [
      "Epoch: 59  Train Loss:  11.7027  Acc: 98.37  Val  Loss   2.0693  Acc: 98.03\n"
     ]
    },
    {
     "name": "stderr",
     "output_type": "stream",
     "text": [
      "100%|█████████████████████████████████████████| 185/185 [00:10<00:00, 18.43it/s]\n",
      "100%|███████████████████████████████████████████| 26/26 [00:00<00:00, 70.57it/s]\n",
      "  2%|▋                                          | 3/185 [00:00<00:09, 20.15it/s]"
     ]
    },
    {
     "name": "stdout",
     "output_type": "stream",
     "text": [
      "A          3471  0.998 0.992 0.995   499   1.000 0.990 0.995\n",
      "C          794   1.000 0.999 0.999   115   1.000 1.000 1.000\n",
      "B          574   0.976 0.981 0.978   71    0.971 0.958 0.965\n",
      "QNOR       284   0.982 0.982 0.982   32    0.970 1.000 0.985\n",
      "ENOR       217   0.995 1.000 0.998   29    1.000 1.000 1.000\n",
      "SNOR       144   0.986 0.965 0.975   23    1.000 1.000 1.000\n",
      "CNOR       103   0.952 0.961 0.957   10    1.000 1.000 1.000\n",
      "D          66    0.879 0.879 0.879   6     0.857 1.000 0.923\n",
      "GNOR       44    0.788 0.932 0.854   6     0.833 0.833 0.833\n",
      "E          42    0.857 1.000 0.923   6     1.000 1.000 1.000\n",
      "BNOR       34    0.723 1.000 0.840   4     0.571 1.000 0.727\n",
      "NNOR       32    0.500 0.438 0.467   3     0.500 0.667 0.571\n",
      "F          31    0.939 1.000 0.969   3     1.000 1.000 1.000\n",
      "H          16    1.000 1.000 1.000   1     1.000 1.000 1.000\n",
      "I          14    0.769 0.714 0.741   1     1.000 1.000 1.000\n",
      "G          11    0.917 1.000 0.957   1     0.500 1.000 0.667\n",
      "J          11    1.000 0.909 0.952   2     1.000 0.500 0.667\n",
      "K          5       nan 0.000   nan   0       nan   nan   nan\n",
      "Epoch: 60  Train Loss:  12.0566  Acc: 98.40  Val  Loss   1.4505  Acc: 98.65\n"
     ]
    },
    {
     "name": "stderr",
     "output_type": "stream",
     "text": [
      "100%|█████████████████████████████████████████| 185/185 [00:09<00:00, 19.02it/s]\n",
      "100%|███████████████████████████████████████████| 26/26 [00:00<00:00, 70.53it/s]\n",
      "  2%|▋                                          | 3/185 [00:00<00:08, 21.54it/s]"
     ]
    },
    {
     "name": "stdout",
     "output_type": "stream",
     "text": [
      "Epoch: 61  Train Loss:  62.4275  Acc: 95.77  Val  Loss   9.6745  Acc: 92.98\n"
     ]
    },
    {
     "name": "stderr",
     "output_type": "stream",
     "text": [
      "100%|█████████████████████████████████████████| 185/185 [00:09<00:00, 18.61it/s]\n",
      "100%|███████████████████████████████████████████| 26/26 [00:00<00:00, 70.35it/s]\n",
      "  2%|▋                                          | 3/185 [00:00<00:08, 21.30it/s]"
     ]
    },
    {
     "name": "stdout",
     "output_type": "stream",
     "text": [
      "Epoch: 62  Train Loss:  62.5521  Acc: 91.41  Val  Loss  19.5363  Acc: 93.10\n"
     ]
    },
    {
     "name": "stderr",
     "output_type": "stream",
     "text": [
      "100%|█████████████████████████████████████████| 185/185 [00:09<00:00, 19.26it/s]\n",
      "100%|███████████████████████████████████████████| 26/26 [00:00<00:00, 70.38it/s]\n",
      "  2%|▋                                          | 3/185 [00:00<00:09, 19.20it/s]"
     ]
    },
    {
     "name": "stdout",
     "output_type": "stream",
     "text": [
      "Epoch: 63  Train Loss:  35.3062  Acc: 95.10  Val  Loss   2.2228  Acc: 97.66\n"
     ]
    },
    {
     "name": "stderr",
     "output_type": "stream",
     "text": [
      "100%|█████████████████████████████████████████| 185/185 [00:09<00:00, 18.52it/s]\n",
      "100%|███████████████████████████████████████████| 26/26 [00:00<00:00, 70.47it/s]\n",
      "  2%|▋                                          | 3/185 [00:00<00:08, 20.54it/s]"
     ]
    },
    {
     "name": "stdout",
     "output_type": "stream",
     "text": [
      "Epoch: 64  Train Loss:  17.8921  Acc: 97.68  Val  Loss   1.8130  Acc: 98.03\n"
     ]
    },
    {
     "name": "stderr",
     "output_type": "stream",
     "text": [
      "100%|█████████████████████████████████████████| 185/185 [00:09<00:00, 19.40it/s]\n",
      "100%|███████████████████████████████████████████| 26/26 [00:00<00:00, 71.15it/s]\n",
      "  1%|▍                                          | 2/185 [00:00<00:09, 18.57it/s]"
     ]
    },
    {
     "name": "stdout",
     "output_type": "stream",
     "text": [
      "A          3471  0.998 0.991 0.995   499   1.000 0.990 0.995\n",
      "C          794   1.000 1.000 1.000   115   1.000 1.000 1.000\n",
      "B          574   0.976 0.984 0.980   71    0.922 1.000 0.959\n",
      "QNOR       284   0.982 0.972 0.977   32    0.941 1.000 0.970\n",
      "ENOR       217   1.000 1.000 1.000   29    1.000 1.000 1.000\n",
      "SNOR       144   0.979 0.979 0.979   23    1.000 0.870 0.930\n",
      "CNOR       103   0.913 0.922 0.918   10    0.909 1.000 0.952\n",
      "D          66    0.853 0.970 0.908   6     0.750 1.000 0.857\n",
      "GNOR       44    0.500 0.932 0.651   6     0.500 1.000 0.667\n",
      "E          42    0.776 0.905 0.835   6     1.000 1.000 1.000\n",
      "BNOR       34    0.786 0.971 0.868   4       nan 0.000   nan\n",
      "NNOR       32    0.500 0.125 0.200   3       nan 0.000   nan\n",
      "F          31    0.939 1.000 0.969   3     1.000 1.000 1.000\n",
      "H          16    0.800 0.250 0.381   1     1.000 1.000 1.000\n",
      "I          14    0.545 0.857 0.667   1     1.000 1.000 1.000\n",
      "G          11    0.917 1.000 0.957   1     1.000 1.000 1.000\n",
      "J          11      nan 0.000   nan   2       nan 0.000   nan\n",
      "K          5       nan 0.000   nan   0       nan   nan   nan\n",
      "Epoch: 65  Train Loss:  14.7180  Acc: 97.84  Val  Loss   2.1803  Acc: 97.91\n"
     ]
    },
    {
     "name": "stderr",
     "output_type": "stream",
     "text": [
      "100%|█████████████████████████████████████████| 185/185 [00:09<00:00, 18.79it/s]\n",
      "100%|███████████████████████████████████████████| 26/26 [00:00<00:00, 70.52it/s]\n",
      "  1%|▍                                          | 2/185 [00:00<00:09, 18.93it/s]"
     ]
    },
    {
     "name": "stdout",
     "output_type": "stream",
     "text": [
      "Epoch: 66  Train Loss:  25.5251  Acc: 97.03  Val  Loss   2.2520  Acc: 97.66\n"
     ]
    },
    {
     "name": "stderr",
     "output_type": "stream",
     "text": [
      "100%|█████████████████████████████████████████| 185/185 [00:09<00:00, 19.40it/s]\n",
      "100%|███████████████████████████████████████████| 26/26 [00:00<00:00, 70.48it/s]\n",
      "  2%|▋                                          | 3/185 [00:00<00:08, 21.37it/s]"
     ]
    },
    {
     "name": "stdout",
     "output_type": "stream",
     "text": [
      "Epoch: 67  Train Loss:  37.8898  Acc: 95.83  Val  Loss   2.8627  Acc: 97.54\n"
     ]
    },
    {
     "name": "stderr",
     "output_type": "stream",
     "text": [
      "100%|█████████████████████████████████████████| 185/185 [00:09<00:00, 19.40it/s]\n",
      "100%|███████████████████████████████████████████| 26/26 [00:00<00:00, 70.86it/s]\n",
      "  2%|▋                                          | 3/185 [00:00<00:07, 22.93it/s]"
     ]
    },
    {
     "name": "stdout",
     "output_type": "stream",
     "text": [
      "Epoch: 68  Train Loss:  21.8439  Acc: 96.86  Val  Loss   2.2183  Acc: 97.66\n"
     ]
    },
    {
     "name": "stderr",
     "output_type": "stream",
     "text": [
      "100%|█████████████████████████████████████████| 185/185 [00:09<00:00, 19.64it/s]\n",
      "100%|███████████████████████████████████████████| 26/26 [00:00<00:00, 71.43it/s]\n",
      "  1%|▍                                          | 2/185 [00:00<00:09, 18.55it/s]"
     ]
    },
    {
     "name": "stdout",
     "output_type": "stream",
     "text": [
      "Epoch: 69  Train Loss:  15.7144  Acc: 97.45  Val  Loss   1.5810  Acc: 97.91\n"
     ]
    },
    {
     "name": "stderr",
     "output_type": "stream",
     "text": [
      "100%|█████████████████████████████████████████| 185/185 [00:09<00:00, 19.58it/s]\n",
      "100%|███████████████████████████████████████████| 26/26 [00:00<00:00, 71.37it/s]\n",
      "  2%|▋                                          | 3/185 [00:00<00:08, 22.10it/s]"
     ]
    },
    {
     "name": "stdout",
     "output_type": "stream",
     "text": [
      "A          3471  0.999 0.992 0.995   499   0.998 0.990 0.994\n",
      "C          794   1.000 1.000 1.000   115   1.000 1.000 1.000\n",
      "B          574   0.977 0.981 0.979   71    0.971 0.958 0.965\n",
      "QNOR       284   0.982 0.982 0.982   32    0.970 1.000 0.985\n",
      "ENOR       217   1.000 1.000 1.000   29    1.000 1.000 1.000\n",
      "SNOR       144   1.000 0.986 0.993   23    1.000 1.000 1.000\n",
      "CNOR       103   0.843 0.990 0.911   10    1.000 1.000 1.000\n",
      "D          66    0.690 0.909 0.784   6     0.833 0.833 0.833\n",
      "GNOR       44    0.606 0.977 0.748   6     0.462 1.000 0.632\n",
      "E          42    0.808 1.000 0.894   6     1.000 1.000 1.000\n",
      "BNOR       34    0.756 1.000 0.861   4     0.571 1.000 0.727\n",
      "NNOR       32    1.000 0.031 0.061   3       nan 0.000   nan\n",
      "F          31    0.933 0.903 0.918   3     1.000 1.000 1.000\n",
      "H          16    0.875 0.875 0.875   1       nan 0.000   nan\n",
      "I          14    0.333 0.071 0.118   1       nan 0.000   nan\n",
      "G          11    0.444 0.364 0.400   1     0.500 1.000 0.667\n",
      "J          11      nan 0.000   nan   2       nan 0.000   nan\n",
      "K          5       nan 0.000   nan   0       nan   nan   nan\n",
      "Epoch: 70  Train Loss:  12.3894  Acc: 97.84  Val  Loss   1.6538  Acc: 98.03\n"
     ]
    },
    {
     "name": "stderr",
     "output_type": "stream",
     "text": [
      "100%|█████████████████████████████████████████| 185/185 [00:09<00:00, 19.32it/s]\n",
      "100%|███████████████████████████████████████████| 26/26 [00:00<00:00, 70.41it/s]\n",
      "  1%|▍                                          | 2/185 [00:00<00:09, 19.72it/s]"
     ]
    },
    {
     "name": "stdout",
     "output_type": "stream",
     "text": [
      "Epoch: 71  Train Loss:  10.9970  Acc: 98.07  Val  Loss   1.5362  Acc: 98.40\n"
     ]
    },
    {
     "name": "stderr",
     "output_type": "stream",
     "text": [
      "100%|█████████████████████████████████████████| 185/185 [00:10<00:00, 18.49it/s]\n",
      "100%|███████████████████████████████████████████| 26/26 [00:00<00:00, 70.41it/s]\n",
      "  1%|▍                                          | 2/185 [00:00<00:09, 18.36it/s]"
     ]
    },
    {
     "name": "stdout",
     "output_type": "stream",
     "text": [
      "Epoch: 72  Train Loss:  10.2014  Acc: 98.25  Val  Loss   1.5669  Acc: 98.15\n"
     ]
    },
    {
     "name": "stderr",
     "output_type": "stream",
     "text": [
      "100%|█████████████████████████████████████████| 185/185 [00:09<00:00, 19.27it/s]\n",
      "100%|███████████████████████████████████████████| 26/26 [00:00<00:00, 70.66it/s]\n",
      "  1%|▍                                          | 2/185 [00:00<00:10, 17.94it/s]"
     ]
    },
    {
     "name": "stdout",
     "output_type": "stream",
     "text": [
      "Epoch: 73  Train Loss:   9.6130  Acc: 98.42  Val  Loss   1.4776  Acc: 98.40\n"
     ]
    },
    {
     "name": "stderr",
     "output_type": "stream",
     "text": [
      "100%|█████████████████████████████████████████| 185/185 [00:09<00:00, 19.28it/s]\n",
      "100%|███████████████████████████████████████████| 26/26 [00:00<00:00, 70.48it/s]\n",
      "  2%|▋                                          | 3/185 [00:00<00:09, 18.94it/s]"
     ]
    },
    {
     "name": "stdout",
     "output_type": "stream",
     "text": [
      "Epoch: 74  Train Loss:   8.4465  Acc: 98.61  Val  Loss   1.6347  Acc: 98.28\n"
     ]
    },
    {
     "name": "stderr",
     "output_type": "stream",
     "text": [
      "100%|█████████████████████████████████████████| 185/185 [00:09<00:00, 19.74it/s]\n",
      "100%|███████████████████████████████████████████| 26/26 [00:00<00:00, 71.19it/s]\n",
      "  1%|▍                                          | 2/185 [00:00<00:10, 18.08it/s]"
     ]
    },
    {
     "name": "stdout",
     "output_type": "stream",
     "text": [
      "A          3471  0.998 0.992 0.995   499   1.000 0.988 0.994\n",
      "C          794   1.000 1.000 1.000   115   1.000 1.000 1.000\n",
      "B          574   0.977 0.981 0.979   71    0.971 0.958 0.965\n",
      "QNOR       284   0.986 0.986 0.986   32    0.970 1.000 0.985\n",
      "ENOR       217   1.000 1.000 1.000   29    1.000 1.000 1.000\n",
      "SNOR       144   1.000 0.986 0.993   23    1.000 1.000 1.000\n",
      "CNOR       103   0.971 0.990 0.981   10    1.000 1.000 1.000\n",
      "D          66    0.877 0.970 0.921   6     0.750 1.000 0.857\n",
      "GNOR       44    0.935 0.977 0.956   6     1.000 0.833 0.909\n",
      "E          42    0.833 0.952 0.889   6     1.000 1.000 1.000\n",
      "BNOR       34    0.756 1.000 0.861   4     0.571 1.000 0.727\n",
      "NNOR       32    0.727 0.500 0.593   3     0.667 0.667 0.667\n",
      "F          31    0.939 1.000 0.969   3     1.000 1.000 1.000\n",
      "H          16    0.846 0.688 0.759   1       nan 0.000   nan\n",
      "I          14    0.923 0.857 0.889   1     1.000 1.000 1.000\n",
      "G          11    0.750 0.818 0.783   1     0.500 1.000 0.667\n",
      "J          11    0.500 0.909 0.645   2     0.500 1.000 0.667\n",
      "K          5       nan 0.000   nan   0       nan   nan   nan\n",
      "Epoch: 75  Train Loss:   8.7131  Acc: 98.61  Val  Loss   1.5148  Acc: 98.52\n"
     ]
    },
    {
     "name": "stderr",
     "output_type": "stream",
     "text": [
      "100%|█████████████████████████████████████████| 185/185 [00:09<00:00, 19.81it/s]\n",
      "100%|███████████████████████████████████████████| 26/26 [00:00<00:00, 71.29it/s]\n",
      "  2%|▋                                          | 3/185 [00:00<00:09, 19.33it/s]"
     ]
    },
    {
     "name": "stdout",
     "output_type": "stream",
     "text": [
      "Epoch: 76  Train Loss:   8.3617  Acc: 98.68  Val  Loss   3.5457  Acc: 98.28\n"
     ]
    },
    {
     "name": "stderr",
     "output_type": "stream",
     "text": [
      "100%|█████████████████████████████████████████| 185/185 [00:09<00:00, 19.03it/s]\n",
      "100%|███████████████████████████████████████████| 26/26 [00:00<00:00, 71.38it/s]\n",
      "  2%|▋                                          | 3/185 [00:00<00:08, 21.97it/s]"
     ]
    },
    {
     "name": "stdout",
     "output_type": "stream",
     "text": [
      "Epoch: 77  Train Loss:   7.2087  Acc: 98.80  Val  Loss   1.6201  Acc: 98.40\n"
     ]
    },
    {
     "name": "stderr",
     "output_type": "stream",
     "text": [
      "100%|█████████████████████████████████████████| 185/185 [00:09<00:00, 19.76it/s]\n",
      "100%|███████████████████████████████████████████| 26/26 [00:00<00:00, 71.43it/s]\n",
      "  1%|▍                                          | 2/185 [00:00<00:09, 19.57it/s]"
     ]
    },
    {
     "name": "stdout",
     "output_type": "stream",
     "text": [
      "Epoch: 78  Train Loss:  12.3053  Acc: 97.88  Val  Loss   2.3718  Acc: 97.54\n"
     ]
    },
    {
     "name": "stderr",
     "output_type": "stream",
     "text": [
      "100%|█████████████████████████████████████████| 185/185 [00:09<00:00, 19.40it/s]\n",
      "100%|███████████████████████████████████████████| 26/26 [00:00<00:00, 70.64it/s]\n",
      "  2%|▋                                          | 3/185 [00:00<00:09, 19.02it/s]"
     ]
    },
    {
     "name": "stdout",
     "output_type": "stream",
     "text": [
      "Epoch: 79  Train Loss:  17.9040  Acc: 97.66  Val  Loss   2.1878  Acc: 97.91\n"
     ]
    },
    {
     "name": "stderr",
     "output_type": "stream",
     "text": [
      "100%|█████████████████████████████████████████| 185/185 [00:09<00:00, 19.80it/s]\n",
      "100%|███████████████████████████████████████████| 26/26 [00:00<00:00, 71.41it/s]\n",
      "  1%|▍                                          | 2/185 [00:00<00:09, 18.53it/s]"
     ]
    },
    {
     "name": "stdout",
     "output_type": "stream",
     "text": [
      "A          3471  0.994 0.989 0.991   499   0.990 0.988 0.989\n",
      "C          794   0.999 0.997 0.998   115   1.000 1.000 1.000\n",
      "B          574   0.979 0.965 0.972   71    0.971 0.958 0.965\n",
      "QNOR       284   0.979 0.979 0.979   32    0.938 0.938 0.938\n",
      "ENOR       217   0.995 1.000 0.998   29    0.935 1.000 0.967\n",
      "SNOR       144   0.993 0.986 0.990   23    1.000 1.000 1.000\n",
      "CNOR       103   0.907 0.942 0.924   10    1.000 0.900 0.947\n",
      "D          66    0.697 0.939 0.800   6     0.000 0.000   nan\n",
      "GNOR       44    0.950 0.864 0.905   6     1.000 1.000 1.000\n",
      "E          42    0.690 0.690 0.690   6     0.750 1.000 0.857\n",
      "BNOR       34    0.756 1.000 0.861   4     0.571 1.000 0.727\n",
      "NNOR       32    0.400 0.312 0.351   3     0.250 0.667 0.364\n",
      "F          31    0.771 0.871 0.818   3     1.000 1.000 1.000\n",
      "H          16    0.667 0.125 0.211   1       nan 0.000   nan\n",
      "I          14    1.000 0.929 0.963   1     1.000 1.000 1.000\n",
      "G          11    0.200 0.091 0.125   1       nan 0.000   nan\n",
      "J          11    0.300 0.818 0.439   2       nan 0.000   nan\n",
      "K          5     0.000 0.000   nan   0       nan   nan   nan\n",
      "Epoch: 80  Train Loss:  20.5091  Acc: 97.35  Val  Loss   3.4181  Acc: 97.17\n"
     ]
    },
    {
     "name": "stderr",
     "output_type": "stream",
     "text": [
      "100%|█████████████████████████████████████████| 185/185 [00:09<00:00, 19.67it/s]\n",
      "100%|███████████████████████████████████████████| 26/26 [00:00<00:00, 71.25it/s]\n",
      "  1%|▍                                          | 2/185 [00:00<00:10, 17.59it/s]"
     ]
    },
    {
     "name": "stdout",
     "output_type": "stream",
     "text": [
      "Epoch: 81  Train Loss:  52.5844  Acc: 94.88  Val  Loss   4.6718  Acc: 96.18\n"
     ]
    },
    {
     "name": "stderr",
     "output_type": "stream",
     "text": [
      "100%|█████████████████████████████████████████| 185/185 [00:09<00:00, 19.74it/s]\n",
      "100%|███████████████████████████████████████████| 26/26 [00:00<00:00, 71.34it/s]\n",
      "  1%|▍                                          | 2/185 [00:00<00:09, 19.24it/s]"
     ]
    },
    {
     "name": "stdout",
     "output_type": "stream",
     "text": [
      "Epoch: 82  Train Loss:  18.7543  Acc: 97.52  Val  Loss   5.5427  Acc: 98.15\n"
     ]
    },
    {
     "name": "stderr",
     "output_type": "stream",
     "text": [
      "100%|█████████████████████████████████████████| 185/185 [00:09<00:00, 19.74it/s]\n",
      "100%|███████████████████████████████████████████| 26/26 [00:00<00:00, 70.82it/s]\n",
      "  2%|▋                                          | 3/185 [00:00<00:08, 20.93it/s]"
     ]
    },
    {
     "name": "stdout",
     "output_type": "stream",
     "text": [
      "Epoch: 83  Train Loss:  10.1746  Acc: 98.46  Val  Loss  17.9693  Acc: 98.28\n"
     ]
    },
    {
     "name": "stderr",
     "output_type": "stream",
     "text": [
      "100%|█████████████████████████████████████████| 185/185 [00:09<00:00, 19.82it/s]\n",
      "100%|███████████████████████████████████████████| 26/26 [00:00<00:00, 71.00it/s]\n",
      "  2%|▋                                          | 3/185 [00:00<00:08, 20.44it/s]"
     ]
    },
    {
     "name": "stdout",
     "output_type": "stream",
     "text": [
      "Epoch: 84  Train Loss:   9.7740  Acc: 98.39  Val  Loss  16.5492  Acc: 97.66\n"
     ]
    },
    {
     "name": "stderr",
     "output_type": "stream",
     "text": [
      "100%|█████████████████████████████████████████| 185/185 [00:09<00:00, 19.62it/s]\n",
      "100%|███████████████████████████████████████████| 26/26 [00:00<00:00, 70.88it/s]\n",
      "  2%|▋                                          | 3/185 [00:00<00:08, 21.41it/s]"
     ]
    },
    {
     "name": "stdout",
     "output_type": "stream",
     "text": [
      "A          3471  0.999 0.992 0.996   499   1.000 0.990 0.995\n",
      "C          794   1.000 1.000 1.000   115   1.000 1.000 1.000\n",
      "B          574   0.977 0.981 0.979   71    0.971 0.958 0.965\n",
      "QNOR       284   0.962 0.979 0.970   32    0.970 1.000 0.985\n",
      "ENOR       217   1.000 1.000 1.000   29    1.000 1.000 1.000\n",
      "SNOR       144   1.000 0.993 0.997   23    1.000 1.000 1.000\n",
      "CNOR       103   0.990 0.990 0.990   10    1.000 1.000 1.000\n",
      "D          66    0.889 0.970 0.928   6     0.857 1.000 0.923\n",
      "GNOR       44    1.000 0.977 0.989   6     1.000 1.000 1.000\n",
      "E          42    0.857 1.000 0.923   6     1.000 1.000 1.000\n",
      "BNOR       34    0.756 1.000 0.861   4     0.571 1.000 0.727\n",
      "NNOR       32    0.593 0.500 0.542   3     0.500 0.333 0.400\n",
      "F          31    0.939 1.000 0.969   3     1.000 1.000 1.000\n",
      "H          16    1.000 1.000 1.000   1     1.000 1.000 1.000\n",
      "I          14    0.929 0.929 0.929   1     1.000 1.000 1.000\n",
      "G          11    0.917 1.000 0.957   1     1.000 1.000 1.000\n",
      "J          11    0.500 0.727 0.593   2     0.500 1.000 0.667\n",
      "K          5       nan 0.000   nan   0       nan   nan   nan\n",
      "Epoch: 85  Train Loss:   8.4246  Acc: 98.71  Val  Loss   1.1984  Acc: 98.77\n"
     ]
    },
    {
     "name": "stderr",
     "output_type": "stream",
     "text": [
      "100%|█████████████████████████████████████████| 185/185 [00:09<00:00, 19.56it/s]\n",
      "100%|███████████████████████████████████████████| 26/26 [00:00<00:00, 71.07it/s]\n",
      "  1%|▍                                          | 2/185 [00:00<00:09, 18.85it/s]"
     ]
    },
    {
     "name": "stdout",
     "output_type": "stream",
     "text": [
      "Epoch: 86  Train Loss:   7.1098  Acc: 98.95  Val  Loss   2.3811  Acc: 98.65\n"
     ]
    },
    {
     "name": "stderr",
     "output_type": "stream",
     "text": [
      "100%|█████████████████████████████████████████| 185/185 [00:09<00:00, 19.77it/s]\n",
      "100%|███████████████████████████████████████████| 26/26 [00:00<00:00, 71.33it/s]\n",
      "  1%|▍                                          | 2/185 [00:00<00:09, 18.47it/s]"
     ]
    },
    {
     "name": "stdout",
     "output_type": "stream",
     "text": [
      "Epoch: 87  Train Loss:   6.8050  Acc: 98.83  Val  Loss   6.4309  Acc: 98.40\n"
     ]
    },
    {
     "name": "stderr",
     "output_type": "stream",
     "text": [
      "100%|█████████████████████████████████████████| 185/185 [00:09<00:00, 19.09it/s]\n",
      "100%|███████████████████████████████████████████| 26/26 [00:00<00:00, 71.34it/s]\n",
      "  2%|▋                                          | 3/185 [00:00<00:08, 21.93it/s]"
     ]
    },
    {
     "name": "stdout",
     "output_type": "stream",
     "text": [
      "Epoch: 88  Train Loss:   6.9261  Acc: 98.95  Val  Loss   8.6663  Acc: 98.28\n"
     ]
    },
    {
     "name": "stderr",
     "output_type": "stream",
     "text": [
      "100%|█████████████████████████████████████████| 185/185 [00:09<00:00, 19.08it/s]\n",
      "100%|███████████████████████████████████████████| 26/26 [00:00<00:00, 70.25it/s]\n",
      "  2%|▋                                          | 3/185 [00:00<00:08, 21.40it/s]"
     ]
    },
    {
     "name": "stdout",
     "output_type": "stream",
     "text": [
      "Epoch: 89  Train Loss:   6.4656  Acc: 98.88  Val  Loss   1.5913  Acc: 98.28\n"
     ]
    },
    {
     "name": "stderr",
     "output_type": "stream",
     "text": [
      "100%|█████████████████████████████████████████| 185/185 [00:09<00:00, 18.55it/s]\n",
      "100%|███████████████████████████████████████████| 26/26 [00:00<00:00, 71.20it/s]\n",
      "  1%|▍                                          | 2/185 [00:00<00:09, 18.93it/s]"
     ]
    },
    {
     "name": "stdout",
     "output_type": "stream",
     "text": [
      "A          3471  1.000 0.992 0.996   499   1.000 0.990 0.995\n",
      "C          794   1.000 1.000 1.000   115   1.000 1.000 1.000\n",
      "B          574   0.977 0.981 0.979   71    0.971 0.958 0.965\n",
      "QNOR       284   0.979 0.993 0.986   32    0.968 0.938 0.952\n",
      "ENOR       217   1.000 1.000 1.000   29    0.935 1.000 0.967\n",
      "SNOR       144   1.000 0.993 0.997   23    1.000 0.957 0.978\n",
      "CNOR       103   1.000 0.990 0.995   10    1.000 1.000 1.000\n",
      "D          66    0.890 0.985 0.935   6     0.857 1.000 0.923\n",
      "GNOR       44    0.977 0.977 0.977   6     0.857 1.000 0.923\n",
      "E          42    0.857 1.000 0.923   6     1.000 1.000 1.000\n",
      "BNOR       34    0.756 1.000 0.861   4     0.571 1.000 0.727\n",
      "NNOR       32    0.742 0.719 0.730   3     0.250 0.333 0.286\n",
      "F          31    0.939 1.000 0.969   3     1.000 1.000 1.000\n",
      "H          16    1.000 1.000 1.000   1     1.000 1.000 1.000\n",
      "I          14    1.000 0.929 0.963   1     1.000 1.000 1.000\n",
      "G          11    0.917 1.000 0.957   1     1.000 1.000 1.000\n",
      "J          11    1.000 1.000 1.000   2     0.500 0.500 0.500\n",
      "K          5     0.333 0.200 0.250   0       nan   nan   nan\n",
      "Epoch: 90  Train Loss:   6.6170  Acc: 98.98  Val  Loss  21.2143  Acc: 98.28\n"
     ]
    },
    {
     "name": "stderr",
     "output_type": "stream",
     "text": [
      "100%|█████████████████████████████████████████| 185/185 [00:09<00:00, 19.10it/s]\n",
      "100%|███████████████████████████████████████████| 26/26 [00:00<00:00, 70.92it/s]\n",
      "  1%|▍                                          | 2/185 [00:00<00:11, 16.26it/s]"
     ]
    },
    {
     "name": "stdout",
     "output_type": "stream",
     "text": [
      "Epoch: 91  Train Loss:   6.5184  Acc: 98.91  Val  Loss   5.2463  Acc: 98.28\n"
     ]
    },
    {
     "name": "stderr",
     "output_type": "stream",
     "text": [
      "100%|█████████████████████████████████████████| 185/185 [00:10<00:00, 18.43it/s]\n",
      "100%|███████████████████████████████████████████| 26/26 [00:00<00:00, 70.79it/s]\n",
      "  2%|▋                                          | 3/185 [00:00<00:09, 20.12it/s]"
     ]
    },
    {
     "name": "stdout",
     "output_type": "stream",
     "text": [
      "Epoch: 92  Train Loss:   6.0669  Acc: 99.02  Val  Loss   1.2040  Acc: 98.65\n"
     ]
    },
    {
     "name": "stderr",
     "output_type": "stream",
     "text": [
      "100%|█████████████████████████████████████████| 185/185 [00:09<00:00, 18.77it/s]\n",
      "100%|███████████████████████████████████████████| 26/26 [00:00<00:00, 69.89it/s]\n",
      "  2%|▋                                          | 3/185 [00:00<00:08, 20.34it/s]"
     ]
    },
    {
     "name": "stdout",
     "output_type": "stream",
     "text": [
      "Epoch: 93  Train Loss:  10.2053  Acc: 98.71  Val  Loss   2.9810  Acc: 98.15\n"
     ]
    },
    {
     "name": "stderr",
     "output_type": "stream",
     "text": [
      "100%|█████████████████████████████████████████| 185/185 [00:09<00:00, 20.00it/s]\n",
      "100%|███████████████████████████████████████████| 26/26 [00:00<00:00, 71.78it/s]\n",
      "  2%|▋                                          | 3/185 [00:00<00:08, 21.31it/s]"
     ]
    },
    {
     "name": "stdout",
     "output_type": "stream",
     "text": [
      "Epoch: 94  Train Loss:  82.3873  Acc: 90.50  Val  Loss   7.4778  Acc: 90.52\n"
     ]
    },
    {
     "name": "stderr",
     "output_type": "stream",
     "text": [
      "100%|█████████████████████████████████████████| 185/185 [00:09<00:00, 20.01it/s]\n",
      "100%|███████████████████████████████████████████| 26/26 [00:00<00:00, 71.69it/s]\n",
      "  1%|▍                                          | 2/185 [00:00<00:11, 16.18it/s]"
     ]
    },
    {
     "name": "stdout",
     "output_type": "stream",
     "text": [
      "A          3471  1.000 0.991 0.996   499   1.000 0.988 0.994\n",
      "C          794   0.981 0.995 0.988   115   1.000 0.991 0.996\n",
      "B          574   0.974 0.981 0.977   71    0.958 0.958 0.958\n",
      "QNOR       284   0.579 0.979 0.728   32    0.451 1.000 0.621\n",
      "ENOR       217   0.656 0.728 0.690   29    0.788 0.897 0.839\n",
      "SNOR       144   0.532 0.819 0.645   23    0.810 0.739 0.773\n",
      "CNOR       103   1.000 0.709 0.830   10    1.000 0.500 0.667\n",
      "D          66    0.200 0.015 0.028   6       nan 0.000   nan\n",
      "GNOR       44    1.000 0.864 0.927   6     1.000 0.667 0.800\n",
      "E          42      nan 0.000   nan   6       nan 0.000   nan\n",
      "BNOR       34      nan 0.000   nan   4       nan 0.000   nan\n",
      "NNOR       32      nan 0.000   nan   3       nan 0.000   nan\n",
      "F          31      nan 0.000   nan   3       nan 0.000   nan\n",
      "H          16      nan 0.000   nan   1       nan 0.000   nan\n",
      "I          14      nan 0.000   nan   1       nan 0.000   nan\n",
      "G          11    0.364 0.364 0.364   1       nan 0.000   nan\n",
      "J          11      nan 0.000   nan   2       nan 0.000   nan\n",
      "K          5       nan 0.000   nan   0       nan   nan   nan\n",
      "Epoch: 95  Train Loss:  45.7375  Acc: 92.70  Val  Loss   5.3223  Acc: 93.47\n"
     ]
    },
    {
     "name": "stderr",
     "output_type": "stream",
     "text": [
      "100%|█████████████████████████████████████████| 185/185 [00:09<00:00, 18.52it/s]\n",
      "100%|███████████████████████████████████████████| 26/26 [00:00<00:00, 70.49it/s]\n",
      "  1%|▍                                          | 2/185 [00:00<00:09, 18.38it/s]"
     ]
    },
    {
     "name": "stdout",
     "output_type": "stream",
     "text": [
      "Epoch: 96  Train Loss:  36.7596  Acc: 93.70  Val  Loss   4.8758  Acc: 94.09\n"
     ]
    },
    {
     "name": "stderr",
     "output_type": "stream",
     "text": [
      "100%|█████████████████████████████████████████| 185/185 [00:09<00:00, 18.52it/s]\n",
      "100%|███████████████████████████████████████████| 26/26 [00:00<00:00, 70.43it/s]\n",
      "  1%|▍                                          | 2/185 [00:00<00:10, 17.50it/s]"
     ]
    },
    {
     "name": "stdout",
     "output_type": "stream",
     "text": [
      "Epoch: 97  Train Loss:  30.4212  Acc: 94.20  Val  Loss   3.6947  Acc: 95.44\n"
     ]
    },
    {
     "name": "stderr",
     "output_type": "stream",
     "text": [
      "100%|█████████████████████████████████████████| 185/185 [00:10<00:00, 18.50it/s]\n",
      "100%|███████████████████████████████████████████| 26/26 [00:00<00:00, 70.31it/s]\n",
      "  1%|▍                                          | 2/185 [00:00<00:09, 19.46it/s]"
     ]
    },
    {
     "name": "stdout",
     "output_type": "stream",
     "text": [
      "Epoch: 98  Train Loss:  25.0486  Acc: 95.37  Val  Loss   3.7334  Acc: 96.67\n"
     ]
    },
    {
     "name": "stderr",
     "output_type": "stream",
     "text": [
      "100%|█████████████████████████████████████████| 185/185 [00:10<00:00, 18.45it/s]\n",
      "100%|███████████████████████████████████████████| 26/26 [00:00<00:00, 70.47it/s]\n",
      "  1%|▏                                          | 1/185 [00:00<00:20,  8.98it/s]"
     ]
    },
    {
     "name": "stdout",
     "output_type": "stream",
     "text": [
      "Epoch: 99  Train Loss:  33.4907  Acc: 95.60  Val  Loss   3.3804  Acc: 96.67\n"
     ]
    },
    {
     "name": "stderr",
     "output_type": "stream",
     "text": [
      "100%|█████████████████████████████████████████| 185/185 [00:30<00:00,  6.14it/s]\n",
      "100%|███████████████████████████████████████████| 26/26 [00:00<00:00, 78.12it/s]\n"
     ]
    },
    {
     "name": "stdout",
     "output_type": "stream",
     "text": [
      "A          3471  1.000 0.992 0.996   499   1.000 0.988 0.994\n",
      "C          794   1.000 0.999 0.999   115   1.000 1.000 1.000\n",
      "B          574   0.977 0.981 0.979   71    0.971 0.958 0.965\n",
      "QNOR       284   0.979 0.982 0.981   32    0.970 1.000 0.985\n",
      "ENOR       217   0.876 0.977 0.924   29    1.000 1.000 1.000\n",
      "SNOR       144   0.821 0.986 0.896   23    0.697 1.000 0.821\n",
      "CNOR       103   1.000 0.981 0.990   10    1.000 1.000 1.000\n",
      "D          66    0.754 0.652 0.699   6     1.000 0.500 0.667\n",
      "GNOR       44    1.000 0.955 0.977   6     1.000 1.000 1.000\n",
      "E          42    0.737 1.000 0.848   6     1.000 1.000 1.000\n",
      "BNOR       34    0.756 1.000 0.861   4     0.571 1.000 0.727\n",
      "NNOR       32    1.000 0.125 0.222   3     0.000 0.000   nan\n",
      "F          31    0.886 1.000 0.939   3     1.000 1.000 1.000\n",
      "H          16    0.321 0.562 0.409   1     0.500 1.000 0.667\n",
      "I          14    0.000 0.000   nan   1       nan 0.000   nan\n",
      "G          11    0.364 0.364 0.364   1     1.000 1.000 1.000\n",
      "J          11      nan 0.000   nan   2       nan 0.000   nan\n",
      "K          5       nan 0.000   nan   0       nan   nan   nan\n",
      "Epoch: 100  Train Loss:  17.5787  Acc: 97.42  Val  Loss   2.8216  Acc: 97.78\n"
     ]
    }
   ],
   "source": [
    "###############################################################################\n",
    "##    Training Loop\n",
    "###############################################################################\n",
    "#torch.cuda.manual_seed(20180119)  <-- set a value for consistency\n",
    "if args.load != '':\n",
    "    net = torch.load(args.load)                             # Load Saved Model\n",
    "    net.to(device)\n",
    "    if args.confusion:\n",
    "        loss, acc = net.run_evaluation(t_inps, t_outs, aggregate=args.load_test != '')\n",
    "    else:\n",
    "        loss, acc = net.run_evaluation(t_inps, t_outs, aggregate=args.load_test != '')\n",
    "    print(\"Acc: {:5.3f}\".format(acc))\n",
    "    if args.load_test != '':\n",
    "        net.print_predictors(\"test\")\n",
    "    sys.exit()\n",
    "else:\n",
    "    net = Net()\n",
    "    net.to(device)\n",
    "\n",
    "optimizer = torch.optim.Adam(net.parameters(), lr=args.lr)\n",
    "\n",
    "\"\"\"\n",
    "  Perform training\n",
    "\"\"\"\n",
    "prev_acc = 0\n",
    "for epoch in range(0, args.epochs):\n",
    "    net.predictors = defaultdict(int)\n",
    "    net.top_predictor = []\n",
    "\n",
    "    batches = []\n",
    "    indices = list(range(len(inps)))\n",
    "    for start in range(0, len(indices), args.batch_size):\n",
    "        batches.append((start, min(args.batch_size, len(indices)-start)))\n",
    "    random.shuffle(batches)\n",
    "\n",
    "    total_loss = 0.0\n",
    "    train_acc = []\n",
    "  \n",
    "    net.reset_counts(epoch)\n",
    "    for start, b_size in tqdm(batches, ncols=80):\n",
    "        r = indices[start : start + b_size]\n",
    "        \n",
    "        # Setup\n",
    "        optimizer.zero_grad()\n",
    "        inputs = torch.from_numpy(pad_data(inps[indices[start] : indices[start+b_size-1] + 1])).to(device)\n",
    "        labels = torch.from_numpy(outs[r]).to(device)\n",
    "\n",
    "        # Predict\n",
    "        net.train(mode=True)\n",
    "        logits, att, full = net(inputs)\n",
    "        if args.reweight:\n",
    "            ce_loss = F.cross_entropy(logits, labels, weight=weight)\n",
    "        else:\n",
    "            ce_loss = F.cross_entropy(logits, labels)\n",
    "        att = F.softmax(torch.squeeze(att), dim=-1)\n",
    "    \n",
    "        # Compute loss and update\n",
    "        loss = ce_loss\n",
    "        total_loss += ce_loss.item()\n",
    "        loss.backward()\n",
    "        optimizer.step()\n",
    "    \n",
    "        # Look at predictions\n",
    "        _, preds = torch.max(logits, 1)\n",
    "        dists = full.permute(0,2,1).cpu().data.numpy()\n",
    "    \n",
    "        preds = preds.data.cpu().numpy()\n",
    "        np.add.at(net.pred_counts, preds, 1)\n",
    "        np.add.at(net.gold_counts, outs[r], 1)\n",
    "        np.add.at(net.corr_counts, preds[preds == outs[r]], 1)\n",
    "\n",
    "        train_acc.extend(list(preds == outs[r]))\n",
    "    \n",
    "        # Very slow and memory intensive, should only be done with final model\n",
    "        # Useful for performing actual analysis.\n",
    "        if epoch == args.epochs - 1: \n",
    "            net.aggregate_predictors(strs[r], outs[r], full, att)\n",
    "  \n",
    "    # Evaluate on validation (during training)\n",
    "    val_loss, val_acc = net.run_evaluation(t_inps, t_outs, verbose=(epoch % 5 == 0 or epoch == args.epochs -1))\n",
    "\n",
    "    print(\"Epoch: {}  Train Loss: {:8.4f}  Acc: {:5.2f}  Val  Loss {:8.4f}  Acc: {:5.2f}\".format(epoch, \n",
    "          total_loss, 100*np.array(train_acc).mean(), val_loss, val_acc))\n",
    "\n",
    "    # Save best validation model for optimal generalization\n",
    "    if val_acc > prev_acc:\n",
    "        prev_acc = val_acc\n",
    "        pref = \"nitro\" if args.nitro else \"bd\" if args.bd else \"hco\"\n",
    "        torch.save(net, \"{}.{}.model\".format(pref, run))\n",
    "\n",
    "out = torch.cat((net.embedding.weight.data, torch.ones(len(acids), 1).to(device)), 1)\n",
    "\n",
    "# Generate analysis\n",
    "net.print_predictors(\"final\")"
   ]
  },
  {
   "cell_type": "code",
   "execution_count": 7,
   "metadata": {},
   "outputs": [],
   "source": [
    "# Above is an example run of 100 epochs with training (left) and validation (right) \n",
    "# precision, recall and F1 printed for every class.  Additionally, we print the overall \n",
    "# losses and accuracies after every epoch.  Note, these do not decrease monitonically but\n",
    "# in general the model does perform better after some backtracking.  For most use cases a \n",
    "# shorter training regime is probably sufficient."
   ]
  },
  {
   "cell_type": "code",
   "execution_count": null,
   "metadata": {},
   "outputs": [],
   "source": []
  }
 ],
 "metadata": {
  "kernelspec": {
   "display_name": "Python 3",
   "language": "python",
   "name": "python3"
  },
  "language_info": {
   "codemirror_mode": {
    "name": "ipython",
    "version": 3
   },
   "file_extension": ".py",
   "mimetype": "text/x-python",
   "name": "python",
   "nbconvert_exporter": "python",
   "pygments_lexer": "ipython3",
   "version": "3.6.7"
  }
 },
 "nbformat": 4,
 "nbformat_minor": 2
}
