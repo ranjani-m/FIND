{
 "cells": [
  {
   "cell_type": "code",
   "execution_count": 1,
   "metadata": {},
   "outputs": [],
   "source": [
    "\"\"\"\n",
    "   This section of the code simply sets up all possible variables we might want to change during training.\n",
    "\"\"\"\n",
    "import os, sys, random, gzip, optparse\n",
    "import numpy as np                     # Math and Deep Learning libraries\n",
    "import torch                \n",
    "import torch.nn as nn\n",
    "import torch.nn.functional as F\n",
    "from tqdm import tqdm                  # Pretty status bars\n",
    "from collections import defaultdict\n",
    "np.seterr(divide='ignore')             # Ignore divide by zero errors\n",
    "np.warnings.filterwarnings('ignore')\n",
    "\n",
    "# Use a GPU when possible\n",
    "device = torch.device(\"cuda:0\" if torch.cuda.is_available() else \"cpu\")\n",
    "\n",
    "parser = optparse.OptionParser(description='FIND')\n",
    "parser.add_option('--name',       type=str,            default='')\n",
    "parser.add_option('--batch-size', type=int,            default=32,    help='batch size')\n",
    "parser.add_option('--epochs',     type=int,            default=100,   help='number of epochs')\n",
    "parser.add_option('--hidden-dim', type=int,            default=256,   help='hidden dim')\n",
    "parser.add_option('--log',        type=str,            default='./logs/')\n",
    "parser.add_option('--load',       type=str,            default='',    help='Load model')\n",
    "parser.add_option('--load_test',  type=str,            default='',    help='Load specific test file')\n",
    "parser.add_option('--binary',     type=str,            default='',    help='Binary classifer based on argument')\n",
    "parser.add_option('--lr',         type=float,          default=5e-3)\n",
    "parser.add_option('--nitro',      action='store_true', default=False, help='Train/Test on nitrogenase')\n",
    "parser.add_option('--bd',         action='store_true', default=False, help='Train/Test on cytochrome bd oxidase')\n",
    "parser.add_option('--test',       action='store_true', default=False, help='Swap validation for test set')\n",
    "parser.add_option('--confusion',  action='store_true', default=False, help='If test, generate confusion matrix')\n",
    "parser.add_option('--pconfusion', action='store_true', default=False, help='sum probabilities for confusion')\n",
    "parser.add_option('--reweight',   action='store_true', default=False)\n",
    "\n",
    "\n",
    "sys.argv = sys.argv[3:]  # Remove pykernel launcher\n",
    "args, _ = parser.parse_args()\n",
    "\n",
    "# BD is small and performs better with a low learning rate\n",
    "# Example run below\n",
    "args.bd = True\n",
    "args.lr = 1e-3"
   ]
  },
  {
   "cell_type": "code",
   "execution_count": 2,
   "metadata": {},
   "outputs": [],
   "source": [
    "###############################################################################\n",
    "##    Infrastructure to process Data into Numpy Arrays of Integers\n",
    "##    Here we specify the dataset (indicated by args.nitro, args.bd or default HCO)\n",
    "##    Then we convert letters to numbers via the acids dictionary.\n",
    "##    We also compute the set of function labels (optionally training with binary)\n",
    "###############################################################################\n",
    "DATA_DIR = \"data/\"\n",
    "acids = {' ':0, 'A':1, 'C':2, 'E':3, 'D':4, 'G':5, 'F':6, 'I':7, 'H':8, \\\n",
    "         'K':9, 'M':10, 'L':11, 'N':12, 'Q':13, 'P':14, 'S':15, 'R':16, \\\n",
    "         'T':17, 'W':18, 'V':19, 'Y':20, 'X':21 }\n",
    "ints = {}\n",
    "for v in acids:\n",
    "    ints[acids[v]] = v\n",
    "\n",
    "lbls = {}\n",
    "ilbls = {}\n",
    "\n",
    "if args.nitro:\n",
    "    labels_file = \"nitro.labels.txt\"\n",
    "elif args.bd:\n",
    "    labels_file = \"bd.labels.txt\"\n",
    "else:\n",
    "    labels_file = \"hco.labels.txt\"\n",
    "\n",
    "L = [line.strip() for line in open(DATA_DIR + labels_file,'r')]\n",
    "# For logging we will store details of our training regime in the file name\n",
    "run = \"binary\" if args.binary else \"multi\"\n",
    "run += \".e{}\".format(args.epochs)\n",
    "run += \".h{}\".format(args.hidden_dim)\n",
    "run += \".b{}\".format(args.batch_size)\n",
    "if args.reweight:\n",
    "    run += \".reweight\"\n",
    "\n",
    "if len(args.binary) == 0:\n",
    "    for v in L:\n",
    "        lbls[v] = len(lbls)\n",
    "        ilbls[lbls[v]] = v\n",
    "    num_labels = len(lbls)\n",
    "else:\n",
    "    for v in L:\n",
    "        if v == args.binary:\n",
    "            lbls[v] = 1\n",
    "            ilbls[lbls[v]] = v\n",
    "        else:\n",
    "            lbls[v] = 0\n",
    "            ilbls[lbls[v]] = \"OTHER\"\n",
    "    print(lbls, ilbls)\n",
    "    num_labels = 2\n",
    "    run += \".\" + args.binary"
   ]
  },
  {
   "cell_type": "code",
   "execution_count": 3,
   "metadata": {},
   "outputs": [],
   "source": [
    "###############################################################################\n",
    "##    This block introduces helper functions\n",
    "##    to_int and to_string convert AAs back and forth between representations\n",
    "##    sort_data and pad_data help create batches of data of a fixed length to pass\n",
    "##      to the network.\n",
    "###############################################################################\n",
    "\n",
    "def to_int(seq):\n",
    "    \"\"\"   Map AA sequence to integers  \"\"\"\n",
    "    seq = seq.replace(\"*\",\"\")\n",
    "    conv = []\n",
    "    for i in range(len(seq)):\n",
    "        if seq[i] not in acids:\n",
    "            print(i, seq)\n",
    "        conv.append(acids[seq[i]])\n",
    "    return np.array(conv)\n",
    "\n",
    "def to_string(seq):\n",
    "    \"\"\"  Map ints to AA sequence  \"\"\"\n",
    "    return \"\".join([ints[s] for s in seq])\n",
    "\n",
    "def sort_data(inputs, outputs, strs=[]):\n",
    "    \"\"\" \n",
    "      Sorted by input length and then output length\n",
    "    \"\"\"\n",
    "    if len(strs) == 0:\n",
    "        strs = [\"\"]*len(inputs)\n",
    "    v = []\n",
    "    for i, o, s in zip(inputs, outputs, strs):\n",
    "        v.append((len(i), i, o, s))\n",
    "    v.sort(key=lambda x: x[0])\n",
    "\n",
    "    sorted_inputs = []\n",
    "    sorted_outputs = []\n",
    "    sorted_strs= []\n",
    "    for len_i, i, o, s in v:\n",
    "        sorted_inputs.append(i)\n",
    "        sorted_outputs.append(o)\n",
    "        sorted_strs.append(s)\n",
    "\n",
    "    return sorted_inputs, sorted_outputs, sorted_strs\n",
    "\n",
    "def pad_data(inputs):\n",
    "    max_i = max([len(i) for i in inputs])\n",
    "  \n",
    "    padded_i = np.zeros((len(inputs), max_i), dtype=np.int64)\n",
    "    for i in range(len(inputs)):\n",
    "        padded_i[i, :len(inputs[i])] = np.copy(inputs[i])\n",
    "\n",
    "    return padded_i"
   ]
  },
  {
   "cell_type": "code",
   "execution_count": 4,
   "metadata": {},
   "outputs": [
    {
     "name": "stdout",
     "output_type": "stream",
     "text": [
      "Training counts\t\n",
      "E1: 373    C: 206    E2: 123    A: 47    E4: 41    B: 33    E3: 26\n",
      "Train Inps:  849\n",
      "Train Outs:  (849,)\n",
      "Test  Inps:  117\n",
      "Test  Outs:  (117,)\n",
      "Labels\t {'B': 0, 'E4': 1, 'E3': 2, 'E2': 3, 'C': 4, 'E1': 5, 'A': 6}\n"
     ]
    }
   ],
   "source": [
    "###############################################################################\n",
    "##    Data is loaded, Train/Validation/Test, counted, converted to numbers and \n",
    "##    stored in numpy arrays.\n",
    "###############################################################################\n",
    "\"\"\" Data & Parameters \"\"\"\n",
    "if args.nitro:\n",
    "    prefix = \"nitro.labeled\" \n",
    "elif args.bd:\n",
    "    prefix = \"bd.labeled\"\n",
    "else:\n",
    "    prefix = \"hco.labeled\"\n",
    "\n",
    "data = [line.strip().split() for line in open(DATA_DIR + prefix + \".train\",'r')]\n",
    "if args.test:\n",
    "    val = [line.strip().split() for line in open(DATA_DIR + prefix + \".test\",'r')]\n",
    "elif args.load_test != '':\n",
    "    val = [line.strip().split() for line in open(args.load_test,'r')]\n",
    "else:\n",
    "    val = [line.strip().split() for line in open(DATA_DIR + prefix + \".val\",'r')]\n",
    "\n",
    "for vals in data:\n",
    "    if len(vals) != 2:\n",
    "        print(vals)\n",
    "strs = np.array([sequence for label, sequence in data])\n",
    "inputs = [to_int(sequence) for label, sequence in data]\n",
    "outputs = np.array([lbls[label] for label, sequence in data])\n",
    "\n",
    "print(\"Training counts\\t\")\n",
    "l_c = defaultdict(int) \n",
    "for v in outputs:\n",
    "    l_c[ilbls[v]] += 1\n",
    "V = [(l_c[v],v) for v in l_c]\n",
    "V.sort()\n",
    "V.reverse()\n",
    "print(\"    \".join([\"{}: {}\".format(lbl, cnt) for cnt,lbl in V]))\n",
    "\n",
    "count = np.zeros(len(ilbls), dtype=np.float32)\n",
    "\n",
    "for v in range(len(ilbls)):\n",
    "    if ilbls[v] in l_c:\n",
    "        count[v] += l_c[ilbls[v]]\n",
    "distr = np.sum(count)/(np.size(count)*count) #1. - count/np.sum(count)\n",
    "weight = torch.from_numpy(100*distr).to(device)\n",
    "\n",
    "inps, outs, strs = sort_data(inputs, outputs, strs)\n",
    "outs = np.array(outs)\n",
    "strs = np.array(strs)\n",
    "\n",
    "t_strs = np.array([sequence for label, sequence in val])\n",
    "t_inps = [to_int(sequence) for label, sequence in val]\n",
    "t_outs = np.array([lbls[label] for label, sequence in val])\n",
    "t_inps, t_outs, t_strs = sort_data(t_inps, t_outs, t_strs)\n",
    "t_outs = np.array(t_outs)\n",
    "t_strs = np.array(t_strs)\n",
    "\n",
    "print(\"Train Inps: \", len(inputs))\n",
    "print(\"Train Outs: \", outputs.shape)\n",
    "print(\"Test  Inps: \", len(t_inps))\n",
    "print(\"Test  Outs: \", t_outs.shape)\n",
    "print(\"Labels\\t\",lbls)"
   ]
  },
  {
   "cell_type": "code",
   "execution_count": 5,
   "metadata": {},
   "outputs": [],
   "source": [
    "###############################################################################\n",
    "##    Model definition + Helper Functions\n",
    "###############################################################################\n",
    "class Net(nn.Module):\n",
    "    def __init__(self, width=3, RF=19):\n",
    "        \"\"\"\n",
    "           Build a stack of 1D convolutions with batch norm and ReLU activations\n",
    "           The final two convolutions are simply linear layers, then followed by\n",
    "           a prediction and attention layer.\n",
    "        \"\"\"\n",
    "        super(Net, self).__init__()\n",
    "        self.width = width\n",
    "        self.RF = RF\n",
    "    \n",
    "        self.embedding = nn.Embedding(len(acids), args.hidden_dim)\n",
    "        layers = [\n",
    "          nn.Conv1d(args.hidden_dim, args.hidden_dim, self.width),\n",
    "          nn.ReLU(),\n",
    "          nn.BatchNorm1d(args.hidden_dim),\n",
    "          nn.Conv1d(args.hidden_dim, args.hidden_dim, self.width*2),\n",
    "          nn.ReLU(),\n",
    "          nn.BatchNorm1d(args.hidden_dim),\n",
    "          nn.Conv1d(args.hidden_dim, args.hidden_dim, self.width*4),\n",
    "          nn.ReLU(),\n",
    "          nn.BatchNorm1d(args.hidden_dim),\n",
    "          nn.Conv1d(args.hidden_dim, args.hidden_dim, 1),\n",
    "          nn.ReLU(),\n",
    "          nn.Conv1d(args.hidden_dim, args.hidden_dim, 1),\n",
    "          nn.ReLU(),\n",
    "        ]\n",
    "\n",
    "        self.conv_stack = nn.Sequential(*layers)\n",
    "    \n",
    "        self.pred = nn.Conv1d(args.hidden_dim, num_labels, 1)\n",
    "        self.att = nn.Conv1d(args.hidden_dim, 1, 1)\n",
    "\n",
    "    def forward(self, x):\n",
    "        embed = self.embedding(x).permute(0,2,1)\n",
    "        embed = self.conv_stack(embed)\n",
    "\n",
    "        # Log probabilities for every class at every substring\n",
    "        logits = self.pred(embed)\n",
    "    \n",
    "        # Un-normalized weight of a given n-gram\n",
    "        att = self.att(embed)\n",
    "        # Reshape [b,L] --> [b,1,L]  -- and normalize\n",
    "        re_att = F.softmax(att.view(x.size()[0],1,-1), dim=-1)\n",
    "        # Rescale logits by attention weight\n",
    "        joint = re_att * logits\n",
    "        # Class distribution\n",
    "        collapsed = torch.sum(joint, 2)\n",
    "        return collapsed, att, logits\n",
    "\n",
    "    def reset_counts(self, epoch):\n",
    "        self.gold_counts = np.zeros(num_labels)\n",
    "        self.pred_counts = np.zeros(num_labels)\n",
    "        self.corr_counts = np.zeros(num_labels)\n",
    "        self.epoch = epoch"
   ]
  },
  {
   "cell_type": "code",
   "execution_count": 6,
   "metadata": {},
   "outputs": [],
   "source": [
    "###############################################################################\n",
    "##    Functions for evaluation and visualization\n",
    "###############################################################################\n",
    "\n",
    "def run_evaluation(net, v_inputs, v_outputs, v_strings = [], aggregate=False, verbose=False, showTrain=True):\n",
    "    net.train(mode=False)\n",
    "    net.top_predictor = []\n",
    "    net.predictors = defaultdict(int)\n",
    "    \"\"\"\n",
    "      Run evaluation\n",
    "    \"\"\"\n",
    "    val_loss = 0.0\n",
    "    val_acc = []\n",
    "    gold_counts = np.zeros(num_labels)\n",
    "    pred_counts = np.zeros(num_labels)\n",
    "    corr_counts = np.zeros(num_labels)\n",
    "\n",
    "    if args.confusion:\n",
    "        pairs = np.zeros((num_labels, num_labels))\n",
    "\n",
    "    v_inps, v_outs, v_strs = sort_data(v_inputs, v_outputs, v_strings)\n",
    "    v_outs = np.array(v_outs)\n",
    "    v_strs = np.array(v_strs)\n",
    "    batches = []\n",
    "    indices = list(range(len(v_inps)))\n",
    "    for start in range(0, len(indices), args.batch_size):\n",
    "        batches.append((start, min(args.batch_size, len(indices)-start)))\n",
    "\n",
    "    for start, b_size in tqdm(batches, ncols=80):\n",
    "        vals = indices[start : start + b_size]\n",
    "\n",
    "        inputs = torch.from_numpy(pad_data(v_inps[indices[start]:indices[start+b_size-1]+1])).to(device)\n",
    "        labels = torch.from_numpy(v_outs[vals]).to(device)\n",
    "        logits, att, full = net(inputs)\n",
    "        att = F.softmax(torch.squeeze(att), dim=-1)\n",
    "        val_loss += F.cross_entropy(logits, labels).item()\n",
    "        _, preds = torch.max(logits, 1)\n",
    "\n",
    "        preds = preds.data.cpu().numpy()\n",
    "        val_acc.extend(list((preds == v_outs[vals])))\n",
    "\n",
    "        np.add.at(pred_counts, preds, 1)\n",
    "        np.add.at(gold_counts, v_outs[vals], 1)\n",
    "        np.add.at(corr_counts, preds[(preds == v_outs[vals])], 1)\n",
    "\n",
    "        if args.confusion:\n",
    "            if not args.pconfusion:\n",
    "                np.add.at(pairs, [v_outs[vals], preds], 1)\n",
    "            else:\n",
    "                dists = F.softmax(logits, -1)\n",
    "                for i in range(len(vals)):\n",
    "                    gold = v_outs[vals][i]\n",
    "\n",
    "                    tmp = [(dists[i,j], j) for j in range(len(ilbls))]\n",
    "                    tmp.sort()\n",
    "                    prob, second = tmp[-2]\n",
    "                    pairs[gold, second] += 1\n",
    "\n",
    "        if aggregate:\n",
    "            aggregate_predictors(net, v_strs[vals], v_outs[vals], full, att)\n",
    "\n",
    "    if verbose:\n",
    "        if aggregate or not showTrain:\n",
    "            print_eval((gold_counts, pred_counts, corr_counts))\n",
    "        else:\n",
    "            print_eval((net.gold_counts, net.pred_counts, net.corr_counts), \n",
    "                           (gold_counts, pred_counts, corr_counts))\n",
    "\n",
    "    if args.confusion:\n",
    "        out = open(\"confusion.csv\", 'w')\n",
    "        out.write(\",\" + \",\".join([ilbls[i] for i in range(len(ilbls))]) + \"\\n\")\n",
    "        for i in range(len(ilbls)):\n",
    "            out.write(\"{},\".format(ilbls[i]))\n",
    "            for j in range(len(ilbls)):\n",
    "                out.write(\"{},\".format(pairs[i,j]))\n",
    "            out.write(\"\\n\")\n",
    "        out.close()\n",
    "    return val_loss, 100*np.array(val_acc).mean()\n",
    "\n",
    "def aggregate_predictors(net, seqs, outs, full, att):\n",
    "    dists = F.softmax(full.permute(0, 2, 1), dim=-1)\n",
    "    if dists.shape[0] == 1:\n",
    "        att = att.unsqueeze(0)  # batch size of 1 needs to be unsqueezed\n",
    "    vals = dists * att.unsqueeze(2)\n",
    "    for b in range(len(seqs)):\n",
    "        max_val = -1e10\n",
    "        max_predictor = \"NONE\"\n",
    "        max_class = -1\n",
    "        for i in range(len(att[0])):\n",
    "            predictor = seqs[b][i:i + net.RF]\n",
    "\n",
    "            for c in range(num_labels):\n",
    "                net.predictors[(predictor, c)] += vals[b,i,c].item() \n",
    "\n",
    "            cval, c = torch.max(vals[b,i,:], 0)\n",
    "            cval = cval.item()\n",
    "            if cval > max_val:\n",
    "                max_val = cval\n",
    "                max_predictor = predictor\n",
    "                max_class = c.item()\n",
    "        net.top_predictor.append((max_val, max_predictor, ilbls[max_class], ilbls[outs[b]], seqs[b].strip()))\n",
    "\n",
    "\n",
    "def print_predictors(net, epoch):\n",
    "    start = \"nitro\" if args.nitro else \"bd\" if args.bd else \"hco\"\n",
    "    rtype = \"binary\" if args.binary else \"multi\"\n",
    "    rewht = \"reweight\" if args.reweight else \"orig\"\n",
    "    fname = \"{}.{}.{}.{}.{}.h{}.b{}\".format(start, epoch, net.RF, rtype, rewht, args.hidden_dim, args.batch_size)\n",
    "\n",
    "    g = gzip.open(\"{}.predictors.joint.gz\".format(fname),'wt')\n",
    "    joint = defaultdict(list)\n",
    "    for seq, lbl in net.predictors:\n",
    "        joint[ilbls[lbl]].append((net.predictors[(seq, lbl)], seq))\n",
    "\n",
    "    for lbl in joint:\n",
    "        vals = joint[lbl]\n",
    "        vals.sort()\n",
    "        vals.reverse()\n",
    "        for val, seq in vals:\n",
    "            g.write(\"{:5} {:30} {}\\n\".format(lbl, seq, val))\n",
    "        g.write(\"\\n\")\n",
    "    g.close()\n",
    "\n",
    "\n",
    "    g = gzip.open(\"{}.top_predictors.txt.gz\".format(fname), 'wt')\n",
    "    g.write(\"{:10} {:30} {:5} {:5} {}\\n\".format(\"Val\", \"Predictor\", \"Pred\", \"Gold\", \"Seq\"))\n",
    "    net.top_predictor.sort()\n",
    "    net.top_predictor.reverse()\n",
    "    for val, predictor, pred, gold, seq in net.top_predictor:\n",
    "        g.write(\"{:10.9f} {:30} {:5} {:5} {}\\n\".format(val, predictor, pred, gold, seq))\n",
    "    g.close()\n",
    "\n",
    "\n",
    "def print_eval(train, test=None): \n",
    "    \"\"\"  Print training performance  \"\"\"\n",
    "    gold, pred, corr = train\n",
    "    p, r = corr / pred, corr / gold\n",
    "    f = 2*p*r/(p+r)\n",
    "\n",
    "    if test is not None:\n",
    "        t_gold, t_pred, t_corr = test\n",
    "        t_p, t_r = t_corr / t_pred, t_corr / t_gold\n",
    "        t_f = 2*t_p*t_r/(t_p+t_r)\n",
    "\n",
    "    gold_counts = [(gold[lab],lab) for lab in range(num_labels)]\n",
    "    gold_counts.sort(reverse=True)\n",
    "    for count, i in gold_counts:\n",
    "        train_str = \"{:<10} {:<5} {:5.3f} {:5.3f} {:5.3f}   \".format(ilbls[i], int(count), p[i], r[i], f[i])\n",
    "        if test is not None:\n",
    "            test_str = \"{:<5} {:5.3f} {:5.3f} {:5.3f}\".format(int(t_gold[i]), t_p[i], t_r[i], t_f[i])\n",
    "        else:\n",
    "            test_str = \"\"\n",
    "        print(train_str + test_str)"
   ]
  },
  {
   "cell_type": "code",
   "execution_count": 7,
   "metadata": {},
   "outputs": [
    {
     "name": "stderr",
     "output_type": "stream",
     "text": [
      "100%|███████████████████████████████████████████| 27/27 [00:01<00:00, 22.98it/s]\n",
      "100%|█████████████████████████████████████████████| 4/4 [00:00<00:00, 88.79it/s]\n",
      " 11%|████▉                                       | 3/27 [00:00<00:01, 23.28it/s]"
     ]
    },
    {
     "name": "stdout",
     "output_type": "stream",
     "text": [
      "E1         373   0.514 0.804 0.627   58    0.972 0.603 0.745\n",
      "C          206   0.376 0.272 0.315   24    0.296 1.000 0.457\n",
      "E2         123   0.219 0.057 0.090   17      nan 0.000   nan\n",
      "A          47      nan 0.000   nan   6       nan 0.000   nan\n",
      "E4         41    0.048 0.098 0.064   3       nan 0.000   nan\n",
      "B          33      nan 0.000   nan   1       nan 0.000   nan\n",
      "E3         26      nan 0.000   nan   8       nan 0.000   nan\n",
      "Epoch: 0  Train Loss:  42.0500  Acc: 43.23  Val  Loss   5.7246  Acc: 50.43\n"
     ]
    },
    {
     "name": "stderr",
     "output_type": "stream",
     "text": [
      "100%|███████████████████████████████████████████| 27/27 [00:01<00:00, 24.13it/s]\n",
      "100%|█████████████████████████████████████████████| 4/4 [00:00<00:00, 87.46it/s]\n",
      " 11%|████▉                                       | 3/27 [00:00<00:01, 23.02it/s]"
     ]
    },
    {
     "name": "stdout",
     "output_type": "stream",
     "text": [
      "Epoch: 1  Train Loss:  36.9096  Acc: 48.53  Val  Loss   3.9526  Acc: 68.38\n"
     ]
    },
    {
     "name": "stderr",
     "output_type": "stream",
     "text": [
      "100%|███████████████████████████████████████████| 27/27 [00:01<00:00, 23.86it/s]\n",
      "100%|█████████████████████████████████████████████| 4/4 [00:00<00:00, 85.97it/s]\n",
      " 11%|████▉                                       | 3/27 [00:00<00:00, 25.10it/s]"
     ]
    },
    {
     "name": "stdout",
     "output_type": "stream",
     "text": [
      "Epoch: 2  Train Loss:  30.2535  Acc: 59.01  Val  Loss   3.9170  Acc: 58.12\n"
     ]
    },
    {
     "name": "stderr",
     "output_type": "stream",
     "text": [
      "100%|███████████████████████████████████████████| 27/27 [00:01<00:00, 23.98it/s]\n",
      "100%|█████████████████████████████████████████████| 4/4 [00:00<00:00, 86.78it/s]\n",
      " 11%|████▉                                       | 3/27 [00:00<00:01, 23.74it/s]"
     ]
    },
    {
     "name": "stdout",
     "output_type": "stream",
     "text": [
      "Epoch: 3  Train Loss:  30.2013  Acc: 57.71  Val  Loss   3.1095  Acc: 70.09\n"
     ]
    },
    {
     "name": "stderr",
     "output_type": "stream",
     "text": [
      "100%|███████████████████████████████████████████| 27/27 [00:01<00:00, 23.99it/s]\n",
      "100%|█████████████████████████████████████████████| 4/4 [00:00<00:00, 85.86it/s]\n",
      " 11%|████▉                                       | 3/27 [00:00<00:01, 22.63it/s]"
     ]
    },
    {
     "name": "stdout",
     "output_type": "stream",
     "text": [
      "Epoch: 4  Train Loss:  23.2013  Acc: 66.55  Val  Loss   2.3916  Acc: 70.94\n"
     ]
    },
    {
     "name": "stderr",
     "output_type": "stream",
     "text": [
      "100%|███████████████████████████████████████████| 27/27 [00:01<00:00, 23.84it/s]\n",
      "100%|█████████████████████████████████████████████| 4/4 [00:00<00:00, 86.09it/s]\n",
      " 11%|████▉                                       | 3/27 [00:00<00:00, 24.04it/s]"
     ]
    },
    {
     "name": "stdout",
     "output_type": "stream",
     "text": [
      "Epoch: 5  Train Loss:  16.7196  Acc: 73.62  Val  Loss   2.2541  Acc: 77.78\n"
     ]
    },
    {
     "name": "stderr",
     "output_type": "stream",
     "text": [
      "100%|███████████████████████████████████████████| 27/27 [00:01<00:00, 23.72it/s]\n",
      "100%|█████████████████████████████████████████████| 4/4 [00:00<00:00, 86.81it/s]\n",
      "  7%|███▎                                        | 2/27 [00:00<00:01, 19.09it/s]"
     ]
    },
    {
     "name": "stdout",
     "output_type": "stream",
     "text": [
      "Epoch: 6  Train Loss:  18.6337  Acc: 73.62  Val  Loss   1.5663  Acc: 83.76\n"
     ]
    },
    {
     "name": "stderr",
     "output_type": "stream",
     "text": [
      "100%|███████████████████████████████████████████| 27/27 [00:01<00:00, 23.63it/s]\n",
      "100%|█████████████████████████████████████████████| 4/4 [00:00<00:00, 85.13it/s]\n",
      " 11%|████▉                                       | 3/27 [00:00<00:01, 21.99it/s]"
     ]
    },
    {
     "name": "stdout",
     "output_type": "stream",
     "text": [
      "Epoch: 7  Train Loss:  18.4645  Acc: 75.27  Val  Loss   2.4827  Acc: 76.92\n"
     ]
    },
    {
     "name": "stderr",
     "output_type": "stream",
     "text": [
      "100%|███████████████████████████████████████████| 27/27 [00:01<00:00, 23.62it/s]\n",
      "100%|█████████████████████████████████████████████| 4/4 [00:00<00:00, 87.16it/s]\n",
      "  7%|███▎                                        | 2/27 [00:00<00:01, 19.21it/s]"
     ]
    },
    {
     "name": "stdout",
     "output_type": "stream",
     "text": [
      "Epoch: 8  Train Loss:  13.2933  Acc: 80.68  Val  Loss   1.2693  Acc: 83.76\n"
     ]
    },
    {
     "name": "stderr",
     "output_type": "stream",
     "text": [
      "100%|███████████████████████████████████████████| 27/27 [00:01<00:00, 23.73it/s]\n",
      "100%|█████████████████████████████████████████████| 4/4 [00:00<00:00, 87.27it/s]\n",
      " 11%|████▉                                       | 3/27 [00:00<00:00, 25.01it/s]"
     ]
    },
    {
     "name": "stdout",
     "output_type": "stream",
     "text": [
      "Epoch: 9  Train Loss:   8.5742  Acc: 85.63  Val  Loss   2.0158  Acc: 84.62\n"
     ]
    },
    {
     "name": "stderr",
     "output_type": "stream",
     "text": [
      "100%|███████████████████████████████████████████| 27/27 [00:01<00:00, 23.75it/s]\n",
      "100%|█████████████████████████████████████████████| 4/4 [00:00<00:00, 85.78it/s]\n",
      " 11%|████▉                                       | 3/27 [00:00<00:01, 21.03it/s]"
     ]
    },
    {
     "name": "stdout",
     "output_type": "stream",
     "text": [
      "E1         373   0.898 0.968 0.932   58    0.983 1.000 0.991\n",
      "C          206   0.995 1.000 0.998   24    1.000 1.000 1.000\n",
      "E2         123   0.704 0.772 0.736   17    0.654 1.000 0.791\n",
      "A          47    0.687 0.979 0.807   6     1.000 0.667 0.800\n",
      "E4         41    0.833 0.488 0.615   3     0.667 0.667 0.667\n",
      "B          33    0.143 0.061 0.085   1     0.000 0.000   nan\n",
      "E3         26      nan 0.000   nan   8       nan 0.000   nan\n",
      "Epoch: 10  Train Loss:  11.6247  Acc: 85.98  Val  Loss   1.0039  Acc: 89.74\n"
     ]
    },
    {
     "name": "stderr",
     "output_type": "stream",
     "text": [
      "100%|███████████████████████████████████████████| 27/27 [00:01<00:00, 23.68it/s]\n",
      "100%|█████████████████████████████████████████████| 4/4 [00:00<00:00, 86.36it/s]\n",
      " 11%|████▉                                       | 3/27 [00:00<00:00, 26.58it/s]"
     ]
    },
    {
     "name": "stdout",
     "output_type": "stream",
     "text": [
      "Epoch: 11  Train Loss:   5.0701  Acc: 92.70  Val  Loss   0.6640  Acc: 91.45\n"
     ]
    },
    {
     "name": "stderr",
     "output_type": "stream",
     "text": [
      "100%|███████████████████████████████████████████| 27/27 [00:01<00:00, 23.53it/s]\n",
      "100%|█████████████████████████████████████████████| 4/4 [00:00<00:00, 85.19it/s]\n",
      "  7%|███▎                                        | 2/27 [00:00<00:01, 19.29it/s]"
     ]
    },
    {
     "name": "stdout",
     "output_type": "stream",
     "text": [
      "Epoch: 12  Train Loss:   4.1493  Acc: 95.29  Val  Loss   0.5270  Acc: 94.02\n"
     ]
    },
    {
     "name": "stderr",
     "output_type": "stream",
     "text": [
      "100%|███████████████████████████████████████████| 27/27 [00:01<00:00, 23.69it/s]\n",
      "100%|█████████████████████████████████████████████| 4/4 [00:00<00:00, 87.41it/s]\n",
      "  7%|███▎                                        | 2/27 [00:00<00:01, 19.29it/s]"
     ]
    },
    {
     "name": "stdout",
     "output_type": "stream",
     "text": [
      "Epoch: 13  Train Loss:   3.9656  Acc: 93.88  Val  Loss   0.5509  Acc: 93.16\n"
     ]
    },
    {
     "name": "stderr",
     "output_type": "stream",
     "text": [
      "100%|███████████████████████████████████████████| 27/27 [00:01<00:00, 23.68it/s]\n",
      "100%|█████████████████████████████████████████████| 4/4 [00:00<00:00, 86.50it/s]\n",
      "  7%|███▎                                        | 2/27 [00:00<00:01, 19.99it/s]"
     ]
    },
    {
     "name": "stdout",
     "output_type": "stream",
     "text": [
      "Epoch: 14  Train Loss:   2.9894  Acc: 96.94  Val  Loss   0.4651  Acc: 94.02\n"
     ]
    },
    {
     "name": "stderr",
     "output_type": "stream",
     "text": [
      "100%|███████████████████████████████████████████| 27/27 [00:01<00:00, 23.50it/s]\n",
      "100%|█████████████████████████████████████████████| 4/4 [00:00<00:00, 84.01it/s]\n",
      " 11%|████▉                                       | 3/27 [00:00<00:00, 24.84it/s]"
     ]
    },
    {
     "name": "stdout",
     "output_type": "stream",
     "text": [
      "Epoch: 15  Train Loss:   2.6244  Acc: 96.47  Val  Loss   0.3633  Acc: 92.31\n"
     ]
    },
    {
     "name": "stderr",
     "output_type": "stream",
     "text": [
      "100%|███████████████████████████████████████████| 27/27 [00:01<00:00, 23.69it/s]\n",
      "100%|█████████████████████████████████████████████| 4/4 [00:00<00:00, 85.94it/s]\n",
      " 11%|████▉                                       | 3/27 [00:00<00:00, 24.84it/s]"
     ]
    },
    {
     "name": "stdout",
     "output_type": "stream",
     "text": [
      "Epoch: 16  Train Loss:   1.9727  Acc: 97.17  Val  Loss   0.3135  Acc: 96.58\n"
     ]
    },
    {
     "name": "stderr",
     "output_type": "stream",
     "text": [
      "100%|███████████████████████████████████████████| 27/27 [00:01<00:00, 23.13it/s]\n",
      "100%|█████████████████████████████████████████████| 4/4 [00:00<00:00, 85.79it/s]\n",
      " 11%|████▉                                       | 3/27 [00:00<00:00, 24.29it/s]"
     ]
    },
    {
     "name": "stdout",
     "output_type": "stream",
     "text": [
      "Epoch: 17  Train Loss:   1.7215  Acc: 98.70  Val  Loss   0.9505  Acc: 91.45\n"
     ]
    },
    {
     "name": "stderr",
     "output_type": "stream",
     "text": [
      "100%|███████████████████████████████████████████| 27/27 [00:01<00:00, 23.25it/s]\n",
      "100%|█████████████████████████████████████████████| 4/4 [00:00<00:00, 87.52it/s]\n",
      " 11%|████▉                                       | 3/27 [00:00<00:00, 24.72it/s]"
     ]
    },
    {
     "name": "stdout",
     "output_type": "stream",
     "text": [
      "Epoch: 18  Train Loss:  37.7761  Acc: 75.03  Val  Loss   6.9621  Acc: 70.09\n"
     ]
    },
    {
     "name": "stderr",
     "output_type": "stream",
     "text": [
      "100%|███████████████████████████████████████████| 27/27 [00:01<00:00, 23.48it/s]\n",
      "100%|█████████████████████████████████████████████| 4/4 [00:00<00:00, 85.64it/s]\n",
      " 11%|████▉                                       | 3/27 [00:00<00:01, 19.91it/s]"
     ]
    },
    {
     "name": "stdout",
     "output_type": "stream",
     "text": [
      "Epoch: 19  Train Loss:  11.7668  Acc: 86.45  Val  Loss   1.2610  Acc: 88.89\n"
     ]
    },
    {
     "name": "stderr",
     "output_type": "stream",
     "text": [
      "100%|███████████████████████████████████████████| 27/27 [00:01<00:00, 23.59it/s]\n",
      "100%|█████████████████████████████████████████████| 4/4 [00:00<00:00, 86.84it/s]\n",
      " 11%|████▉                                       | 3/27 [00:00<00:00, 24.51it/s]"
     ]
    },
    {
     "name": "stdout",
     "output_type": "stream",
     "text": [
      "E1         373   0.963 0.987 0.975   58    0.934 0.983 0.958\n",
      "C          206   0.967 0.995 0.981   24    1.000 1.000 1.000\n",
      "E2         123   0.842 0.951 0.893   17    1.000 0.824 0.903\n",
      "A          47    0.667 0.979 0.793   6     0.750 1.000 0.857\n",
      "E4         41    0.550 0.537 0.543   3     0.333 0.667 0.444\n",
      "B          33    0.500 0.030 0.057   1     0.000 0.000   nan\n",
      "E3         26    0.400 0.077 0.129   8     0.667 0.250 0.364\n",
      "Epoch: 20  Train Loss:   7.5138  Acc: 89.63  Val  Loss   0.8394  Acc: 89.74\n"
     ]
    },
    {
     "name": "stderr",
     "output_type": "stream",
     "text": [
      "100%|███████████████████████████████████████████| 27/27 [00:01<00:00, 23.36it/s]\n",
      "100%|█████████████████████████████████████████████| 4/4 [00:00<00:00, 85.34it/s]\n",
      "  7%|███▎                                        | 2/27 [00:00<00:01, 19.92it/s]"
     ]
    },
    {
     "name": "stdout",
     "output_type": "stream",
     "text": [
      "Epoch: 21  Train Loss:   4.8344  Acc: 93.40  Val  Loss   0.5728  Acc: 92.31\n"
     ]
    },
    {
     "name": "stderr",
     "output_type": "stream",
     "text": [
      "100%|███████████████████████████████████████████| 27/27 [00:01<00:00, 23.70it/s]\n",
      "100%|█████████████████████████████████████████████| 4/4 [00:00<00:00, 85.34it/s]\n",
      "  7%|███▎                                        | 2/27 [00:00<00:01, 19.50it/s]"
     ]
    },
    {
     "name": "stdout",
     "output_type": "stream",
     "text": [
      "Epoch: 22  Train Loss:   3.4308  Acc: 96.00  Val  Loss   0.5690  Acc: 92.31\n"
     ]
    },
    {
     "name": "stderr",
     "output_type": "stream",
     "text": [
      "100%|███████████████████████████████████████████| 27/27 [00:01<00:00, 23.17it/s]\n",
      "100%|█████████████████████████████████████████████| 4/4 [00:00<00:00, 85.33it/s]\n",
      " 11%|████▉                                       | 3/27 [00:00<00:00, 25.16it/s]"
     ]
    },
    {
     "name": "stdout",
     "output_type": "stream",
     "text": [
      "Epoch: 23  Train Loss:   2.6116  Acc: 96.70  Val  Loss   0.4448  Acc: 94.87\n"
     ]
    },
    {
     "name": "stderr",
     "output_type": "stream",
     "text": [
      "100%|███████████████████████████████████████████| 27/27 [00:01<00:00, 23.24it/s]\n",
      "100%|█████████████████████████████████████████████| 4/4 [00:00<00:00, 85.14it/s]\n",
      " 11%|████▉                                       | 3/27 [00:00<00:00, 24.42it/s]"
     ]
    },
    {
     "name": "stdout",
     "output_type": "stream",
     "text": [
      "Epoch: 24  Train Loss:   2.6027  Acc: 96.11  Val  Loss   0.5734  Acc: 93.16\n"
     ]
    },
    {
     "name": "stderr",
     "output_type": "stream",
     "text": [
      "100%|███████████████████████████████████████████| 27/27 [00:01<00:00, 23.14it/s]\n",
      "100%|█████████████████████████████████████████████| 4/4 [00:00<00:00, 85.93it/s]\n",
      " 11%|████▉                                       | 3/27 [00:00<00:00, 24.25it/s]"
     ]
    },
    {
     "name": "stdout",
     "output_type": "stream",
     "text": [
      "Epoch: 25  Train Loss:   2.2993  Acc: 97.17  Val  Loss   0.5111  Acc: 94.02\n"
     ]
    },
    {
     "name": "stderr",
     "output_type": "stream",
     "text": [
      "100%|███████████████████████████████████████████| 27/27 [00:01<00:00, 23.39it/s]\n",
      "100%|█████████████████████████████████████████████| 4/4 [00:00<00:00, 86.29it/s]\n",
      " 11%|████▉                                       | 3/27 [00:00<00:00, 24.47it/s]"
     ]
    },
    {
     "name": "stdout",
     "output_type": "stream",
     "text": [
      "Epoch: 26  Train Loss:   1.9792  Acc: 97.88  Val  Loss   0.3555  Acc: 95.73\n"
     ]
    },
    {
     "name": "stderr",
     "output_type": "stream",
     "text": [
      "100%|███████████████████████████████████████████| 27/27 [00:01<00:00, 23.21it/s]\n",
      "100%|█████████████████████████████████████████████| 4/4 [00:00<00:00, 84.87it/s]\n",
      " 11%|████▉                                       | 3/27 [00:00<00:01, 23.63it/s]"
     ]
    },
    {
     "name": "stdout",
     "output_type": "stream",
     "text": [
      "Epoch: 27  Train Loss:   1.8016  Acc: 98.00  Val  Loss   0.5488  Acc: 94.87\n"
     ]
    },
    {
     "name": "stderr",
     "output_type": "stream",
     "text": [
      "100%|███████████████████████████████████████████| 27/27 [00:01<00:00, 23.13it/s]\n",
      "100%|█████████████████████████████████████████████| 4/4 [00:00<00:00, 85.91it/s]\n",
      " 11%|████▉                                       | 3/27 [00:00<00:00, 25.30it/s]"
     ]
    },
    {
     "name": "stdout",
     "output_type": "stream",
     "text": [
      "Epoch: 28  Train Loss:   2.2394  Acc: 96.94  Val  Loss   0.3930  Acc: 95.73\n"
     ]
    },
    {
     "name": "stderr",
     "output_type": "stream",
     "text": [
      "100%|███████████████████████████████████████████| 27/27 [00:01<00:00, 23.02it/s]\n",
      "100%|█████████████████████████████████████████████| 4/4 [00:00<00:00, 85.13it/s]\n",
      " 11%|████▉                                       | 3/27 [00:00<00:00, 24.98it/s]"
     ]
    },
    {
     "name": "stdout",
     "output_type": "stream",
     "text": [
      "Epoch: 29  Train Loss:   1.4302  Acc: 98.59  Val  Loss   0.3406  Acc: 96.58\n"
     ]
    },
    {
     "name": "stderr",
     "output_type": "stream",
     "text": [
      "100%|███████████████████████████████████████████| 27/27 [00:01<00:00, 24.75it/s]\n",
      "100%|█████████████████████████████████████████████| 4/4 [00:00<00:00, 88.47it/s]\n",
      " 11%|████▉                                       | 3/27 [00:00<00:00, 27.44it/s]"
     ]
    },
    {
     "name": "stdout",
     "output_type": "stream",
     "text": [
      "E1         373   0.984 0.992 0.988   58    0.935 1.000 0.967\n",
      "C          206   1.000 1.000 1.000   24    1.000 1.000 1.000\n",
      "E2         123   0.992 0.992 0.992   17    1.000 0.882 0.938\n",
      "A          47    1.000 1.000 1.000   6     1.000 1.000 1.000\n",
      "E4         41    1.000 0.951 0.975   3     0.750 1.000 0.857\n",
      "B          33    0.943 1.000 0.971   1     0.500 1.000 0.667\n",
      "E3         26    0.826 0.731 0.776   8     1.000 0.500 0.667\n",
      "Epoch: 30  Train Loss:   1.4349  Acc: 98.47  Val  Loss   0.6377  Acc: 94.87\n"
     ]
    },
    {
     "name": "stderr",
     "output_type": "stream",
     "text": [
      "100%|███████████████████████████████████████████| 27/27 [00:01<00:00, 24.64it/s]\n",
      "100%|█████████████████████████████████████████████| 4/4 [00:00<00:00, 86.68it/s]\n",
      " 11%|████▉                                       | 3/27 [00:00<00:00, 25.09it/s]"
     ]
    },
    {
     "name": "stdout",
     "output_type": "stream",
     "text": [
      "Epoch: 31  Train Loss:   1.0198  Acc: 99.18  Val  Loss   0.2983  Acc: 95.73\n"
     ]
    },
    {
     "name": "stderr",
     "output_type": "stream",
     "text": [
      "100%|███████████████████████████████████████████| 27/27 [00:01<00:00, 24.75it/s]\n",
      "100%|█████████████████████████████████████████████| 4/4 [00:00<00:00, 86.21it/s]\n",
      " 11%|████▉                                       | 3/27 [00:00<00:00, 27.11it/s]"
     ]
    },
    {
     "name": "stdout",
     "output_type": "stream",
     "text": [
      "Epoch: 32  Train Loss:   0.8379  Acc: 99.18  Val  Loss   0.5294  Acc: 94.87\n"
     ]
    },
    {
     "name": "stderr",
     "output_type": "stream",
     "text": [
      "100%|███████████████████████████████████████████| 27/27 [00:01<00:00, 24.28it/s]\n",
      "100%|█████████████████████████████████████████████| 4/4 [00:00<00:00, 86.34it/s]\n",
      " 11%|████▉                                       | 3/27 [00:00<00:00, 24.56it/s]"
     ]
    },
    {
     "name": "stdout",
     "output_type": "stream",
     "text": [
      "Epoch: 33  Train Loss:   0.9769  Acc: 98.94  Val  Loss   0.3053  Acc: 96.58\n"
     ]
    },
    {
     "name": "stderr",
     "output_type": "stream",
     "text": [
      "100%|███████████████████████████████████████████| 27/27 [00:01<00:00, 23.57it/s]\n",
      "100%|█████████████████████████████████████████████| 4/4 [00:00<00:00, 86.22it/s]\n",
      " 11%|████▉                                       | 3/27 [00:00<00:00, 26.57it/s]"
     ]
    },
    {
     "name": "stdout",
     "output_type": "stream",
     "text": [
      "Epoch: 34  Train Loss:   0.8398  Acc: 99.18  Val  Loss   0.3706  Acc: 94.87\n"
     ]
    },
    {
     "name": "stderr",
     "output_type": "stream",
     "text": [
      "100%|███████████████████████████████████████████| 27/27 [00:01<00:00, 23.61it/s]\n",
      "100%|█████████████████████████████████████████████| 4/4 [00:00<00:00, 86.51it/s]\n",
      " 11%|████▉                                       | 3/27 [00:00<00:00, 25.33it/s]"
     ]
    },
    {
     "name": "stdout",
     "output_type": "stream",
     "text": [
      "Epoch: 35  Train Loss:   0.6447  Acc: 99.41  Val  Loss   0.3435  Acc: 96.58\n"
     ]
    },
    {
     "name": "stderr",
     "output_type": "stream",
     "text": [
      "100%|███████████████████████████████████████████| 27/27 [00:01<00:00, 23.75it/s]\n",
      "100%|█████████████████████████████████████████████| 4/4 [00:00<00:00, 86.90it/s]\n",
      " 11%|████▉                                       | 3/27 [00:00<00:00, 24.56it/s]"
     ]
    },
    {
     "name": "stdout",
     "output_type": "stream",
     "text": [
      "Epoch: 36  Train Loss:   0.7317  Acc: 99.06  Val  Loss   0.3925  Acc: 94.87\n"
     ]
    },
    {
     "name": "stderr",
     "output_type": "stream",
     "text": [
      "100%|███████████████████████████████████████████| 27/27 [00:01<00:00, 23.29it/s]\n",
      "100%|█████████████████████████████████████████████| 4/4 [00:00<00:00, 85.27it/s]\n",
      " 11%|████▉                                       | 3/27 [00:00<00:00, 25.30it/s]"
     ]
    },
    {
     "name": "stdout",
     "output_type": "stream",
     "text": [
      "Epoch: 37  Train Loss:   0.4079  Acc: 99.76  Val  Loss   0.3203  Acc: 96.58\n"
     ]
    },
    {
     "name": "stderr",
     "output_type": "stream",
     "text": [
      "100%|███████████████████████████████████████████| 27/27 [00:01<00:00, 22.88it/s]\n",
      "100%|█████████████████████████████████████████████| 4/4 [00:00<00:00, 83.48it/s]\n",
      "  7%|███▎                                        | 2/27 [00:00<00:01, 19.71it/s]"
     ]
    },
    {
     "name": "stdout",
     "output_type": "stream",
     "text": [
      "Epoch: 38  Train Loss:   0.3628  Acc: 99.41  Val  Loss   0.5148  Acc: 94.87\n"
     ]
    },
    {
     "name": "stderr",
     "output_type": "stream",
     "text": [
      "100%|███████████████████████████████████████████| 27/27 [00:01<00:00, 22.89it/s]\n",
      "100%|█████████████████████████████████████████████| 4/4 [00:00<00:00, 84.46it/s]\n",
      " 11%|████▉                                       | 3/27 [00:00<00:01, 23.81it/s]"
     ]
    },
    {
     "name": "stdout",
     "output_type": "stream",
     "text": [
      "Epoch: 39  Train Loss:   0.4450  Acc: 99.65  Val  Loss   0.3125  Acc: 97.44\n"
     ]
    },
    {
     "name": "stderr",
     "output_type": "stream",
     "text": [
      "100%|███████████████████████████████████████████| 27/27 [00:01<00:00, 23.10it/s]\n",
      "100%|█████████████████████████████████████████████| 4/4 [00:00<00:00, 85.72it/s]\n",
      " 11%|████▉                                       | 3/27 [00:00<00:01, 23.56it/s]"
     ]
    },
    {
     "name": "stdout",
     "output_type": "stream",
     "text": [
      "E1         373   0.995 0.997 0.996   58    0.983 0.983 0.983\n",
      "C          206   1.000 1.000 1.000   24    1.000 1.000 1.000\n",
      "E2         123   1.000 0.992 0.996   17    1.000 0.941 0.970\n",
      "A          47    1.000 1.000 1.000   6     1.000 0.833 0.909\n",
      "E4         41    1.000 1.000 1.000   3     0.750 1.000 0.857\n",
      "B          33    1.000 1.000 1.000   1     0.500 1.000 0.667\n",
      "E3         26    0.962 0.962 0.962   8     0.875 0.875 0.875\n",
      "Epoch: 40  Train Loss:   0.3085  Acc: 99.65  Val  Loss   0.2785  Acc: 96.58\n"
     ]
    },
    {
     "name": "stderr",
     "output_type": "stream",
     "text": [
      "100%|███████████████████████████████████████████| 27/27 [00:01<00:00, 22.92it/s]\n",
      "100%|█████████████████████████████████████████████| 4/4 [00:00<00:00, 84.49it/s]\n",
      " 11%|████▉                                       | 3/27 [00:00<00:00, 24.74it/s]"
     ]
    },
    {
     "name": "stdout",
     "output_type": "stream",
     "text": [
      "Epoch: 41  Train Loss:   0.3859  Acc: 99.53  Val  Loss   0.3006  Acc: 98.29\n"
     ]
    },
    {
     "name": "stderr",
     "output_type": "stream",
     "text": [
      "100%|███████████████████████████████████████████| 27/27 [00:01<00:00, 22.71it/s]\n",
      "100%|█████████████████████████████████████████████| 4/4 [00:00<00:00, 82.13it/s]\n",
      " 11%|████▉                                       | 3/27 [00:00<00:01, 20.11it/s]"
     ]
    },
    {
     "name": "stdout",
     "output_type": "stream",
     "text": [
      "Epoch: 42  Train Loss:   0.4022  Acc: 99.53  Val  Loss   0.6556  Acc: 95.73\n"
     ]
    },
    {
     "name": "stderr",
     "output_type": "stream",
     "text": [
      "100%|███████████████████████████████████████████| 27/27 [00:01<00:00, 22.84it/s]\n",
      "100%|█████████████████████████████████████████████| 4/4 [00:00<00:00, 78.26it/s]\n",
      " 11%|████▉                                       | 3/27 [00:00<00:01, 23.69it/s]"
     ]
    },
    {
     "name": "stdout",
     "output_type": "stream",
     "text": [
      "Epoch: 43  Train Loss:   0.9096  Acc: 98.94  Val  Loss   0.3594  Acc: 95.73\n"
     ]
    },
    {
     "name": "stderr",
     "output_type": "stream",
     "text": [
      "100%|███████████████████████████████████████████| 27/27 [00:01<00:00, 22.31it/s]\n",
      "100%|█████████████████████████████████████████████| 4/4 [00:00<00:00, 77.73it/s]\n",
      " 11%|████▉                                       | 3/27 [00:00<00:00, 25.56it/s]"
     ]
    },
    {
     "name": "stdout",
     "output_type": "stream",
     "text": [
      "Epoch: 44  Train Loss:   0.3275  Acc: 99.65  Val  Loss   0.3342  Acc: 97.44\n"
     ]
    },
    {
     "name": "stderr",
     "output_type": "stream",
     "text": [
      "100%|███████████████████████████████████████████| 27/27 [00:01<00:00, 22.48it/s]\n",
      "100%|█████████████████████████████████████████████| 4/4 [00:00<00:00, 79.07it/s]\n",
      " 11%|████▉                                       | 3/27 [00:00<00:01, 19.83it/s]"
     ]
    },
    {
     "name": "stdout",
     "output_type": "stream",
     "text": [
      "Epoch: 45  Train Loss:   0.2978  Acc: 99.76  Val  Loss   0.4344  Acc: 96.58\n"
     ]
    },
    {
     "name": "stderr",
     "output_type": "stream",
     "text": [
      "100%|███████████████████████████████████████████| 27/27 [00:01<00:00, 22.50it/s]\n",
      "100%|█████████████████████████████████████████████| 4/4 [00:00<00:00, 79.18it/s]\n",
      " 11%|████▉                                       | 3/27 [00:00<00:00, 24.01it/s]"
     ]
    },
    {
     "name": "stdout",
     "output_type": "stream",
     "text": [
      "Epoch: 46  Train Loss:   0.2845  Acc: 99.65  Val  Loss   0.4269  Acc: 96.58\n"
     ]
    },
    {
     "name": "stderr",
     "output_type": "stream",
     "text": [
      "100%|███████████████████████████████████████████| 27/27 [00:01<00:00, 21.42it/s]\n",
      "100%|█████████████████████████████████████████████| 4/4 [00:00<00:00, 79.19it/s]\n",
      " 11%|████▉                                       | 3/27 [00:00<00:00, 24.22it/s]"
     ]
    },
    {
     "name": "stdout",
     "output_type": "stream",
     "text": [
      "Epoch: 47  Train Loss:   0.2210  Acc: 99.65  Val  Loss   0.4292  Acc: 96.58\n"
     ]
    },
    {
     "name": "stderr",
     "output_type": "stream",
     "text": [
      "100%|███████████████████████████████████████████| 27/27 [00:01<00:00, 21.64it/s]\n",
      "100%|█████████████████████████████████████████████| 4/4 [00:00<00:00, 77.27it/s]\n",
      " 11%|████▉                                       | 3/27 [00:00<00:01, 21.92it/s]"
     ]
    },
    {
     "name": "stdout",
     "output_type": "stream",
     "text": [
      "Epoch: 48  Train Loss:   0.3591  Acc: 99.76  Val  Loss   0.2863  Acc: 97.44\n"
     ]
    },
    {
     "name": "stderr",
     "output_type": "stream",
     "text": [
      "100%|███████████████████████████████████████████| 27/27 [00:01<00:00, 22.09it/s]\n",
      "100%|█████████████████████████████████████████████| 4/4 [00:00<00:00, 79.03it/s]\n",
      " 11%|████▉                                       | 3/27 [00:00<00:01, 22.80it/s]"
     ]
    },
    {
     "name": "stdout",
     "output_type": "stream",
     "text": [
      "Epoch: 49  Train Loss:   0.1859  Acc: 99.76  Val  Loss   0.5325  Acc: 95.73\n"
     ]
    },
    {
     "name": "stderr",
     "output_type": "stream",
     "text": [
      "100%|███████████████████████████████████████████| 27/27 [00:01<00:00, 22.38it/s]\n",
      "100%|█████████████████████████████████████████████| 4/4 [00:00<00:00, 79.08it/s]\n",
      " 11%|████▉                                       | 3/27 [00:00<00:01, 20.26it/s]"
     ]
    },
    {
     "name": "stdout",
     "output_type": "stream",
     "text": [
      "E1         373   0.997 0.995 0.996   58    0.951 1.000 0.975\n",
      "C          206   1.000 1.000 1.000   24    1.000 1.000 1.000\n",
      "E2         123   1.000 0.992 0.996   17    1.000 0.882 0.938\n",
      "A          47    1.000 1.000 1.000   6     1.000 1.000 1.000\n",
      "E4         41    1.000 1.000 1.000   3     0.750 1.000 0.857\n",
      "B          33    1.000 1.000 1.000   1     0.500 1.000 0.667\n",
      "E3         26    0.893 0.962 0.926   8     1.000 0.625 0.769\n",
      "Epoch: 50  Train Loss:   0.2471  Acc: 99.53  Val  Loss   0.6796  Acc: 95.73\n"
     ]
    },
    {
     "name": "stderr",
     "output_type": "stream",
     "text": [
      "100%|███████████████████████████████████████████| 27/27 [00:01<00:00, 22.64it/s]\n",
      "100%|█████████████████████████████████████████████| 4/4 [00:00<00:00, 80.17it/s]\n",
      "  7%|███▎                                        | 2/27 [00:00<00:01, 17.93it/s]"
     ]
    },
    {
     "name": "stdout",
     "output_type": "stream",
     "text": [
      "Epoch: 51  Train Loss:   0.5513  Acc: 99.65  Val  Loss   0.3997  Acc: 96.58\n"
     ]
    },
    {
     "name": "stderr",
     "output_type": "stream",
     "text": [
      "100%|███████████████████████████████████████████| 27/27 [00:01<00:00, 21.65it/s]\n",
      "100%|█████████████████████████████████████████████| 4/4 [00:00<00:00, 77.11it/s]\n",
      "  7%|███▎                                        | 2/27 [00:00<00:01, 17.25it/s]"
     ]
    },
    {
     "name": "stdout",
     "output_type": "stream",
     "text": [
      "Epoch: 52  Train Loss:   0.3010  Acc: 99.65  Val  Loss   0.5098  Acc: 95.73\n"
     ]
    },
    {
     "name": "stderr",
     "output_type": "stream",
     "text": [
      "100%|███████████████████████████████████████████| 27/27 [00:01<00:00, 22.63it/s]\n",
      "100%|█████████████████████████████████████████████| 4/4 [00:00<00:00, 78.99it/s]\n",
      " 11%|████▉                                       | 3/27 [00:00<00:00, 24.08it/s]"
     ]
    },
    {
     "name": "stdout",
     "output_type": "stream",
     "text": [
      "Epoch: 53  Train Loss:   0.2431  Acc: 99.76  Val  Loss   0.2938  Acc: 96.58\n"
     ]
    },
    {
     "name": "stderr",
     "output_type": "stream",
     "text": [
      "100%|███████████████████████████████████████████| 27/27 [00:01<00:00, 21.32it/s]\n",
      "100%|█████████████████████████████████████████████| 4/4 [00:00<00:00, 77.72it/s]\n",
      " 11%|████▉                                       | 3/27 [00:00<00:01, 23.58it/s]"
     ]
    },
    {
     "name": "stdout",
     "output_type": "stream",
     "text": [
      "Epoch: 54  Train Loss:   0.3047  Acc: 99.65  Val  Loss   0.6367  Acc: 94.87\n"
     ]
    },
    {
     "name": "stderr",
     "output_type": "stream",
     "text": [
      "100%|███████████████████████████████████████████| 27/27 [00:01<00:00, 21.26it/s]\n",
      "100%|█████████████████████████████████████████████| 4/4 [00:00<00:00, 77.57it/s]\n",
      " 11%|████▉                                       | 3/27 [00:00<00:01, 19.98it/s]"
     ]
    },
    {
     "name": "stdout",
     "output_type": "stream",
     "text": [
      "Epoch: 55  Train Loss:   0.1938  Acc: 99.76  Val  Loss   0.3798  Acc: 96.58\n"
     ]
    },
    {
     "name": "stderr",
     "output_type": "stream",
     "text": [
      "100%|███████████████████████████████████████████| 27/27 [00:01<00:00, 21.21it/s]\n",
      "100%|█████████████████████████████████████████████| 4/4 [00:00<00:00, 76.35it/s]\n",
      " 11%|████▉                                       | 3/27 [00:00<00:01, 21.46it/s]"
     ]
    },
    {
     "name": "stdout",
     "output_type": "stream",
     "text": [
      "Epoch: 56  Train Loss:   0.2186  Acc: 99.65  Val  Loss   0.4571  Acc: 95.73\n"
     ]
    },
    {
     "name": "stderr",
     "output_type": "stream",
     "text": [
      "100%|███████████████████████████████████████████| 27/27 [00:01<00:00, 21.19it/s]\n",
      "100%|█████████████████████████████████████████████| 4/4 [00:00<00:00, 77.20it/s]\n",
      " 11%|████▉                                       | 3/27 [00:00<00:01, 22.46it/s]"
     ]
    },
    {
     "name": "stdout",
     "output_type": "stream",
     "text": [
      "Epoch: 57  Train Loss:   0.2037  Acc: 99.65  Val  Loss   0.8392  Acc: 94.02\n"
     ]
    },
    {
     "name": "stderr",
     "output_type": "stream",
     "text": [
      "100%|███████████████████████████████████████████| 27/27 [00:01<00:00, 21.60it/s]\n",
      "100%|█████████████████████████████████████████████| 4/4 [00:00<00:00, 78.49it/s]\n",
      " 11%|████▉                                       | 3/27 [00:00<00:01, 22.87it/s]"
     ]
    },
    {
     "name": "stdout",
     "output_type": "stream",
     "text": [
      "Epoch: 58  Train Loss:   0.2701  Acc: 99.76  Val  Loss   0.4342  Acc: 97.44\n"
     ]
    },
    {
     "name": "stderr",
     "output_type": "stream",
     "text": [
      "100%|███████████████████████████████████████████| 27/27 [00:01<00:00, 21.40it/s]\n",
      "100%|█████████████████████████████████████████████| 4/4 [00:00<00:00, 77.27it/s]\n",
      " 11%|████▉                                       | 3/27 [00:00<00:01, 22.90it/s]"
     ]
    },
    {
     "name": "stdout",
     "output_type": "stream",
     "text": [
      "Epoch: 59  Train Loss:   0.5540  Acc: 99.53  Val  Loss   0.4722  Acc: 97.44\n"
     ]
    },
    {
     "name": "stderr",
     "output_type": "stream",
     "text": [
      "100%|███████████████████████████████████████████| 27/27 [00:01<00:00, 21.99it/s]\n",
      "100%|█████████████████████████████████████████████| 4/4 [00:00<00:00, 77.36it/s]\n",
      " 11%|████▉                                       | 3/27 [00:00<00:01, 21.29it/s]"
     ]
    },
    {
     "name": "stdout",
     "output_type": "stream",
     "text": [
      "E1         373   0.995 0.997 0.996   58    0.983 1.000 0.991\n",
      "C          206   1.000 1.000 1.000   24    1.000 1.000 1.000\n",
      "E2         123   1.000 0.992 0.996   17    1.000 0.882 0.938\n",
      "A          47    1.000 1.000 1.000   6     1.000 0.833 0.909\n",
      "E4         41    1.000 1.000 1.000   3     0.750 1.000 0.857\n",
      "B          33    1.000 1.000 1.000   1     0.333 1.000 0.500\n",
      "E3         26    0.962 0.962 0.962   8     1.000 0.875 0.933\n",
      "Epoch: 60  Train Loss:   0.2999  Acc: 99.65  Val  Loss   0.6592  Acc: 96.58\n"
     ]
    },
    {
     "name": "stderr",
     "output_type": "stream",
     "text": [
      "100%|███████████████████████████████████████████| 27/27 [00:01<00:00, 22.06it/s]\n",
      "100%|█████████████████████████████████████████████| 4/4 [00:00<00:00, 78.64it/s]\n",
      " 11%|████▉                                       | 3/27 [00:00<00:01, 22.81it/s]"
     ]
    },
    {
     "name": "stdout",
     "output_type": "stream",
     "text": [
      "Epoch: 61  Train Loss:   0.6550  Acc: 99.41  Val  Loss   0.6179  Acc: 95.73\n"
     ]
    },
    {
     "name": "stderr",
     "output_type": "stream",
     "text": [
      "100%|███████████████████████████████████████████| 27/27 [00:01<00:00, 21.77it/s]\n",
      "100%|█████████████████████████████████████████████| 4/4 [00:00<00:00, 77.61it/s]\n",
      " 11%|████▉                                       | 3/27 [00:00<00:01, 20.33it/s]"
     ]
    },
    {
     "name": "stdout",
     "output_type": "stream",
     "text": [
      "Epoch: 62  Train Loss:  22.3530  Acc: 87.40  Val  Loss   6.2048  Acc: 85.47\n"
     ]
    },
    {
     "name": "stderr",
     "output_type": "stream",
     "text": [
      "100%|███████████████████████████████████████████| 27/27 [00:01<00:00, 22.05it/s]\n",
      "100%|█████████████████████████████████████████████| 4/4 [00:00<00:00, 79.17it/s]\n",
      " 11%|████▉                                       | 3/27 [00:00<00:01, 22.78it/s]"
     ]
    },
    {
     "name": "stdout",
     "output_type": "stream",
     "text": [
      "Epoch: 63  Train Loss:  29.8717  Acc: 69.61  Val  Loss   2.7103  Acc: 73.50\n"
     ]
    },
    {
     "name": "stderr",
     "output_type": "stream",
     "text": [
      "100%|███████████████████████████████████████████| 27/27 [00:01<00:00, 22.23it/s]\n",
      "100%|█████████████████████████████████████████████| 4/4 [00:00<00:00, 76.03it/s]\n",
      " 11%|████▉                                       | 3/27 [00:00<00:01, 21.79it/s]"
     ]
    },
    {
     "name": "stdout",
     "output_type": "stream",
     "text": [
      "Epoch: 64  Train Loss:  12.6776  Acc: 82.69  Val  Loss   1.5909  Acc: 87.18\n"
     ]
    },
    {
     "name": "stderr",
     "output_type": "stream",
     "text": [
      "100%|███████████████████████████████████████████| 27/27 [00:01<00:00, 20.91it/s]\n",
      "100%|█████████████████████████████████████████████| 4/4 [00:00<00:00, 77.69it/s]\n",
      "  7%|███▎                                        | 2/27 [00:00<00:01, 19.85it/s]"
     ]
    },
    {
     "name": "stdout",
     "output_type": "stream",
     "text": [
      "Epoch: 65  Train Loss:   8.2922  Acc: 89.63  Val  Loss   1.0018  Acc: 93.16\n"
     ]
    },
    {
     "name": "stderr",
     "output_type": "stream",
     "text": [
      "100%|███████████████████████████████████████████| 27/27 [00:01<00:00, 20.91it/s]\n",
      "100%|█████████████████████████████████████████████| 4/4 [00:00<00:00, 77.36it/s]\n",
      " 11%|████▉                                       | 3/27 [00:00<00:01, 21.07it/s]"
     ]
    },
    {
     "name": "stdout",
     "output_type": "stream",
     "text": [
      "Epoch: 66  Train Loss:   5.4809  Acc: 92.93  Val  Loss   0.5921  Acc: 94.02\n"
     ]
    },
    {
     "name": "stderr",
     "output_type": "stream",
     "text": [
      "100%|███████████████████████████████████████████| 27/27 [00:01<00:00, 20.89it/s]\n",
      "100%|█████████████████████████████████████████████| 4/4 [00:00<00:00, 76.94it/s]\n",
      " 11%|████▉                                       | 3/27 [00:00<00:01, 23.62it/s]"
     ]
    },
    {
     "name": "stdout",
     "output_type": "stream",
     "text": [
      "Epoch: 67  Train Loss:   3.6576  Acc: 94.94  Val  Loss   0.5280  Acc: 94.02\n"
     ]
    },
    {
     "name": "stderr",
     "output_type": "stream",
     "text": [
      "100%|███████████████████████████████████████████| 27/27 [00:01<00:00, 20.89it/s]\n",
      "100%|█████████████████████████████████████████████| 4/4 [00:00<00:00, 77.05it/s]\n",
      " 11%|████▉                                       | 3/27 [00:00<00:01, 22.59it/s]"
     ]
    },
    {
     "name": "stdout",
     "output_type": "stream",
     "text": [
      "Epoch: 68  Train Loss:   2.6619  Acc: 97.29  Val  Loss   0.6660  Acc: 94.02\n"
     ]
    },
    {
     "name": "stderr",
     "output_type": "stream",
     "text": [
      "100%|███████████████████████████████████████████| 27/27 [00:01<00:00, 20.92it/s]\n",
      "100%|█████████████████████████████████████████████| 4/4 [00:00<00:00, 75.89it/s]\n",
      " 11%|████▉                                       | 3/27 [00:00<00:01, 22.35it/s]"
     ]
    },
    {
     "name": "stdout",
     "output_type": "stream",
     "text": [
      "Epoch: 69  Train Loss:   2.2299  Acc: 97.88  Val  Loss   0.5126  Acc: 94.02\n"
     ]
    },
    {
     "name": "stderr",
     "output_type": "stream",
     "text": [
      "100%|███████████████████████████████████████████| 27/27 [00:01<00:00, 20.91it/s]\n",
      "100%|█████████████████████████████████████████████| 4/4 [00:00<00:00, 77.37it/s]\n",
      " 11%|████▉                                       | 3/27 [00:00<00:01, 21.36it/s]"
     ]
    },
    {
     "name": "stdout",
     "output_type": "stream",
     "text": [
      "E1         373   0.981 0.995 0.988   58    0.905 0.983 0.942\n",
      "C          206   1.000 1.000 1.000   24    1.000 1.000 1.000\n",
      "E2         123   1.000 0.984 0.992   17    1.000 0.941 0.970\n",
      "A          47    1.000 1.000 1.000   6     1.000 0.833 0.909\n",
      "E4         41    1.000 0.976 0.988   3     0.750 1.000 0.857\n",
      "B          33    0.868 1.000 0.930   1     0.000 0.000   nan\n",
      "E3         26    0.895 0.654 0.756   8     0.500 0.250 0.333\n",
      "Epoch: 70  Train Loss:   1.6867  Acc: 98.35  Val  Loss   0.6842  Acc: 91.45\n"
     ]
    },
    {
     "name": "stderr",
     "output_type": "stream",
     "text": [
      "100%|███████████████████████████████████████████| 27/27 [00:01<00:00, 20.84it/s]\n",
      "100%|█████████████████████████████████████████████| 4/4 [00:00<00:00, 77.46it/s]\n",
      " 11%|████▉                                       | 3/27 [00:00<00:01, 22.11it/s]"
     ]
    },
    {
     "name": "stdout",
     "output_type": "stream",
     "text": [
      "Epoch: 71  Train Loss:   1.4390  Acc: 98.70  Val  Loss   0.4810  Acc: 97.44\n"
     ]
    },
    {
     "name": "stderr",
     "output_type": "stream",
     "text": [
      "100%|███████████████████████████████████████████| 27/27 [00:01<00:00, 20.92it/s]\n",
      "100%|█████████████████████████████████████████████| 4/4 [00:00<00:00, 75.95it/s]\n",
      "  7%|███▎                                        | 2/27 [00:00<00:01, 16.58it/s]"
     ]
    },
    {
     "name": "stdout",
     "output_type": "stream",
     "text": [
      "Epoch: 72  Train Loss:   1.6725  Acc: 97.76  Val  Loss   0.6995  Acc: 94.02\n"
     ]
    },
    {
     "name": "stderr",
     "output_type": "stream",
     "text": [
      "100%|███████████████████████████████████████████| 27/27 [00:01<00:00, 20.86it/s]\n",
      "100%|█████████████████████████████████████████████| 4/4 [00:00<00:00, 77.63it/s]\n",
      " 11%|████▉                                       | 3/27 [00:00<00:01, 22.42it/s]"
     ]
    },
    {
     "name": "stdout",
     "output_type": "stream",
     "text": [
      "Epoch: 73  Train Loss:   1.2896  Acc: 98.23  Val  Loss   0.7824  Acc: 94.02\n"
     ]
    },
    {
     "name": "stderr",
     "output_type": "stream",
     "text": [
      "100%|███████████████████████████████████████████| 27/27 [00:01<00:00, 20.83it/s]\n",
      "100%|█████████████████████████████████████████████| 4/4 [00:00<00:00, 77.34it/s]\n",
      " 11%|████▉                                       | 3/27 [00:00<00:01, 21.87it/s]"
     ]
    },
    {
     "name": "stdout",
     "output_type": "stream",
     "text": [
      "Epoch: 74  Train Loss:   0.8105  Acc: 99.18  Val  Loss   0.7358  Acc: 93.16\n"
     ]
    },
    {
     "name": "stderr",
     "output_type": "stream",
     "text": [
      "100%|███████████████████████████████████████████| 27/27 [00:01<00:00, 20.82it/s]\n",
      "100%|█████████████████████████████████████████████| 4/4 [00:00<00:00, 77.39it/s]\n",
      "  7%|███▎                                        | 2/27 [00:00<00:01, 17.39it/s]"
     ]
    },
    {
     "name": "stdout",
     "output_type": "stream",
     "text": [
      "Epoch: 75  Train Loss:   0.6896  Acc: 99.41  Val  Loss   0.9933  Acc: 94.02\n"
     ]
    },
    {
     "name": "stderr",
     "output_type": "stream",
     "text": [
      "100%|███████████████████████████████████████████| 27/27 [00:01<00:00, 21.02it/s]\n",
      "100%|█████████████████████████████████████████████| 4/4 [00:00<00:00, 77.52it/s]\n",
      " 11%|████▉                                       | 3/27 [00:00<00:01, 22.30it/s]"
     ]
    },
    {
     "name": "stdout",
     "output_type": "stream",
     "text": [
      "Epoch: 76  Train Loss:   0.4736  Acc: 99.53  Val  Loss   0.9344  Acc: 94.02\n"
     ]
    },
    {
     "name": "stderr",
     "output_type": "stream",
     "text": [
      "100%|███████████████████████████████████████████| 27/27 [00:01<00:00, 20.88it/s]\n",
      "100%|█████████████████████████████████████████████| 4/4 [00:00<00:00, 79.37it/s]\n",
      " 11%|████▉                                       | 3/27 [00:00<00:01, 21.36it/s]"
     ]
    },
    {
     "name": "stdout",
     "output_type": "stream",
     "text": [
      "Epoch: 77  Train Loss:   1.5379  Acc: 98.47  Val  Loss   1.4016  Acc: 93.16\n"
     ]
    },
    {
     "name": "stderr",
     "output_type": "stream",
     "text": [
      "100%|███████████████████████████████████████████| 27/27 [00:01<00:00, 21.10it/s]\n",
      "100%|█████████████████████████████████████████████| 4/4 [00:00<00:00, 77.82it/s]\n",
      " 11%|████▉                                       | 3/27 [00:00<00:01, 21.19it/s]"
     ]
    },
    {
     "name": "stdout",
     "output_type": "stream",
     "text": [
      "Epoch: 78  Train Loss:  13.8145  Acc: 89.16  Val  Loss   1.5833  Acc: 90.60\n"
     ]
    },
    {
     "name": "stderr",
     "output_type": "stream",
     "text": [
      "100%|███████████████████████████████████████████| 27/27 [00:01<00:00, 20.87it/s]\n",
      "100%|█████████████████████████████████████████████| 4/4 [00:00<00:00, 77.82it/s]\n",
      " 11%|████▉                                       | 3/27 [00:00<00:01, 22.12it/s]"
     ]
    },
    {
     "name": "stdout",
     "output_type": "stream",
     "text": [
      "Epoch: 79  Train Loss:   5.5561  Acc: 94.82  Val  Loss   0.8362  Acc: 93.16\n"
     ]
    },
    {
     "name": "stderr",
     "output_type": "stream",
     "text": [
      "100%|███████████████████████████████████████████| 27/27 [00:01<00:00, 20.97it/s]\n",
      "100%|█████████████████████████████████████████████| 4/4 [00:00<00:00, 77.67it/s]\n",
      " 11%|████▉                                       | 3/27 [00:00<00:01, 21.74it/s]"
     ]
    },
    {
     "name": "stdout",
     "output_type": "stream",
     "text": [
      "E1         373   0.987 0.992 0.989   58    0.935 1.000 0.967\n",
      "C          206   1.000 1.000 1.000   24    1.000 1.000 1.000\n",
      "E2         123   0.992 0.976 0.984   17    1.000 1.000 1.000\n",
      "A          47    0.959 1.000 0.979   6     1.000 0.833 0.909\n",
      "E4         41    0.919 0.829 0.872   3     0.750 1.000 0.857\n",
      "B          33    0.756 0.939 0.838   1     0.000 0.000   nan\n",
      "E3         26    0.800 0.615 0.696   8     1.000 0.500 0.667\n",
      "Epoch: 80  Train Loss:   2.8474  Acc: 97.06  Val  Loss   0.5603  Acc: 94.87\n"
     ]
    },
    {
     "name": "stderr",
     "output_type": "stream",
     "text": [
      "100%|███████████████████████████████████████████| 27/27 [00:01<00:00, 20.93it/s]\n",
      "100%|█████████████████████████████████████████████| 4/4 [00:00<00:00, 76.07it/s]\n",
      "  7%|███▎                                        | 2/27 [00:00<00:01, 17.59it/s]"
     ]
    },
    {
     "name": "stdout",
     "output_type": "stream",
     "text": [
      "Epoch: 81  Train Loss:   1.8780  Acc: 97.88  Val  Loss   0.5661  Acc: 94.87\n"
     ]
    },
    {
     "name": "stderr",
     "output_type": "stream",
     "text": [
      "100%|███████████████████████████████████████████| 27/27 [00:01<00:00, 20.98it/s]\n",
      "100%|█████████████████████████████████████████████| 4/4 [00:00<00:00, 75.77it/s]\n",
      " 11%|████▉                                       | 3/27 [00:00<00:01, 21.89it/s]"
     ]
    },
    {
     "name": "stdout",
     "output_type": "stream",
     "text": [
      "Epoch: 82  Train Loss:   1.2118  Acc: 98.59  Val  Loss   0.6590  Acc: 95.73\n"
     ]
    },
    {
     "name": "stderr",
     "output_type": "stream",
     "text": [
      "100%|███████████████████████████████████████████| 27/27 [00:01<00:00, 20.91it/s]\n",
      "100%|█████████████████████████████████████████████| 4/4 [00:00<00:00, 77.36it/s]\n",
      "  7%|███▎                                        | 2/27 [00:00<00:01, 17.50it/s]"
     ]
    },
    {
     "name": "stdout",
     "output_type": "stream",
     "text": [
      "Epoch: 83  Train Loss:   0.8665  Acc: 99.18  Val  Loss   0.7440  Acc: 93.16\n"
     ]
    },
    {
     "name": "stderr",
     "output_type": "stream",
     "text": [
      "100%|███████████████████████████████████████████| 27/27 [00:01<00:00, 20.96it/s]\n",
      "100%|█████████████████████████████████████████████| 4/4 [00:00<00:00, 76.54it/s]\n",
      " 11%|████▉                                       | 3/27 [00:00<00:01, 21.32it/s]"
     ]
    },
    {
     "name": "stdout",
     "output_type": "stream",
     "text": [
      "Epoch: 84  Train Loss:   0.9579  Acc: 98.47  Val  Loss   0.7999  Acc: 95.73\n"
     ]
    },
    {
     "name": "stderr",
     "output_type": "stream",
     "text": [
      "100%|███████████████████████████████████████████| 27/27 [00:01<00:00, 20.87it/s]\n",
      "100%|█████████████████████████████████████████████| 4/4 [00:00<00:00, 77.76it/s]\n",
      " 11%|████▉                                       | 3/27 [00:00<00:01, 23.13it/s]"
     ]
    },
    {
     "name": "stdout",
     "output_type": "stream",
     "text": [
      "Epoch: 85  Train Loss:   0.7049  Acc: 99.41  Val  Loss   0.7685  Acc: 95.73\n"
     ]
    },
    {
     "name": "stderr",
     "output_type": "stream",
     "text": [
      "100%|███████████████████████████████████████████| 27/27 [00:01<00:00, 20.93it/s]\n",
      "100%|█████████████████████████████████████████████| 4/4 [00:00<00:00, 77.70it/s]\n",
      " 11%|████▉                                       | 3/27 [00:00<00:01, 22.44it/s]"
     ]
    },
    {
     "name": "stdout",
     "output_type": "stream",
     "text": [
      "Epoch: 86  Train Loss:   0.4351  Acc: 99.65  Val  Loss   0.8386  Acc: 95.73\n"
     ]
    },
    {
     "name": "stderr",
     "output_type": "stream",
     "text": [
      "100%|███████████████████████████████████████████| 27/27 [00:01<00:00, 20.96it/s]\n",
      "100%|█████████████████████████████████████████████| 4/4 [00:00<00:00, 76.76it/s]\n",
      " 11%|████▉                                       | 3/27 [00:00<00:01, 21.27it/s]"
     ]
    },
    {
     "name": "stdout",
     "output_type": "stream",
     "text": [
      "Epoch: 87  Train Loss:   0.4237  Acc: 99.41  Val  Loss   0.8310  Acc: 94.87\n"
     ]
    },
    {
     "name": "stderr",
     "output_type": "stream",
     "text": [
      "100%|███████████████████████████████████████████| 27/27 [00:01<00:00, 20.89it/s]\n",
      "100%|█████████████████████████████████████████████| 4/4 [00:00<00:00, 77.41it/s]\n",
      " 11%|████▉                                       | 3/27 [00:00<00:01, 22.39it/s]"
     ]
    },
    {
     "name": "stdout",
     "output_type": "stream",
     "text": [
      "Epoch: 88  Train Loss:   0.5584  Acc: 99.53  Val  Loss   0.6749  Acc: 94.87\n"
     ]
    },
    {
     "name": "stderr",
     "output_type": "stream",
     "text": [
      "100%|███████████████████████████████████████████| 27/27 [00:01<00:00, 20.90it/s]\n",
      "100%|█████████████████████████████████████████████| 4/4 [00:00<00:00, 77.64it/s]\n",
      " 11%|████▉                                       | 3/27 [00:00<00:01, 20.24it/s]"
     ]
    },
    {
     "name": "stdout",
     "output_type": "stream",
     "text": [
      "Epoch: 89  Train Loss:   0.4439  Acc: 99.65  Val  Loss   0.3900  Acc: 96.58\n"
     ]
    },
    {
     "name": "stderr",
     "output_type": "stream",
     "text": [
      "100%|███████████████████████████████████████████| 27/27 [00:01<00:00, 21.00it/s]\n",
      "100%|█████████████████████████████████████████████| 4/4 [00:00<00:00, 77.11it/s]\n",
      "  7%|███▎                                        | 2/27 [00:00<00:01, 17.24it/s]"
     ]
    },
    {
     "name": "stdout",
     "output_type": "stream",
     "text": [
      "E1         373   0.995 1.000 0.997   58    0.935 1.000 0.967\n",
      "C          206   1.000 1.000 1.000   24    1.000 1.000 1.000\n",
      "E2         123   1.000 0.992 0.996   17    1.000 1.000 1.000\n",
      "A          47    1.000 1.000 1.000   6     1.000 0.833 0.909\n",
      "E4         41    1.000 0.976 0.988   3     1.000 1.000 1.000\n",
      "B          33    1.000 1.000 1.000   1     0.500 1.000 0.667\n",
      "E3         26    0.962 0.962 0.962   8     1.000 0.500 0.667\n",
      "Epoch: 90  Train Loss:   0.2915  Acc: 99.65  Val  Loss   0.5961  Acc: 95.73\n"
     ]
    },
    {
     "name": "stderr",
     "output_type": "stream",
     "text": [
      "100%|███████████████████████████████████████████| 27/27 [00:01<00:00, 20.88it/s]\n",
      "100%|█████████████████████████████████████████████| 4/4 [00:00<00:00, 77.06it/s]\n",
      " 11%|████▉                                       | 3/27 [00:00<00:01, 22.31it/s]"
     ]
    },
    {
     "name": "stdout",
     "output_type": "stream",
     "text": [
      "Epoch: 91  Train Loss:   0.2130  Acc: 99.76  Val  Loss   0.6980  Acc: 96.58\n"
     ]
    },
    {
     "name": "stderr",
     "output_type": "stream",
     "text": [
      "100%|███████████████████████████████████████████| 27/27 [00:01<00:00, 20.87it/s]\n",
      "100%|█████████████████████████████████████████████| 4/4 [00:00<00:00, 76.27it/s]\n",
      " 11%|████▉                                       | 3/27 [00:00<00:01, 21.25it/s]"
     ]
    },
    {
     "name": "stdout",
     "output_type": "stream",
     "text": [
      "Epoch: 92  Train Loss:   0.3306  Acc: 99.65  Val  Loss   1.3250  Acc: 94.02\n"
     ]
    },
    {
     "name": "stderr",
     "output_type": "stream",
     "text": [
      "100%|███████████████████████████████████████████| 27/27 [00:01<00:00, 21.11it/s]\n",
      "100%|█████████████████████████████████████████████| 4/4 [00:00<00:00, 77.44it/s]\n",
      " 11%|████▉                                       | 3/27 [00:00<00:01, 22.47it/s]"
     ]
    },
    {
     "name": "stdout",
     "output_type": "stream",
     "text": [
      "Epoch: 93  Train Loss:   0.4340  Acc: 99.76  Val  Loss   0.6485  Acc: 95.73\n"
     ]
    },
    {
     "name": "stderr",
     "output_type": "stream",
     "text": [
      "100%|███████████████████████████████████████████| 27/27 [00:01<00:00, 20.94it/s]\n",
      "100%|█████████████████████████████████████████████| 4/4 [00:00<00:00, 77.05it/s]\n",
      " 11%|████▉                                       | 3/27 [00:00<00:01, 21.94it/s]"
     ]
    },
    {
     "name": "stdout",
     "output_type": "stream",
     "text": [
      "Epoch: 94  Train Loss:   0.2643  Acc: 99.76  Val  Loss   0.5922  Acc: 95.73\n"
     ]
    },
    {
     "name": "stderr",
     "output_type": "stream",
     "text": [
      "100%|███████████████████████████████████████████| 27/27 [00:01<00:00, 21.06it/s]\n",
      "100%|█████████████████████████████████████████████| 4/4 [00:00<00:00, 77.63it/s]\n",
      "  7%|███▎                                        | 2/27 [00:00<00:01, 16.17it/s]"
     ]
    },
    {
     "name": "stdout",
     "output_type": "stream",
     "text": [
      "Epoch: 95  Train Loss:   0.3256  Acc: 99.65  Val  Loss   0.9464  Acc: 94.87\n"
     ]
    },
    {
     "name": "stderr",
     "output_type": "stream",
     "text": [
      "100%|███████████████████████████████████████████| 27/27 [00:01<00:00, 20.87it/s]\n",
      "100%|█████████████████████████████████████████████| 4/4 [00:00<00:00, 77.53it/s]\n",
      " 11%|████▉                                       | 3/27 [00:00<00:01, 22.90it/s]"
     ]
    },
    {
     "name": "stdout",
     "output_type": "stream",
     "text": [
      "Epoch: 96  Train Loss:   0.3974  Acc: 99.65  Val  Loss   0.5844  Acc: 95.73\n"
     ]
    },
    {
     "name": "stderr",
     "output_type": "stream",
     "text": [
      "100%|███████████████████████████████████████████| 27/27 [00:01<00:00, 21.09it/s]\n",
      "100%|█████████████████████████████████████████████| 4/4 [00:00<00:00, 77.49it/s]\n",
      " 11%|████▉                                       | 3/27 [00:00<00:01, 21.75it/s]"
     ]
    },
    {
     "name": "stdout",
     "output_type": "stream",
     "text": [
      "Epoch: 97  Train Loss:   0.2842  Acc: 99.76  Val  Loss   0.4406  Acc: 96.58\n"
     ]
    },
    {
     "name": "stderr",
     "output_type": "stream",
     "text": [
      "100%|███████████████████████████████████████████| 27/27 [00:01<00:00, 20.90it/s]\n",
      "100%|█████████████████████████████████████████████| 4/4 [00:00<00:00, 76.55it/s]\n",
      " 11%|████▉                                       | 3/27 [00:00<00:01, 23.51it/s]"
     ]
    },
    {
     "name": "stdout",
     "output_type": "stream",
     "text": [
      "Epoch: 98  Train Loss:   0.1945  Acc: 99.76  Val  Loss   0.7454  Acc: 95.73\n"
     ]
    },
    {
     "name": "stderr",
     "output_type": "stream",
     "text": [
      "100%|███████████████████████████████████████████| 27/27 [00:01<00:00, 20.99it/s]\n",
      "100%|█████████████████████████████████████████████| 4/4 [00:00<00:00, 77.23it/s]\n",
      " 11%|████▉                                       | 3/27 [00:00<00:01, 21.40it/s]"
     ]
    },
    {
     "name": "stdout",
     "output_type": "stream",
     "text": [
      "Epoch: 99  Train Loss:   0.2564  Acc: 99.65  Val  Loss   0.6213  Acc: 96.58\n"
     ]
    },
    {
     "name": "stderr",
     "output_type": "stream",
     "text": [
      "100%|███████████████████████████████████████████| 27/27 [00:01<00:00, 20.87it/s]\n",
      "100%|█████████████████████████████████████████████| 4/4 [00:00<00:00, 77.00it/s]"
     ]
    },
    {
     "name": "stdout",
     "output_type": "stream",
     "text": [
      "E1         373   0.995 1.000 0.997   58    0.951 1.000 0.975\n",
      "C          206   1.000 1.000 1.000   24    1.000 1.000 1.000\n",
      "E2         123   1.000 0.992 0.996   17    1.000 1.000 1.000\n",
      "A          47    1.000 1.000 1.000   6     1.000 0.833 0.909\n",
      "E4         41    1.000 1.000 1.000   3     1.000 1.000 1.000\n",
      "B          33    1.000 1.000 1.000   1     0.500 1.000 0.667\n",
      "E3         26    1.000 0.962 0.980   8     1.000 0.625 0.769\n",
      "Epoch: 100  Train Loss:   0.1587  Acc: 99.76  Val  Loss   0.7035  Acc: 96.58\n"
     ]
    },
    {
     "name": "stderr",
     "output_type": "stream",
     "text": [
      "\n"
     ]
    }
   ],
   "source": [
    "###############################################################################\n",
    "##    Training Loop\n",
    "###############################################################################\n",
    "#torch.cuda.manual_seed(20180119)  <-- set a value for consistency\n",
    "if args.load != '':\n",
    "    net = torch.load(args.load)                             # Load Saved Model\n",
    "    net.to(device)\n",
    "    if args.confusion:\n",
    "        loss, acc = run_evaluation(net, t_inps, t_outs, t_strs, aggregate=args.load_test != '')\n",
    "    else:\n",
    "        loss, acc = run_evaluation(net, t_inps, t_outs, t_strs, aggregate=args.load_test != '')\n",
    "    print(\"Acc: {:5.3f}\".format(acc))\n",
    "    if args.load_test != '':\n",
    "        print_predictors(net, \"test\")\n",
    "    sys.exit()\n",
    "else:\n",
    "    net = Net()\n",
    "    net.to(device)\n",
    "\n",
    "optimizer = torch.optim.Adam(net.parameters(), lr=args.lr)\n",
    "\n",
    "\"\"\"\n",
    "  Perform training\n",
    "\"\"\"\n",
    "prev_acc = 0\n",
    "for epoch in range(0, args.epochs + 1):\n",
    "\n",
    "    batches = []\n",
    "    indices = list(range(len(inps)))\n",
    "    for start in range(0, len(indices), args.batch_size):\n",
    "        batches.append((start, min(args.batch_size, len(indices)-start)))\n",
    "    random.shuffle(batches)\n",
    "\n",
    "    total_loss = 0.0\n",
    "    train_acc = []\n",
    "  \n",
    "    net.reset_counts(epoch)\n",
    "    for start, b_size in tqdm(batches, ncols=80):\n",
    "        r = indices[start : start + b_size]\n",
    "        \n",
    "        # Setup\n",
    "        optimizer.zero_grad()\n",
    "        inputs = torch.from_numpy(pad_data(inps[indices[start] : indices[start+b_size-1] + 1])).to(device)\n",
    "        labels = torch.from_numpy(outs[r]).to(device)\n",
    "\n",
    "        # Predict\n",
    "        net.train(mode=True)\n",
    "        logits, att, full = net(inputs)\n",
    "        if args.reweight:\n",
    "            ce_loss = F.cross_entropy(logits, labels, weight=weight)\n",
    "        else:\n",
    "            ce_loss = F.cross_entropy(logits, labels)\n",
    "        att = F.softmax(torch.squeeze(att), dim=-1)\n",
    "    \n",
    "        # Compute loss and update\n",
    "        loss = ce_loss\n",
    "        total_loss += ce_loss.item()\n",
    "        loss.backward()\n",
    "        optimizer.step()\n",
    "    \n",
    "        # Look at predictions\n",
    "        _, preds = torch.max(logits, 1)\n",
    "        dists = full.permute(0,2,1).cpu().data.numpy()\n",
    "    \n",
    "        preds = preds.data.cpu().numpy()\n",
    "        np.add.at(net.pred_counts, preds, 1)\n",
    "        np.add.at(net.gold_counts, outs[r], 1)\n",
    "        np.add.at(net.corr_counts, preds[preds == outs[r]], 1)\n",
    "\n",
    "        train_acc.extend(list(preds == outs[r]))\n",
    "  \n",
    "    # Evaluate on validation (during training)\n",
    "    val_loss, val_acc = run_evaluation(net, t_inps, t_outs, t_strs, verbose=(epoch % 10 == 0 or epoch == args.epochs))\n",
    "\n",
    "    print(\"Epoch: {}  Train Loss: {:8.4f}  Acc: {:5.2f}  Val  Loss {:8.4f}  Acc: {:5.2f}\".format(epoch, \n",
    "          total_loss, 100*np.array(train_acc).mean(), val_loss, val_acc))\n",
    "\n",
    "    # Save best validation model for optimal generalization\n",
    "    if val_acc > prev_acc:\n",
    "        prev_acc = val_acc\n",
    "        pref = \"nitro\" if args.nitro else \"bd\" if args.bd else \"hco\"\n",
    "        torch.save(net, \"{}.{}.model\".format(pref, run))\n",
    "\n",
    "out = torch.cat((net.embedding.weight.data, torch.ones(len(acids), 1).to(device)), 1)"
   ]
  },
  {
   "cell_type": "markdown",
   "metadata": {},
   "source": [
    "Above is an example run of 100 epochs with training (left) and validation (right) precision, recall and F1 printed for every class.  Additionally, we print the overall  losses and accuracies after every epoch.  Note, these do not decrease monitonically but in general the model does perform better after some backtracking.  For most use cases a  shorter training regime is probably sufficient."
   ]
  },
  {
   "cell_type": "code",
   "execution_count": 8,
   "metadata": {
    "scrolled": true
   },
   "outputs": [
    {
     "name": "stderr",
     "output_type": "stream",
     "text": [
      "100%|███████████████████████████████████████████| 27/27 [01:13<00:00,  2.72s/it]\n"
     ]
    },
    {
     "name": "stdout",
     "output_type": "stream",
     "text": [
      "E1         373   0.997 0.997 0.997   \n",
      "C          206   1.000 1.000 1.000   \n",
      "E2         123   0.992 0.992 0.992   \n",
      "A          47    1.000 1.000 1.000   \n",
      "E4         41    1.000 1.000 1.000   \n",
      "B          33    1.000 1.000 1.000   \n",
      "E3         26    0.962 0.962 0.962   \n",
      "Acc: 99.647\n"
     ]
    }
   ],
   "source": [
    "args.load = \"bd.multi.e100.h256.b32.model\"\n",
    "net = torch.load(args.load)                             # Load Saved Model\n",
    "net.to(device)\n",
    "\n",
    "# Run evaluation with best validation model on training\n",
    "val = [line.strip().split() for line in open(DATA_DIR + prefix + \".train\",'r')]\n",
    "t_strs = np.array([sequence for label, sequence in val])\n",
    "t_inps = [to_int(sequence) for label, sequence in val]\n",
    "t_outs = np.array([lbls[label] for label, sequence in val])\n",
    "\n",
    "args.confusion = True\n",
    "args.pconfusion = False\n",
    "loss, acc = run_evaluation(net, t_inps, t_outs, t_strs, aggregate=True, verbose=True)\n",
    "print_predictors(net, \"final\")\n",
    "print(\"Acc: {:5.3f}\".format(acc))"
   ]
  },
  {
   "cell_type": "code",
   "execution_count": 9,
   "metadata": {},
   "outputs": [],
   "source": [
    "# Print confusion matrix on training data\n",
    "import seaborn as sn\n",
    "import pandas as pd\n",
    "import matplotlib.pyplot as plt\n",
    "data = [line.strip().replace(\"[\",\"\").replace(\"]\",\"\").split(\",\") for line in open(\"confusion.csv\")]\n",
    "labels = data[0][1:]\n",
    "data = [[float(v) for v in line[1:-1]] for line in data[1:]]\n",
    "df = pd.DataFrame(data, index = [i for i in labels], columns = [i for i in labels])\n",
    "df_norm_col = df.div(df.sum(axis=1), axis=0)\n",
    "plt.figure(figsize = (10,7))\n",
    "_ = sn.heatmap(df_norm_col, annot=True)"
   ]
  },
  {
   "cell_type": "code",
   "execution_count": 10,
   "metadata": {},
   "outputs": [
    {
     "name": "stderr",
     "output_type": "stream",
     "text": [
      "100%|█████████████████████████████████████████████| 4/4 [00:00<00:00, 73.58it/s]"
     ]
    },
    {
     "name": "stdout",
     "output_type": "stream",
     "text": [
      "E1         58    0.967 1.000 0.983   \n",
      "C          24    1.000 1.000 1.000   \n",
      "E2         17    1.000 1.000 1.000   \n",
      "E3         8     1.000 0.750 0.857   \n",
      "A          6     1.000 1.000 1.000   \n",
      "E4         3     1.000 1.000 1.000   \n",
      "B          1     1.000 1.000 1.000   \n",
      "Acc: 98.291\n"
     ]
    },
    {
     "name": "stderr",
     "output_type": "stream",
     "text": [
      "\n"
     ]
    }
   ],
   "source": [
    "# Run evaluation with best validation model on validation\n",
    "val = [line.strip().split() for line in open(DATA_DIR + prefix + \".val\",'r')]\n",
    "t_strs = np.array([sequence for label, sequence in val])\n",
    "t_inps = [to_int(sequence) for label, sequence in val]\n",
    "t_outs = np.array([lbls[label] for label, sequence in val])\n",
    "args.confusion = True\n",
    "args.pconfusion = False\n",
    "loss, acc = run_evaluation(net, t_inps, t_outs, showTrain=False, verbose=True)\n",
    "print(\"Acc: {:5.3f}\".format(acc))"
   ]
  },
  {
   "cell_type": "code",
   "execution_count": 11,
   "metadata": {},
   "outputs": [
    {
     "name": "stderr",
     "output_type": "stream",
     "text": [
      "100%|█████████████████████████████████████████████| 8/8 [00:00<00:00, 80.60it/s]"
     ]
    },
    {
     "name": "stdout",
     "output_type": "stream",
     "text": [
      "E1         118   0.992 1.000 0.996   \n",
      "C          51    0.981 1.000 0.990   \n",
      "E2         33    1.000 1.000 1.000   \n",
      "A          21    1.000 1.000 1.000   \n",
      "E3         10    1.000 0.900 0.947   \n",
      "E4         9     0.900 1.000 0.947   \n",
      "B          7     1.000 0.714 0.833   \n",
      "Acc: 98.795\n"
     ]
    },
    {
     "name": "stderr",
     "output_type": "stream",
     "text": [
      "\n"
     ]
    }
   ],
   "source": [
    "# Run evaluation with best validation model on test\n",
    "val = [line.strip().split() for line in open(DATA_DIR + prefix + \".test\",'r')]\n",
    "t_strs = np.array([sequence for label, sequence in val])\n",
    "t_inps = [to_int(sequence) for label, sequence in val]\n",
    "t_outs = np.array([lbls[label] for label, sequence in val])\n",
    "loss, acc = run_evaluation(net, t_inps, t_outs, showTrain=False, verbose=True)\n",
    "print(\"Acc: {:5.3f}\".format(acc))"
   ]
  }
 ],
 "metadata": {
  "kernelspec": {
   "display_name": "Python 3",
   "language": "python",
   "name": "python3"
  },
  "language_info": {
   "codemirror_mode": {
    "name": "ipython",
    "version": 3
   },
   "file_extension": ".py",
   "mimetype": "text/x-python",
   "name": "python",
   "nbconvert_exporter": "python",
   "pygments_lexer": "ipython3",
   "version": "3.6.7"
  }
 },
 "nbformat": 4,
 "nbformat_minor": 2
}
